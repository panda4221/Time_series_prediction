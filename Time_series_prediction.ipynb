{
 "cells": [
  {
   "cell_type": "markdown",
   "metadata": {},
   "source": [
    "#  Прогнозирование заказов такси"
   ]
  },
  {
   "cell_type": "markdown",
   "metadata": {},
   "source": [
    "Компания «Чётенькое такси» собрала исторические данные о заказах такси в аэропортах. Чтобы привлекать больше водителей в период пиковой нагрузки, нужно спрогнозировать количество заказов такси на следующий час. Постройте модель для такого предсказания.\n",
    "\n",
    "Значение метрики *RMSE* на тестовой выборке должно быть не больше 48.\n",
    "\n",
    "Вам нужно:\n",
    "\n",
    "1. Загрузить данные и выполнить их ресемплирование по одному часу.\n",
    "2. Проанализировать данные.\n",
    "3. Обучить разные модели с различными гиперпараметрами. Сделать тестовую выборку размером 10% от исходных данных.\n",
    "4. Проверить данные на тестовой выборке и сделать выводы.\n",
    "\n",
    "\n",
    "Данные лежат в файле `taxi.csv`. Количество заказов находится в столбце `num_orders` (от англ. *number of orders*, «число заказов»)."
   ]
  },
  {
   "cell_type": "markdown",
   "metadata": {},
   "source": [
    "## Подготовка\n",
    "\n",
    "Для начала загрузим все необходимые библиотеки."
   ]
  },
  {
   "cell_type": "code",
   "execution_count": 1,
   "metadata": {},
   "outputs": [],
   "source": [
    "import pandas as pd\n",
    "import matplotlib.pyplot as plt\n",
    "import seaborn as sns\n",
    "from statsmodels.tsa.seasonal import seasonal_decompose\n",
    "from sklearn.model_selection import train_test_split, TimeSeriesSplit, GridSearchCV\n",
    "from sklearn.metrics import mean_squared_error\n",
    "\n",
    "from sklearn.linear_model import LinearRegression\n",
    "from sklearn.tree import DecisionTreeRegressor\n",
    "from sklearn.ensemble import RandomForestRegressor\n",
    "from catboost import CatBoostRegressor, Pool\n",
    "import xgboost as xgb\n",
    "from statsmodels.tsa.arima.model import ARIMA\n",
    "import warnings\n",
    "warnings.filterwarnings(\"ignore\")"
   ]
  },
  {
   "cell_type": "markdown",
   "metadata": {},
   "source": [
    "- Загрузка данных\n",
    "\n",
    "При загрузке данных определим колонку для индексов `datetime` и произведем парсинг этой колонки по датам. Сразу отсортируем индекс по дате, поскольку далее будем решать задачу временного ряда и нам важна последовательность."
   ]
  },
  {
   "cell_type": "code",
   "execution_count": 2,
   "metadata": {},
   "outputs": [
    {
     "data": {
      "text/html": [
       "<div>\n",
       "<style scoped>\n",
       "    .dataframe tbody tr th:only-of-type {\n",
       "        vertical-align: middle;\n",
       "    }\n",
       "\n",
       "    .dataframe tbody tr th {\n",
       "        vertical-align: top;\n",
       "    }\n",
       "\n",
       "    .dataframe thead th {\n",
       "        text-align: right;\n",
       "    }\n",
       "</style>\n",
       "<table border=\"1\" class=\"dataframe\">\n",
       "  <thead>\n",
       "    <tr style=\"text-align: right;\">\n",
       "      <th></th>\n",
       "      <th>num_orders</th>\n",
       "    </tr>\n",
       "    <tr>\n",
       "      <th>datetime</th>\n",
       "      <th></th>\n",
       "    </tr>\n",
       "  </thead>\n",
       "  <tbody>\n",
       "    <tr>\n",
       "      <th>2018-03-01 00:00:00</th>\n",
       "      <td>9</td>\n",
       "    </tr>\n",
       "    <tr>\n",
       "      <th>2018-03-01 00:10:00</th>\n",
       "      <td>14</td>\n",
       "    </tr>\n",
       "    <tr>\n",
       "      <th>2018-03-01 00:20:00</th>\n",
       "      <td>28</td>\n",
       "    </tr>\n",
       "    <tr>\n",
       "      <th>2018-03-01 00:30:00</th>\n",
       "      <td>20</td>\n",
       "    </tr>\n",
       "    <tr>\n",
       "      <th>2018-03-01 00:40:00</th>\n",
       "      <td>32</td>\n",
       "    </tr>\n",
       "    <tr>\n",
       "      <th>...</th>\n",
       "      <td>...</td>\n",
       "    </tr>\n",
       "    <tr>\n",
       "      <th>2018-08-31 23:10:00</th>\n",
       "      <td>32</td>\n",
       "    </tr>\n",
       "    <tr>\n",
       "      <th>2018-08-31 23:20:00</th>\n",
       "      <td>24</td>\n",
       "    </tr>\n",
       "    <tr>\n",
       "      <th>2018-08-31 23:30:00</th>\n",
       "      <td>27</td>\n",
       "    </tr>\n",
       "    <tr>\n",
       "      <th>2018-08-31 23:40:00</th>\n",
       "      <td>39</td>\n",
       "    </tr>\n",
       "    <tr>\n",
       "      <th>2018-08-31 23:50:00</th>\n",
       "      <td>53</td>\n",
       "    </tr>\n",
       "  </tbody>\n",
       "</table>\n",
       "<p>26496 rows × 1 columns</p>\n",
       "</div>"
      ],
      "text/plain": [
       "                     num_orders\n",
       "datetime                       \n",
       "2018-03-01 00:00:00           9\n",
       "2018-03-01 00:10:00          14\n",
       "2018-03-01 00:20:00          28\n",
       "2018-03-01 00:30:00          20\n",
       "2018-03-01 00:40:00          32\n",
       "...                         ...\n",
       "2018-08-31 23:10:00          32\n",
       "2018-08-31 23:20:00          24\n",
       "2018-08-31 23:30:00          27\n",
       "2018-08-31 23:40:00          39\n",
       "2018-08-31 23:50:00          53\n",
       "\n",
       "[26496 rows x 1 columns]"
      ]
     },
     "execution_count": 2,
     "metadata": {},
     "output_type": "execute_result"
    }
   ],
   "source": [
    "data = pd.read_csv('/datasets/taxi.csv', index_col=[0], parse_dates=[0])\n",
    "data.sort_index(inplace=True)\n",
    "data"
   ]
  },
  {
   "cell_type": "markdown",
   "metadata": {},
   "source": [
    "Посмотрим информацию по датасету."
   ]
  },
  {
   "cell_type": "code",
   "execution_count": 3,
   "metadata": {},
   "outputs": [
    {
     "name": "stdout",
     "output_type": "stream",
     "text": [
      "<class 'pandas.core.frame.DataFrame'>\n",
      "DatetimeIndex: 26496 entries, 2018-03-01 00:00:00 to 2018-08-31 23:50:00\n",
      "Data columns (total 1 columns):\n",
      " #   Column      Non-Null Count  Dtype\n",
      "---  ------      --------------  -----\n",
      " 0   num_orders  26496 non-null  int64\n",
      "dtypes: int64(1)\n",
      "memory usage: 414.0 KB\n"
     ]
    }
   ],
   "source": [
    "data.info()"
   ]
  },
  {
   "cell_type": "markdown",
   "metadata": {},
   "source": [
    "В начальном датасете мы имеем из признаков только дату и время в индексе `datetime` и количество заказов `num_orders`. Данные даны с разницей в `10 минут`."
   ]
  },
  {
   "cell_type": "markdown",
   "metadata": {},
   "source": [
    "- **Ресемплирование**\n",
    "\n",
    "Поскльку перед нами стоит задача предсказать количество заказов на час вперед, проведем ресемплирование данных с шагом в `1 час`."
   ]
  },
  {
   "cell_type": "code",
   "execution_count": 4,
   "metadata": {},
   "outputs": [
    {
     "data": {
      "text/html": [
       "<div>\n",
       "<style scoped>\n",
       "    .dataframe tbody tr th:only-of-type {\n",
       "        vertical-align: middle;\n",
       "    }\n",
       "\n",
       "    .dataframe tbody tr th {\n",
       "        vertical-align: top;\n",
       "    }\n",
       "\n",
       "    .dataframe thead th {\n",
       "        text-align: right;\n",
       "    }\n",
       "</style>\n",
       "<table border=\"1\" class=\"dataframe\">\n",
       "  <thead>\n",
       "    <tr style=\"text-align: right;\">\n",
       "      <th></th>\n",
       "      <th>num_orders</th>\n",
       "    </tr>\n",
       "    <tr>\n",
       "      <th>datetime</th>\n",
       "      <th></th>\n",
       "    </tr>\n",
       "  </thead>\n",
       "  <tbody>\n",
       "    <tr>\n",
       "      <th>2018-03-01 00:00:00</th>\n",
       "      <td>124</td>\n",
       "    </tr>\n",
       "    <tr>\n",
       "      <th>2018-03-01 01:00:00</th>\n",
       "      <td>85</td>\n",
       "    </tr>\n",
       "    <tr>\n",
       "      <th>2018-03-01 02:00:00</th>\n",
       "      <td>71</td>\n",
       "    </tr>\n",
       "    <tr>\n",
       "      <th>2018-03-01 03:00:00</th>\n",
       "      <td>66</td>\n",
       "    </tr>\n",
       "    <tr>\n",
       "      <th>2018-03-01 04:00:00</th>\n",
       "      <td>43</td>\n",
       "    </tr>\n",
       "    <tr>\n",
       "      <th>...</th>\n",
       "      <td>...</td>\n",
       "    </tr>\n",
       "    <tr>\n",
       "      <th>2018-08-31 19:00:00</th>\n",
       "      <td>136</td>\n",
       "    </tr>\n",
       "    <tr>\n",
       "      <th>2018-08-31 20:00:00</th>\n",
       "      <td>154</td>\n",
       "    </tr>\n",
       "    <tr>\n",
       "      <th>2018-08-31 21:00:00</th>\n",
       "      <td>159</td>\n",
       "    </tr>\n",
       "    <tr>\n",
       "      <th>2018-08-31 22:00:00</th>\n",
       "      <td>223</td>\n",
       "    </tr>\n",
       "    <tr>\n",
       "      <th>2018-08-31 23:00:00</th>\n",
       "      <td>205</td>\n",
       "    </tr>\n",
       "  </tbody>\n",
       "</table>\n",
       "<p>4416 rows × 1 columns</p>\n",
       "</div>"
      ],
      "text/plain": [
       "                     num_orders\n",
       "datetime                       \n",
       "2018-03-01 00:00:00         124\n",
       "2018-03-01 01:00:00          85\n",
       "2018-03-01 02:00:00          71\n",
       "2018-03-01 03:00:00          66\n",
       "2018-03-01 04:00:00          43\n",
       "...                         ...\n",
       "2018-08-31 19:00:00         136\n",
       "2018-08-31 20:00:00         154\n",
       "2018-08-31 21:00:00         159\n",
       "2018-08-31 22:00:00         223\n",
       "2018-08-31 23:00:00         205\n",
       "\n",
       "[4416 rows x 1 columns]"
      ]
     },
     "execution_count": 4,
     "metadata": {},
     "output_type": "execute_result"
    }
   ],
   "source": [
    "data = data.resample('1H').sum()\n",
    "data"
   ]
  },
  {
   "cell_type": "markdown",
   "metadata": {},
   "source": [
    "Посмотрим, как наш временной ряд выглядит на графике."
   ]
  },
  {
   "cell_type": "code",
   "execution_count": 5,
   "metadata": {},
   "outputs": [
    {
     "data": {
      "image/png": "[encoded data removed]",
      "text/plain": [
       "<Figure size 1152x576 with 1 Axes>"
      ]
     },
     "metadata": {
      "needs_background": "light"
     },
     "output_type": "display_data"
    }
   ],
   "source": [
    "data['num_orders'].plot(figsize=(16, 8))\n",
    "plt.title('Распределение количество заказов по временной шкале')\n",
    "plt.xlabel('Временная шкала')\n",
    "plt.ylabel('Количество заказов')\n",
    "plt.show()"
   ]
  },
  {
   "cell_type": "markdown",
   "metadata": {},
   "source": [
    "Мы видим, что под конец периода присутствует несколько всплесков - `более 300` заказов за час, в то время как даже самые большие пики находятся `с 200 до 250` заказов в час. Мы могли бы усреднить эти всплески, однако, они происходят в конце временного ряда и по расчетам должны войти в `10%` от популяции, которые по заданию станут тестовой выборкой. Мы не можем редактировать данные для теста, поэтому всплески не корректируем."
   ]
  },
  {
   "cell_type": "markdown",
   "metadata": {},
   "source": [
    "- **Добавление новых признаков**\n",
    "\n",
    "Добавим новые признаки в популяцию:\n",
    "- Календарные признаки `год`, `месяц` и `день месяца` для данной популяции большой роли не играют, поскольку вся популяция находится в рамках 6 месяцев одного года. А вот `день недели` и `час` заказа может помочь нам лучшить обучение модели.\n",
    "- Отстающие значения по указанному количеству сдвигов: возьмем `3 дня`, или `72 часа`.\n",
    "- Скользящее среднее и среднее стандартное отклонение со сдвигом так, чтобы целевой признак не попал в новый признак для обучения.\n",
    "- Разность временного ряда, но также со сдвигом."
   ]
  },
  {
   "cell_type": "code",
   "execution_count": 6,
   "metadata": {},
   "outputs": [
    {
     "data": {
      "text/html": [
       "<div>\n",
       "<style scoped>\n",
       "    .dataframe tbody tr th:only-of-type {\n",
       "        vertical-align: middle;\n",
       "    }\n",
       "\n",
       "    .dataframe tbody tr th {\n",
       "        vertical-align: top;\n",
       "    }\n",
       "\n",
       "    .dataframe thead th {\n",
       "        text-align: right;\n",
       "    }\n",
       "</style>\n",
       "<table border=\"1\" class=\"dataframe\">\n",
       "  <thead>\n",
       "    <tr style=\"text-align: right;\">\n",
       "      <th></th>\n",
       "      <th>num_orders</th>\n",
       "      <th>dayofweek</th>\n",
       "      <th>hour</th>\n",
       "      <th>lag_1</th>\n",
       "      <th>lag_2</th>\n",
       "      <th>lag_3</th>\n",
       "      <th>lag_4</th>\n",
       "      <th>lag_5</th>\n",
       "      <th>lag_6</th>\n",
       "      <th>lag_7</th>\n",
       "      <th>...</th>\n",
       "      <th>lag_65</th>\n",
       "      <th>lag_66</th>\n",
       "      <th>lag_67</th>\n",
       "      <th>lag_68</th>\n",
       "      <th>lag_69</th>\n",
       "      <th>lag_70</th>\n",
       "      <th>lag_71</th>\n",
       "      <th>lag_72</th>\n",
       "      <th>rolling_mean</th>\n",
       "      <th>rolling_std</th>\n",
       "    </tr>\n",
       "    <tr>\n",
       "      <th>datetime</th>\n",
       "      <th></th>\n",
       "      <th></th>\n",
       "      <th></th>\n",
       "      <th></th>\n",
       "      <th></th>\n",
       "      <th></th>\n",
       "      <th></th>\n",
       "      <th></th>\n",
       "      <th></th>\n",
       "      <th></th>\n",
       "      <th></th>\n",
       "      <th></th>\n",
       "      <th></th>\n",
       "      <th></th>\n",
       "      <th></th>\n",
       "      <th></th>\n",
       "      <th></th>\n",
       "      <th></th>\n",
       "      <th></th>\n",
       "      <th></th>\n",
       "      <th></th>\n",
       "    </tr>\n",
       "  </thead>\n",
       "  <tbody>\n",
       "    <tr>\n",
       "      <th>2018-03-11 00:00:00</th>\n",
       "      <td>81</td>\n",
       "      <td>6</td>\n",
       "      <td>0</td>\n",
       "      <td>73.0</td>\n",
       "      <td>80.0</td>\n",
       "      <td>62.0</td>\n",
       "      <td>54.0</td>\n",
       "      <td>33.0</td>\n",
       "      <td>102.0</td>\n",
       "      <td>60.0</td>\n",
       "      <td>...</td>\n",
       "      <td>19.0</td>\n",
       "      <td>6.0</td>\n",
       "      <td>6.0</td>\n",
       "      <td>60.0</td>\n",
       "      <td>68.0</td>\n",
       "      <td>65.0</td>\n",
       "      <td>78.0</td>\n",
       "      <td>143.0</td>\n",
       "      <td>54.633333</td>\n",
       "      <td>29.242725</td>\n",
       "    </tr>\n",
       "    <tr>\n",
       "      <th>2018-03-11 01:00:00</th>\n",
       "      <td>83</td>\n",
       "      <td>6</td>\n",
       "      <td>1</td>\n",
       "      <td>81.0</td>\n",
       "      <td>73.0</td>\n",
       "      <td>80.0</td>\n",
       "      <td>62.0</td>\n",
       "      <td>54.0</td>\n",
       "      <td>33.0</td>\n",
       "      <td>102.0</td>\n",
       "      <td>...</td>\n",
       "      <td>77.0</td>\n",
       "      <td>19.0</td>\n",
       "      <td>6.0</td>\n",
       "      <td>6.0</td>\n",
       "      <td>60.0</td>\n",
       "      <td>68.0</td>\n",
       "      <td>65.0</td>\n",
       "      <td>78.0</td>\n",
       "      <td>54.454167</td>\n",
       "      <td>28.946170</td>\n",
       "    </tr>\n",
       "    <tr>\n",
       "      <th>2018-03-11 02:00:00</th>\n",
       "      <td>36</td>\n",
       "      <td>6</td>\n",
       "      <td>2</td>\n",
       "      <td>83.0</td>\n",
       "      <td>81.0</td>\n",
       "      <td>73.0</td>\n",
       "      <td>80.0</td>\n",
       "      <td>62.0</td>\n",
       "      <td>54.0</td>\n",
       "      <td>33.0</td>\n",
       "      <td>...</td>\n",
       "      <td>97.0</td>\n",
       "      <td>77.0</td>\n",
       "      <td>19.0</td>\n",
       "      <td>6.0</td>\n",
       "      <td>6.0</td>\n",
       "      <td>60.0</td>\n",
       "      <td>68.0</td>\n",
       "      <td>65.0</td>\n",
       "      <td>54.445833</td>\n",
       "      <td>28.937626</td>\n",
       "    </tr>\n",
       "    <tr>\n",
       "      <th>2018-03-11 03:00:00</th>\n",
       "      <td>49</td>\n",
       "      <td>6</td>\n",
       "      <td>3</td>\n",
       "      <td>36.0</td>\n",
       "      <td>83.0</td>\n",
       "      <td>81.0</td>\n",
       "      <td>73.0</td>\n",
       "      <td>80.0</td>\n",
       "      <td>62.0</td>\n",
       "      <td>54.0</td>\n",
       "      <td>...</td>\n",
       "      <td>68.0</td>\n",
       "      <td>97.0</td>\n",
       "      <td>77.0</td>\n",
       "      <td>19.0</td>\n",
       "      <td>6.0</td>\n",
       "      <td>6.0</td>\n",
       "      <td>60.0</td>\n",
       "      <td>68.0</td>\n",
       "      <td>54.300000</td>\n",
       "      <td>28.942043</td>\n",
       "    </tr>\n",
       "    <tr>\n",
       "      <th>2018-03-11 04:00:00</th>\n",
       "      <td>30</td>\n",
       "      <td>6</td>\n",
       "      <td>4</td>\n",
       "      <td>49.0</td>\n",
       "      <td>36.0</td>\n",
       "      <td>83.0</td>\n",
       "      <td>81.0</td>\n",
       "      <td>73.0</td>\n",
       "      <td>80.0</td>\n",
       "      <td>62.0</td>\n",
       "      <td>...</td>\n",
       "      <td>80.0</td>\n",
       "      <td>68.0</td>\n",
       "      <td>97.0</td>\n",
       "      <td>77.0</td>\n",
       "      <td>19.0</td>\n",
       "      <td>6.0</td>\n",
       "      <td>6.0</td>\n",
       "      <td>60.0</td>\n",
       "      <td>54.229167</td>\n",
       "      <td>28.934090</td>\n",
       "    </tr>\n",
       "    <tr>\n",
       "      <th>...</th>\n",
       "      <td>...</td>\n",
       "      <td>...</td>\n",
       "      <td>...</td>\n",
       "      <td>...</td>\n",
       "      <td>...</td>\n",
       "      <td>...</td>\n",
       "      <td>...</td>\n",
       "      <td>...</td>\n",
       "      <td>...</td>\n",
       "      <td>...</td>\n",
       "      <td>...</td>\n",
       "      <td>...</td>\n",
       "      <td>...</td>\n",
       "      <td>...</td>\n",
       "      <td>...</td>\n",
       "      <td>...</td>\n",
       "      <td>...</td>\n",
       "      <td>...</td>\n",
       "      <td>...</td>\n",
       "      <td>...</td>\n",
       "      <td>...</td>\n",
       "    </tr>\n",
       "    <tr>\n",
       "      <th>2018-08-31 19:00:00</th>\n",
       "      <td>136</td>\n",
       "      <td>4</td>\n",
       "      <td>19</td>\n",
       "      <td>207.0</td>\n",
       "      <td>217.0</td>\n",
       "      <td>197.0</td>\n",
       "      <td>116.0</td>\n",
       "      <td>133.0</td>\n",
       "      <td>166.0</td>\n",
       "      <td>136.0</td>\n",
       "      <td>...</td>\n",
       "      <td>163.0</td>\n",
       "      <td>152.0</td>\n",
       "      <td>234.0</td>\n",
       "      <td>179.0</td>\n",
       "      <td>160.0</td>\n",
       "      <td>189.0</td>\n",
       "      <td>94.0</td>\n",
       "      <td>111.0</td>\n",
       "      <td>147.170833</td>\n",
       "      <td>59.733088</td>\n",
       "    </tr>\n",
       "    <tr>\n",
       "      <th>2018-08-31 20:00:00</th>\n",
       "      <td>154</td>\n",
       "      <td>4</td>\n",
       "      <td>20</td>\n",
       "      <td>136.0</td>\n",
       "      <td>207.0</td>\n",
       "      <td>217.0</td>\n",
       "      <td>197.0</td>\n",
       "      <td>116.0</td>\n",
       "      <td>133.0</td>\n",
       "      <td>166.0</td>\n",
       "      <td>...</td>\n",
       "      <td>126.0</td>\n",
       "      <td>163.0</td>\n",
       "      <td>152.0</td>\n",
       "      <td>234.0</td>\n",
       "      <td>179.0</td>\n",
       "      <td>160.0</td>\n",
       "      <td>189.0</td>\n",
       "      <td>94.0</td>\n",
       "      <td>147.300000</td>\n",
       "      <td>59.675005</td>\n",
       "    </tr>\n",
       "    <tr>\n",
       "      <th>2018-08-31 21:00:00</th>\n",
       "      <td>159</td>\n",
       "      <td>4</td>\n",
       "      <td>21</td>\n",
       "      <td>154.0</td>\n",
       "      <td>136.0</td>\n",
       "      <td>207.0</td>\n",
       "      <td>217.0</td>\n",
       "      <td>197.0</td>\n",
       "      <td>116.0</td>\n",
       "      <td>133.0</td>\n",
       "      <td>...</td>\n",
       "      <td>136.0</td>\n",
       "      <td>126.0</td>\n",
       "      <td>163.0</td>\n",
       "      <td>152.0</td>\n",
       "      <td>234.0</td>\n",
       "      <td>179.0</td>\n",
       "      <td>160.0</td>\n",
       "      <td>189.0</td>\n",
       "      <td>147.554167</td>\n",
       "      <td>59.572581</td>\n",
       "    </tr>\n",
       "    <tr>\n",
       "      <th>2018-08-31 22:00:00</th>\n",
       "      <td>223</td>\n",
       "      <td>4</td>\n",
       "      <td>22</td>\n",
       "      <td>159.0</td>\n",
       "      <td>154.0</td>\n",
       "      <td>136.0</td>\n",
       "      <td>207.0</td>\n",
       "      <td>217.0</td>\n",
       "      <td>197.0</td>\n",
       "      <td>116.0</td>\n",
       "      <td>...</td>\n",
       "      <td>55.0</td>\n",
       "      <td>136.0</td>\n",
       "      <td>126.0</td>\n",
       "      <td>163.0</td>\n",
       "      <td>152.0</td>\n",
       "      <td>234.0</td>\n",
       "      <td>179.0</td>\n",
       "      <td>160.0</td>\n",
       "      <td>147.550000</td>\n",
       "      <td>59.571742</td>\n",
       "    </tr>\n",
       "    <tr>\n",
       "      <th>2018-08-31 23:00:00</th>\n",
       "      <td>205</td>\n",
       "      <td>4</td>\n",
       "      <td>23</td>\n",
       "      <td>223.0</td>\n",
       "      <td>159.0</td>\n",
       "      <td>154.0</td>\n",
       "      <td>136.0</td>\n",
       "      <td>207.0</td>\n",
       "      <td>217.0</td>\n",
       "      <td>197.0</td>\n",
       "      <td>...</td>\n",
       "      <td>36.0</td>\n",
       "      <td>55.0</td>\n",
       "      <td>136.0</td>\n",
       "      <td>126.0</td>\n",
       "      <td>163.0</td>\n",
       "      <td>152.0</td>\n",
       "      <td>234.0</td>\n",
       "      <td>179.0</td>\n",
       "      <td>148.041667</td>\n",
       "      <td>59.705889</td>\n",
       "    </tr>\n",
       "  </tbody>\n",
       "</table>\n",
       "<p>4176 rows × 77 columns</p>\n",
       "</div>"
      ],
      "text/plain": [
       "                     num_orders  dayofweek  hour  lag_1  lag_2  lag_3  lag_4  \\\n",
       "datetime                                                                       \n",
       "2018-03-11 00:00:00          81          6     0   73.0   80.0   62.0   54.0   \n",
       "2018-03-11 01:00:00          83          6     1   81.0   73.0   80.0   62.0   \n",
       "2018-03-11 02:00:00          36          6     2   83.0   81.0   73.0   80.0   \n",
       "2018-03-11 03:00:00          49          6     3   36.0   83.0   81.0   73.0   \n",
       "2018-03-11 04:00:00          30          6     4   49.0   36.0   83.0   81.0   \n",
       "...                         ...        ...   ...    ...    ...    ...    ...   \n",
       "2018-08-31 19:00:00         136          4    19  207.0  217.0  197.0  116.0   \n",
       "2018-08-31 20:00:00         154          4    20  136.0  207.0  217.0  197.0   \n",
       "2018-08-31 21:00:00         159          4    21  154.0  136.0  207.0  217.0   \n",
       "2018-08-31 22:00:00         223          4    22  159.0  154.0  136.0  207.0   \n",
       "2018-08-31 23:00:00         205          4    23  223.0  159.0  154.0  136.0   \n",
       "\n",
       "                     lag_5  lag_6  lag_7  ...  lag_65  lag_66  lag_67  lag_68  \\\n",
       "datetime                                  ...                                   \n",
       "2018-03-11 00:00:00   33.0  102.0   60.0  ...    19.0     6.0     6.0    60.0   \n",
       "2018-03-11 01:00:00   54.0   33.0  102.0  ...    77.0    19.0     6.0     6.0   \n",
       "2018-03-11 02:00:00   62.0   54.0   33.0  ...    97.0    77.0    19.0     6.0   \n",
       "2018-03-11 03:00:00   80.0   62.0   54.0  ...    68.0    97.0    77.0    19.0   \n",
       "2018-03-11 04:00:00   73.0   80.0   62.0  ...    80.0    68.0    97.0    77.0   \n",
       "...                    ...    ...    ...  ...     ...     ...     ...     ...   \n",
       "2018-08-31 19:00:00  133.0  166.0  136.0  ...   163.0   152.0   234.0   179.0   \n",
       "2018-08-31 20:00:00  116.0  133.0  166.0  ...   126.0   163.0   152.0   234.0   \n",
       "2018-08-31 21:00:00  197.0  116.0  133.0  ...   136.0   126.0   163.0   152.0   \n",
       "2018-08-31 22:00:00  217.0  197.0  116.0  ...    55.0   136.0   126.0   163.0   \n",
       "2018-08-31 23:00:00  207.0  217.0  197.0  ...    36.0    55.0   136.0   126.0   \n",
       "\n",
       "                     lag_69  lag_70  lag_71  lag_72  rolling_mean  rolling_std  \n",
       "datetime                                                                        \n",
       "2018-03-11 00:00:00    68.0    65.0    78.0   143.0     54.633333    29.242725  \n",
       "2018-03-11 01:00:00    60.0    68.0    65.0    78.0     54.454167    28.946170  \n",
       "2018-03-11 02:00:00     6.0    60.0    68.0    65.0     54.445833    28.937626  \n",
       "2018-03-11 03:00:00     6.0     6.0    60.0    68.0     54.300000    28.942043  \n",
       "2018-03-11 04:00:00    19.0     6.0     6.0    60.0     54.229167    28.934090  \n",
       "...                     ...     ...     ...     ...           ...          ...  \n",
       "2018-08-31 19:00:00   160.0   189.0    94.0   111.0    147.170833    59.733088  \n",
       "2018-08-31 20:00:00   179.0   160.0   189.0    94.0    147.300000    59.675005  \n",
       "2018-08-31 21:00:00   234.0   179.0   160.0   189.0    147.554167    59.572581  \n",
       "2018-08-31 22:00:00   152.0   234.0   179.0   160.0    147.550000    59.571742  \n",
       "2018-08-31 23:00:00   163.0   152.0   234.0   179.0    148.041667    59.705889  \n",
       "\n",
       "[4176 rows x 77 columns]"
      ]
     },
     "execution_count": 6,
     "metadata": {},
     "output_type": "execute_result"
    }
   ],
   "source": [
    "def make_features(df, max_lag, rolling_mean_size):\n",
    "    df_ch = df.copy()\n",
    "    \n",
    "    # Добавим новые календарные признаки: год, месяц, день месяца, день недели\n",
    "    df_ch['dayofweek'] = df_ch.index.dayofweek\n",
    "    df_ch['hour'] = df_ch.index.hour\n",
    "    \n",
    "    # Добавим отстающие значения по указанному количеству сдвигов\n",
    "    for lag in range(1, max_lag + 1):\n",
    "        df_ch['lag_{}'.format(lag)] = df_ch['num_orders'].shift(lag)\n",
    "\n",
    "    # Вычислим скользящее среднее и среднее стандартное отклонение\n",
    "    df_ch['rolling_mean'] = df_ch['num_orders'].shift().rolling(rolling_mean_size).mean()\n",
    "    df_ch['rolling_std'] = df_ch['num_orders'].shift().rolling(rolling_mean_size).std()\n",
    "    \n",
    "    return df_ch\n",
    "\n",
    "max_lag = 72 # 3 дня\n",
    "rolling_mean_size = 240 # 10 дней\n",
    "df = make_features(data, max_lag, rolling_mean_size)\n",
    "df = df.dropna()\n",
    "df"
   ]
  },
  {
   "cell_type": "markdown",
   "metadata": {},
   "source": [
    "Мы загрузили и обработали данные, добавили дополнительные признаки, теперь мы можем преступить к анализу."
   ]
  },
  {
   "cell_type": "markdown",
   "metadata": {},
   "source": [
    "## Анализ"
   ]
  },
  {
   "cell_type": "code",
   "execution_count": 7,
   "metadata": {},
   "outputs": [
    {
     "data": {
      "image/png": "[encoded data removed]",
      "text/plain": [
       "<Figure size 1152x576 with 1 Axes>"
      ]
     },
     "metadata": {
      "needs_background": "light"
     },
     "output_type": "display_data"
    }
   ],
   "source": [
    "df.iloc[:, [0,-2,-1]].plot(figsize=(16, 8))\n",
    "plt.title('Скользящее среднее и стандартное отклонение')\n",
    "plt.xlabel('Временная шкала')\n",
    "plt.ylabel('Количество заказов')\n",
    "plt.show()"
   ]
  },
  {
   "cell_type": "markdown",
   "metadata": {},
   "source": [
    "Мы видим, что среднее и стандартное отклонение несколько изменяются на протяжени времени, поэтому мы не можем назвать данный временной ряд стационарным. Нестационарные ряды прогнозировать сложнее: их свойства меняются слишком быстро.\n",
    "\n",
    "Посмотрим на тренд и сезонность временного ряда."
   ]
  },
  {
   "cell_type": "code",
   "execution_count": 8,
   "metadata": {},
   "outputs": [
    {
     "data": {
      "image/png": "[encoded data removed]",
      "text/plain": [
       "<Figure size 1152x1152 with 3 Axes>"
      ]
     },
     "metadata": {
      "needs_background": "light"
     },
     "output_type": "display_data"
    }
   ],
   "source": [
    "decomposed = seasonal_decompose(df['num_orders'])\n",
    "plt.figure(figsize=(16, 16))\n",
    "\n",
    "plt.subplot(311)\n",
    "decomposed.trend.plot(ax=plt.gca())\n",
    "plt.title('Тренд')\n",
    "plt.xlabel('Временная шкала')\n",
    "plt.ylabel('Количество заказов')\n",
    "plt.subplot(312)\n",
    "decomposed.seasonal.plot(ax=plt.gca())\n",
    "plt.title('Сезонность')\n",
    "plt.xlabel('Временная шкала')\n",
    "plt.ylabel('Количество заказов')\n",
    "plt.subplot(313)\n",
    "decomposed.resid.plot(ax=plt.gca())\n",
    "plt.title('Шум')\n",
    "plt.xlabel('Временная шкала')\n",
    "plt.ylabel('Количество заказов')\n",
    "plt.tight_layout()"
   ]
  },
  {
   "cell_type": "markdown",
   "metadata": {},
   "source": [
    "График тренда говорит нам о том, что количество заказов склонно увеличиваться с течением времени, т.е. количество заказов у сервиса такси планомерно растет, это может быть связано с хорошим продвижением сервиса, расширением таксопарка и т.д.\n",
    "\n",
    "На графике с шумами мы видим, что, в целом, они равномерны. Имеются небольшие всплески без определенной периодичености. К концу временног ряда наблюдаются аномальные всплески в количестве заказов, которые достигают более `300 в час`. Поскольку для временного ряда неприемлемо перемешивание популяции при разделении выборки, а для тестовой выборки по условиям задачи необходимо взять `10%` от общей популяции, данные всплески попадают в рамки тестовой выборки. Для целей справедливой проверки качества обученной модели мы не можем корректировать данные тестовой выборки.\n",
    "\n",
    "Поскольку сезонность трудночитаема и мы наблюдаем цикличный характер в пределах даже месяца, возьмем последний месяц, `август 2023 года`, и два последних дня, чтобы лучше рассмотреть сезонность."
   ]
  },
  {
   "cell_type": "code",
   "execution_count": 9,
   "metadata": {},
   "outputs": [
    {
     "data": {
      "image/png": "[encoded data removed]",
      "text/plain": [
       "<Figure size 1152x576 with 2 Axes>"
      ]
     },
     "metadata": {
      "needs_background": "light"
     },
     "output_type": "display_data"
    }
   ],
   "source": [
    "plt.figure(figsize=(16, 10))\n",
    "\n",
    "plt.subplot(211)\n",
    "seasonal_decompose(df['2018-08':'2018-08']['num_orders']).seasonal.plot(ax=plt.gca(), figsize=(16, 8))\n",
    "plt.title('Сезонность (Август 2023 года)')\n",
    "plt.xlabel('Временная шкала')\n",
    "plt.ylabel('Количество заказов')\n",
    "plt.subplot(212)\n",
    "seasonal_decompose(df['2018-08-29':'2018-08-30']['num_orders']).seasonal.plot(ax=plt.gca(), figsize=(16, 8))\n",
    "plt.title('Сезонность (29-30 Августа 2023 года)')\n",
    "plt.xlabel('Временная шкала')\n",
    "plt.ylabel('Количество заказов')\n",
    "plt.show()"
   ]
  },
  {
   "cell_type": "markdown",
   "metadata": {},
   "source": [
    "При более детальном рассмотрении мы видим, что сезонность по заказу такси вызвана временем суток и циклична по дням. Так ближе к утру количество заказов снижается, утром в час пик растет, а также растет ближе к вечеру и ночи, когда городской транспорт перестает ходить."
   ]
  },
  {
   "cell_type": "markdown",
   "metadata": {},
   "source": [
    "## Обучение"
   ]
  },
  {
   "cell_type": "markdown",
   "metadata": {},
   "source": [
    "Для дальнейшего обучения моделей разделим данные на тренировочную (для обучения и кросс-валидации) и тестовую (`10%` по условию задания, для тестирования лучшей модели). В задаче временного ряда перемешивать данные нельзя, поэтому установим параметр `shuffle=False`."
   ]
  },
  {
   "cell_type": "code",
   "execution_count": 10,
   "metadata": {},
   "outputs": [],
   "source": [
    "train, test, y_train, y_test = train_test_split(df.drop(columns='num_orders'), df['num_orders'],      \n",
    "                                                shuffle=False, test_size=0.1, random_state=1234)"
   ]
  },
  {
   "cell_type": "markdown",
   "metadata": {},
   "source": [
    "Проведем обучение на нескольких моделях, применяя кросс-валидацию с использованием `GridSearchCV`. В параметре `scoring` для всех моделей укажем `neg_root_mean_squared_error`, чтобы оценивать модели на основе отрицательного значения среднеквадратической ошибки (`RMSE`). Использование отрицательного значения `RMSE` вместо положительного связано с тем, что `GridSearchCV` выбирает модель с наивысшим значением оценки. При использовании отрицательного значения `RMSE`, модель с меньшим значением метрики будет иметь более высокое оценочное значение."
   ]
  },
  {
   "cell_type": "markdown",
   "metadata": {},
   "source": [
    "- **Линейная регрессия**"
   ]
  },
  {
   "cell_type": "code",
   "execution_count": 11,
   "metadata": {},
   "outputs": [
    {
     "name": "stdout",
     "output_type": "stream",
     "text": [
      "Лучшие гиперпараметры: {'fit_intercept': False, 'normalize': True}\n",
      "Лучшее RMSE: 23.9\n"
     ]
    }
   ],
   "source": [
    "param_grid = {\n",
    "    'fit_intercept': [True, False],\n",
    "    'normalize': [True, False]\n",
    "}\n",
    "\n",
    "# Инициализация модели LinearRegression\n",
    "model_lr = LinearRegression()\n",
    "tscv = TimeSeriesSplit(n_splits=3).split(test)\n",
    "\n",
    "# Кросс-валидация и поиск наилучших гиперпараметров\n",
    "grid_search_lr = GridSearchCV(estimator=model_lr, param_grid=param_grid, cv=tscv, scoring='neg_root_mean_squared_error')\n",
    "grid_search_lr.fit(train, y_train)\n",
    "\n",
    "# Прогнозирование на тестовом наборе с использованием модели с наилучшими гиперпараметрами\n",
    "best_model_lr = grid_search_lr.best_estimator_\n",
    "best_params_lr = grid_search_lr.best_params_\n",
    "\n",
    "print('Лучшие гиперпараметры:', best_params_lr)\n",
    "print('Лучшее RMSE:', -round(grid_search_lr.best_score_,2))"
   ]
  },
  {
   "cell_type": "markdown",
   "metadata": {},
   "source": [
    "- **Дерево решений**"
   ]
  },
  {
   "cell_type": "code",
   "execution_count": 12,
   "metadata": {},
   "outputs": [
    {
     "name": "stdout",
     "output_type": "stream",
     "text": [
      "Лучшие гиперпараметры: {'max_depth': 5, 'min_samples_leaf': 4, 'min_samples_split': 2}\n",
      "Лучшее RMSE: 24.33\n"
     ]
    }
   ],
   "source": [
    "# Определение сетки гиперпараметров для поиска\n",
    "param_grid = {\n",
    "    'max_depth': [1, 5, 10, 20],\n",
    "    'min_samples_split': [2, 5, 10],\n",
    "    'min_samples_leaf': [1, 2, 4]\n",
    "}\n",
    "\n",
    "# Инициализация модели DecisionTreeRegressor\n",
    "model_dt = DecisionTreeRegressor(random_state=1234)\n",
    "tscv = TimeSeriesSplit(n_splits=3).split(test)\n",
    "\n",
    "# Кросс-валидация и поиск наилучших гиперпараметров\n",
    "grid_search_dt = GridSearchCV(estimator=model_dt, param_grid=param_grid, cv=tscv, scoring='neg_root_mean_squared_error')\n",
    "grid_search_dt.fit(train, y_train)\n",
    "\n",
    "# Прогнозирование на тестовом наборе с использованием модели с наилучшими гиперпараметрами\n",
    "best_model_dt = grid_search_dt.best_estimator_\n",
    "best_params_dt = grid_search_dt.best_params_\n",
    "\n",
    "print('Лучшие гиперпараметры:', best_params_dt)\n",
    "print('Лучшее RMSE:', -round(grid_search_dt.best_score_,2))"
   ]
  },
  {
   "cell_type": "markdown",
   "metadata": {},
   "source": [
    "- **Случайный лес**"
   ]
  },
  {
   "cell_type": "code",
   "execution_count": 13,
   "metadata": {},
   "outputs": [
    {
     "name": "stdout",
     "output_type": "stream",
     "text": [
      "Лучшие гиперпараметры: {'max_depth': 20, 'n_estimators': 30}\n",
      "Лучшее RMSE: 19.59\n"
     ]
    }
   ],
   "source": [
    "# Определение сетки гиперпараметров для поиска\n",
    "param_grid = {\n",
    "    'n_estimators': [10, 20, 30],\n",
    "    'max_depth': [1, 5, 10, 20]\n",
    "}\n",
    "\n",
    "# Инициализация модели RandomForestRegressor\n",
    "model_rf = RandomForestRegressor(random_state=1234)\n",
    "tscv = TimeSeriesSplit(n_splits=3).split(test)\n",
    "\n",
    "# Кросс-валидация и поиск наилучших гиперпараметров\n",
    "grid_search_rf = GridSearchCV(estimator=model_rf, param_grid=param_grid, cv=tscv, scoring='neg_root_mean_squared_error')\n",
    "grid_search_rf.fit(train, y_train)\n",
    "\n",
    "# Прогнозирование на тестовом наборе с использованием модели с наилучшими гиперпараметрами\n",
    "best_model_rf = grid_search_rf.best_estimator_\n",
    "best_params_rf = grid_search_rf.best_params_\n",
    "\n",
    "print('Лучшие гиперпараметры:', best_params_rf)\n",
    "print('Лучшее RMSE:', -round(grid_search_rf.best_score_,2))"
   ]
  },
  {
   "cell_type": "markdown",
   "metadata": {},
   "source": [
    "- **XGBoost**\n",
    "\n",
    "Также попробуем бустинговую модель `XGBoost`."
   ]
  },
  {
   "cell_type": "code",
   "execution_count": 14,
   "metadata": {},
   "outputs": [
    {
     "name": "stdout",
     "output_type": "stream",
     "text": [
      "Лучшие гиперпараметры: {'max_depth': 3, 'n_estimators': 15}\n",
      "Лучшее RMSE: 35.85\n"
     ]
    }
   ],
   "source": [
    "params = {\n",
    "          'learning_rate': 0.05\n",
    "         }\n",
    "\n",
    "# Определение сетки гиперпараметров для поиска\n",
    "param_grid = {\n",
    "    'max_depth': [3, 5, 7],\n",
    "    'n_estimators': [5, 10, 15]\n",
    "}\n",
    "\n",
    "# Инициализация модели XGBoost\n",
    "model_xgb = xgb.XGBRegressor(**params, seed=1234)\n",
    "tscv = TimeSeriesSplit(n_splits=3).split(test)\n",
    "\n",
    "# Кросс-валидация и поиск наилучших гиперпараметров\n",
    "grid_search_xgb = GridSearchCV(estimator=model_xgb, param_grid=param_grid, cv=tscv, scoring='neg_root_mean_squared_error')\n",
    "grid_search_xgb.fit(train, y_train)\n",
    "\n",
    "# Прогнозирование на тестовом наборе с использованием модели с наилучшими гиперпараметрами\n",
    "best_model_xgb = grid_search_xgb.best_estimator_\n",
    "best_params_xgb = grid_search_xgb.best_params_\n",
    "\n",
    "print('Лучшие гиперпараметры:', best_params_xgb)\n",
    "print('Лучшее RMSE:', -round(grid_search_xgb.best_score_,2))"
   ]
  },
  {
   "cell_type": "markdown",
   "metadata": {},
   "source": [
    "## Тестирование"
   ]
  },
  {
   "cell_type": "markdown",
   "metadata": {},
   "source": [
    "Соберем все результаты обучения по моделям и отобразим их для удобства."
   ]
  },
  {
   "cell_type": "code",
   "execution_count": 19,
   "metadata": {},
   "outputs": [
    {
     "data": {
      "text/html": [
       "<div>\n",
       "<style scoped>\n",
       "    .dataframe tbody tr th:only-of-type {\n",
       "        vertical-align: middle;\n",
       "    }\n",
       "\n",
       "    .dataframe tbody tr th {\n",
       "        vertical-align: top;\n",
       "    }\n",
       "\n",
       "    .dataframe thead th {\n",
       "        text-align: right;\n",
       "    }\n",
       "</style>\n",
       "<table border=\"1\" class=\"dataframe\">\n",
       "  <thead>\n",
       "    <tr style=\"text-align: right;\">\n",
       "      <th></th>\n",
       "      <th>Модель</th>\n",
       "      <th>RMSE тренировочной выборки</th>\n",
       "    </tr>\n",
       "  </thead>\n",
       "  <tbody>\n",
       "    <tr>\n",
       "      <th>0</th>\n",
       "      <td>Линейная регрессия</td>\n",
       "      <td>23.90</td>\n",
       "    </tr>\n",
       "    <tr>\n",
       "      <th>1</th>\n",
       "      <td>Дерево решений</td>\n",
       "      <td>24.33</td>\n",
       "    </tr>\n",
       "    <tr>\n",
       "      <th>2</th>\n",
       "      <td>Случайный лес</td>\n",
       "      <td>19.59</td>\n",
       "    </tr>\n",
       "    <tr>\n",
       "      <th>3</th>\n",
       "      <td>XGBoost</td>\n",
       "      <td>35.85</td>\n",
       "    </tr>\n",
       "  </tbody>\n",
       "</table>\n",
       "</div>"
      ],
      "text/plain": [
       "               Модель  RMSE тренировочной выборки\n",
       "0  Линейная регрессия                       23.90\n",
       "1      Дерево решений                       24.33\n",
       "2       Случайный лес                       19.59\n",
       "3             XGBoost                       35.85"
      ]
     },
     "execution_count": 19,
     "metadata": {},
     "output_type": "execute_result"
    }
   ],
   "source": [
    "df_valid = pd.DataFrame({'Модель': ['Линейная регрессия', 'Дерево решений', 'Случайный лес', 'XGBoost'],\n",
    "                         'RMSE тренировочной выборки': [23.9, 24.33, 19.59, 35.85]})\n",
    "df_valid"
   ]
  },
  {
   "cell_type": "code",
   "execution_count": 20,
   "metadata": {},
   "outputs": [
    {
     "data": {
      "image/png": "[encoded data removed]",
      "text/plain": [
       "<Figure size 720x576 with 1 Axes>"
      ]
     },
     "metadata": {
      "needs_background": "light"
     },
     "output_type": "display_data"
    }
   ],
   "source": [
    "plt.figure(figsize=(10, 8))\n",
    "plt.bar(df_valid['Модель'], df_valid['RMSE тренировочной выборки'])\n",
    "plt.xlabel('Модель')\n",
    "plt.ylabel('RMSE')\n",
    "plt.title('RMSE тренировочной выборки')\n",
    "plt.show()"
   ]
  },
  {
   "cell_type": "markdown",
   "metadata": {},
   "source": [
    "В целом, можно сказать, что все модели, за исключением `XGBoost`, который показал `RMSE более 35`, справились примерно на одном уровне, разница несущественна. По условиям задачи RMSE тестовой выборки не должно превышать `48`. Все модели показали RMSE менее этого значения.\n",
    "\n",
    "Наилучший результат показала модель `Случайный лес` с `RMSE 19.59`. Проведем тестирование на этой модели."
   ]
  },
  {
   "cell_type": "code",
   "execution_count": 17,
   "metadata": {},
   "outputs": [
    {
     "name": "stdout",
     "output_type": "stream",
     "text": [
      "RMSE тестовой выборки: 42.81\n"
     ]
    }
   ],
   "source": [
    "y_pred = best_model_rf.predict(test)\n",
    "print(\"RMSE тестовой выборки:\", round(mean_squared_error(y_test, y_pred, squared=False),2))"
   ]
  },
  {
   "cell_type": "markdown",
   "metadata": {},
   "source": [
    "Визуализируем временной ряд с ответами и предсказаниями для сравнения."
   ]
  },
  {
   "cell_type": "code",
   "execution_count": 18,
   "metadata": {},
   "outputs": [
    {
     "data": {
      "image/png": "[encoded data removed]",
      "text/plain": [
       "<Figure size 1152x576 with 1 Axes>"
      ]
     },
     "metadata": {
      "needs_background": "light"
     },
     "output_type": "display_data"
    }
   ],
   "source": [
    "test_pl = y_test.copy()\n",
    "test_pl = pd.DataFrame(test_pl).rename(columns={'num_orders': 'Ответы'})\n",
    "test_pl['Предсказания'] = y_pred\n",
    "\n",
    "test_pl.plot(figsize=(16, 8))\n",
    "plt.xlabel('Временная шкала')\n",
    "plt.ylabel('Количество заказов')\n",
    "plt.title('Визуализация ответов и предсказаний')\n",
    "plt.show()"
   ]
  },
  {
   "cell_type": "markdown",
   "metadata": {},
   "source": [
    "По построенной визуализации ответов и предсказаний мы видим, что, в целом, наша модель повторяет значения правильных ответов. При этом на всплесках модель предсказывает более усредненные значения, что влияет на метрику качества RMSE на тесте. В целом, такой подход объясним, поскольку такие яркие всплески не наблюдаются на тренировочной выборке, а значения признаков не позволяют достаточно точно определить, чем они были вызваны, что не позволяет достаточно точно их предсказать.\n",
    "\n",
    "Таким образом, разница между RMSE на тренировочной выборке и тестовой вызвана скорее не переобучением, а необъяснимыми всплесками в период тестовой выборки."
   ]
  },
  {
   "cell_type": "markdown",
   "metadata": {},
   "source": [
    "RMSE на тестовой выборке с использованием модели `Случайный лес` составил составил `42.81`, что укладывается в рамки поставленной задачи - `RMSE < 48`. Цель достигнута."
   ]
  },
  {
   "cell_type": "markdown",
   "metadata": {},
   "source": [
    "## Вывод\n",
    "1. Мы загрузили и обработали данные с временным рядом по заказам такси.\n",
    "2. Проанализировали данные и сделали соответствующие выводы, добавили дополнительные признаки для обучения.\n",
    "3. Подобрали гиперпараметры и обучили четыре модели: `Линейная регрессия`, `Дерево решений`, `Случайный лес` и `XGBoost`.\n",
    "4. Выбрали наилучшую по `RMSE` на тренировочной выборке модель `Случайный лес` с показателем метрики качества `19.59`.\n",
    "5. Провели тестирование, метрика качества составила `42.81`, что меньше `48`, которые были установлены по условиям задачи.\n",
    "6. Провели анализ результатов и сделали вывод о том, что разница между RMSE на тренировочной выборке и тестовой вызвана скорее не переобучением, а необъяснимыми всплесками в период тестовой выборки."
   ]
  }
 ],
 "metadata": {
  "ExecuteTimeLog": [
   {
    "duration": 406,
    "start_time": "2023-10-15T13:10:49.164Z"
   },
   {
    "duration": 124,
    "start_time": "2023-10-15T13:11:16.718Z"
   },
   {
    "duration": 64,
    "start_time": "2023-10-15T13:11:49.250Z"
   },
   {
    "duration": 12,
    "start_time": "2023-10-15T13:12:37.089Z"
   },
   {
    "duration": 48,
    "start_time": "2023-10-15T13:12:51.686Z"
   },
   {
    "duration": 13,
    "start_time": "2023-10-15T13:12:53.280Z"
   },
   {
    "duration": 57,
    "start_time": "2023-10-15T13:13:03.914Z"
   },
   {
    "duration": 53,
    "start_time": "2023-10-15T13:13:11.686Z"
   },
   {
    "duration": 15,
    "start_time": "2023-10-15T13:13:12.165Z"
   },
   {
    "duration": 54,
    "start_time": "2023-10-15T13:13:17.932Z"
   },
   {
    "duration": 10,
    "start_time": "2023-10-15T13:13:18.847Z"
   },
   {
    "duration": 17,
    "start_time": "2023-10-15T13:14:46.532Z"
   },
   {
    "duration": 1722,
    "start_time": "2023-10-15T13:19:51.716Z"
   },
   {
    "duration": 0,
    "start_time": "2023-10-15T13:19:53.440Z"
   },
   {
    "duration": 10,
    "start_time": "2023-10-15T13:20:12.341Z"
   },
   {
    "duration": 20,
    "start_time": "2023-10-15T13:20:13.636Z"
   },
   {
    "duration": 55,
    "start_time": "2023-10-15T13:20:38.594Z"
   },
   {
    "duration": 11,
    "start_time": "2023-10-15T13:20:38.808Z"
   },
   {
    "duration": 16,
    "start_time": "2023-10-15T13:20:39.189Z"
   },
   {
    "duration": 16,
    "start_time": "2023-10-15T13:20:39.563Z"
   },
   {
    "duration": 24,
    "start_time": "2023-10-15T13:20:39.799Z"
   },
   {
    "duration": 53,
    "start_time": "2023-10-15T13:22:52.631Z"
   },
   {
    "duration": 9,
    "start_time": "2023-10-15T13:22:52.808Z"
   },
   {
    "duration": 12,
    "start_time": "2023-10-15T13:22:53.190Z"
   },
   {
    "duration": 23,
    "start_time": "2023-10-15T13:22:53.562Z"
   },
   {
    "duration": 54,
    "start_time": "2023-10-15T13:23:30.343Z"
   },
   {
    "duration": 10,
    "start_time": "2023-10-15T13:23:30.529Z"
   },
   {
    "duration": 12,
    "start_time": "2023-10-15T13:23:30.889Z"
   },
   {
    "duration": 27,
    "start_time": "2023-10-15T13:23:31.241Z"
   },
   {
    "duration": 716,
    "start_time": "2023-10-15T13:24:12.032Z"
   },
   {
    "duration": 42,
    "start_time": "2023-10-15T13:27:00.585Z"
   },
   {
    "duration": 7,
    "start_time": "2023-10-15T13:27:12.900Z"
   },
   {
    "duration": 59,
    "start_time": "2023-10-15T13:28:49.739Z"
   },
   {
    "duration": 11,
    "start_time": "2023-10-15T13:28:50.113Z"
   },
   {
    "duration": 11,
    "start_time": "2023-10-15T13:28:51.311Z"
   },
   {
    "duration": 3,
    "start_time": "2023-10-15T13:28:59.393Z"
   },
   {
    "duration": 73,
    "start_time": "2023-10-15T13:29:00.001Z"
   },
   {
    "duration": 10,
    "start_time": "2023-10-15T13:29:00.455Z"
   },
   {
    "duration": 16,
    "start_time": "2023-10-15T13:29:03.248Z"
   },
   {
    "duration": 20,
    "start_time": "2023-10-15T13:29:25.503Z"
   },
   {
    "duration": 20,
    "start_time": "2023-10-15T13:29:38.603Z"
   },
   {
    "duration": 62,
    "start_time": "2023-10-15T13:29:44.585Z"
   },
   {
    "duration": 11,
    "start_time": "2023-10-15T13:29:46.386Z"
   },
   {
    "duration": 21,
    "start_time": "2023-10-15T13:29:48.235Z"
   },
   {
    "duration": 27,
    "start_time": "2023-10-15T13:30:32.105Z"
   },
   {
    "duration": 56,
    "start_time": "2023-10-15T13:30:58.473Z"
   },
   {
    "duration": 10,
    "start_time": "2023-10-15T13:30:58.763Z"
   },
   {
    "duration": 31,
    "start_time": "2023-10-15T13:30:59.354Z"
   },
   {
    "duration": 14,
    "start_time": "2023-10-15T13:31:09.878Z"
   },
   {
    "duration": 7,
    "start_time": "2023-10-15T13:31:38.467Z"
   },
   {
    "duration": 2,
    "start_time": "2023-10-15T13:32:16.946Z"
   },
   {
    "duration": 69,
    "start_time": "2023-10-15T13:32:17.382Z"
   },
   {
    "duration": 11,
    "start_time": "2023-10-15T13:32:17.574Z"
   },
   {
    "duration": 28,
    "start_time": "2023-10-15T13:32:20.894Z"
   },
   {
    "duration": 2,
    "start_time": "2023-10-15T13:33:58.976Z"
   },
   {
    "duration": 53,
    "start_time": "2023-10-15T13:33:59.328Z"
   },
   {
    "duration": 11,
    "start_time": "2023-10-15T13:33:59.532Z"
   },
   {
    "duration": 28,
    "start_time": "2023-10-15T13:34:00.489Z"
   },
   {
    "duration": 6,
    "start_time": "2023-10-15T13:34:43.473Z"
   },
   {
    "duration": 17,
    "start_time": "2023-10-15T13:34:48.463Z"
   },
   {
    "duration": 2,
    "start_time": "2023-10-15T13:35:59.440Z"
   },
   {
    "duration": 52,
    "start_time": "2023-10-15T13:35:59.945Z"
   },
   {
    "duration": 10,
    "start_time": "2023-10-15T13:36:00.344Z"
   },
   {
    "duration": 12,
    "start_time": "2023-10-15T13:36:01.510Z"
   },
   {
    "duration": 10,
    "start_time": "2023-10-15T13:36:15.384Z"
   },
   {
    "duration": 6,
    "start_time": "2023-10-15T13:37:19.646Z"
   },
   {
    "duration": 6,
    "start_time": "2023-10-15T13:37:28.523Z"
   },
   {
    "duration": 16,
    "start_time": "2023-10-15T13:37:34.935Z"
   },
   {
    "duration": 1441,
    "start_time": "2023-10-15T13:38:02.200Z"
   },
   {
    "duration": 3,
    "start_time": "2023-10-15T13:38:41.851Z"
   },
   {
    "duration": 51,
    "start_time": "2023-10-15T13:38:42.249Z"
   },
   {
    "duration": 10,
    "start_time": "2023-10-15T13:38:42.461Z"
   },
   {
    "duration": 12,
    "start_time": "2023-10-15T13:38:43.443Z"
   },
   {
    "duration": 28,
    "start_time": "2023-10-15T13:38:44.830Z"
   },
   {
    "duration": 1477,
    "start_time": "2023-10-15T13:38:59.260Z"
   },
   {
    "duration": 1794,
    "start_time": "2023-10-15T13:40:01.380Z"
   },
   {
    "duration": 17,
    "start_time": "2023-10-15T13:40:39.081Z"
   },
   {
    "duration": 20,
    "start_time": "2023-10-15T13:44:12.106Z"
   },
   {
    "duration": 10,
    "start_time": "2023-10-15T13:44:53.344Z"
   },
   {
    "duration": 9,
    "start_time": "2023-10-15T13:45:03.490Z"
   },
   {
    "duration": 14,
    "start_time": "2023-10-15T13:45:23.521Z"
   },
   {
    "duration": 10,
    "start_time": "2023-10-15T13:45:33.597Z"
   },
   {
    "duration": 10,
    "start_time": "2023-10-15T13:45:43.142Z"
   },
   {
    "duration": 14,
    "start_time": "2023-10-15T13:46:04.654Z"
   },
   {
    "duration": 13,
    "start_time": "2023-10-15T13:51:55.378Z"
   },
   {
    "duration": 147,
    "start_time": "2023-10-15T13:52:17.036Z"
   },
   {
    "duration": 21,
    "start_time": "2023-10-15T13:52:24.132Z"
   },
   {
    "duration": 3,
    "start_time": "2023-10-15T13:53:42.260Z"
   },
   {
    "duration": 9,
    "start_time": "2023-10-15T13:53:47.170Z"
   },
   {
    "duration": 17,
    "start_time": "2023-10-15T13:53:52.240Z"
   },
   {
    "duration": 10,
    "start_time": "2023-10-15T13:57:45.896Z"
   },
   {
    "duration": 320991,
    "start_time": "2023-10-15T13:58:03.687Z"
   },
   {
    "duration": 85303,
    "start_time": "2023-10-15T14:06:38.914Z"
   },
   {
    "duration": 1206,
    "start_time": "2023-10-15T14:08:07.636Z"
   },
   {
    "duration": 60,
    "start_time": "2023-10-15T14:08:08.844Z"
   },
   {
    "duration": 11,
    "start_time": "2023-10-15T14:08:08.905Z"
   },
   {
    "duration": 14,
    "start_time": "2023-10-15T14:08:08.918Z"
   },
   {
    "duration": 30,
    "start_time": "2023-10-15T14:08:08.934Z"
   },
   {
    "duration": 16,
    "start_time": "2023-10-15T14:08:08.966Z"
   },
   {
    "duration": 11,
    "start_time": "2023-10-15T14:08:08.984Z"
   },
   {
    "duration": 98794,
    "start_time": "2023-10-15T14:08:08.996Z"
   },
   {
    "duration": 0,
    "start_time": "2023-10-15T14:09:47.793Z"
   },
   {
    "duration": 0,
    "start_time": "2023-10-15T14:09:47.794Z"
   },
   {
    "duration": 18,
    "start_time": "2023-10-15T14:09:58.506Z"
   },
   {
    "duration": 4,
    "start_time": "2023-10-15T14:10:01.936Z"
   },
   {
    "duration": 39999,
    "start_time": "2023-10-15T14:10:03.196Z"
   },
   {
    "duration": 120818,
    "start_time": "2023-10-15T14:10:45.896Z"
   },
   {
    "duration": 28453,
    "start_time": "2023-10-15T14:12:57.119Z"
   },
   {
    "duration": 24914,
    "start_time": "2023-10-15T14:13:32.177Z"
   },
   {
    "duration": 227180,
    "start_time": "2023-10-15T14:13:59.118Z"
   },
   {
    "duration": 220673,
    "start_time": "2023-10-15T14:17:47.923Z"
   },
   {
    "duration": 0,
    "start_time": "2023-10-15T14:21:28.598Z"
   },
   {
    "duration": 539,
    "start_time": "2023-10-15T14:21:34.862Z"
   },
   {
    "duration": 25,
    "start_time": "2023-10-15T14:23:25.845Z"
   },
   {
    "duration": 10,
    "start_time": "2023-10-15T14:23:39.156Z"
   },
   {
    "duration": 16,
    "start_time": "2023-10-15T14:23:42.527Z"
   },
   {
    "duration": 331,
    "start_time": "2023-10-15T14:24:09.048Z"
   },
   {
    "duration": 20,
    "start_time": "2023-10-15T14:24:25.159Z"
   },
   {
    "duration": 183,
    "start_time": "2023-10-15T14:26:13.560Z"
   },
   {
    "duration": 299,
    "start_time": "2023-10-15T14:27:11.898Z"
   },
   {
    "duration": 227,
    "start_time": "2023-10-15T14:27:37.215Z"
   },
   {
    "duration": 208,
    "start_time": "2023-10-15T14:27:43.224Z"
   },
   {
    "duration": 287,
    "start_time": "2023-10-15T14:28:27.311Z"
   },
   {
    "duration": 432,
    "start_time": "2023-10-15T14:30:14.404Z"
   },
   {
    "duration": 23,
    "start_time": "2023-10-15T14:31:22.776Z"
   },
   {
    "duration": 288,
    "start_time": "2023-10-15T14:32:06.638Z"
   },
   {
    "duration": 901,
    "start_time": "2023-10-15T14:33:26.514Z"
   },
   {
    "duration": 940,
    "start_time": "2023-10-15T14:33:37.900Z"
   },
   {
    "duration": 1211,
    "start_time": "2023-10-15T14:33:44.144Z"
   },
   {
    "duration": 5,
    "start_time": "2023-10-15T14:35:00.853Z"
   },
   {
    "duration": 52,
    "start_time": "2023-10-15T14:35:01.226Z"
   },
   {
    "duration": 10,
    "start_time": "2023-10-15T14:35:01.425Z"
   },
   {
    "duration": 15,
    "start_time": "2023-10-15T14:35:02.504Z"
   },
   {
    "duration": 41,
    "start_time": "2023-10-15T14:35:04.616Z"
   },
   {
    "duration": 286,
    "start_time": "2023-10-15T14:35:08.268Z"
   },
   {
    "duration": 279,
    "start_time": "2023-10-15T14:35:08.856Z"
   },
   {
    "duration": 1094,
    "start_time": "2023-10-15T14:35:09.673Z"
   },
   {
    "duration": 11,
    "start_time": "2023-10-15T14:35:21.131Z"
   },
   {
    "duration": 5,
    "start_time": "2023-10-15T14:35:40.664Z"
   },
   {
    "duration": 4,
    "start_time": "2023-10-15T14:35:49.445Z"
   },
   {
    "duration": 1485,
    "start_time": "2023-10-15T14:36:56.067Z"
   },
   {
    "duration": 62,
    "start_time": "2023-10-15T14:36:57.554Z"
   },
   {
    "duration": 12,
    "start_time": "2023-10-15T14:36:57.619Z"
   },
   {
    "duration": 20,
    "start_time": "2023-10-15T14:36:57.633Z"
   },
   {
    "duration": 41,
    "start_time": "2023-10-15T14:36:57.654Z"
   },
   {
    "duration": 203,
    "start_time": "2023-10-15T14:36:57.696Z"
   },
   {
    "duration": 195,
    "start_time": "2023-10-15T14:36:57.901Z"
   },
   {
    "duration": 877,
    "start_time": "2023-10-15T14:36:58.098Z"
   },
   {
    "duration": 30,
    "start_time": "2023-10-15T14:36:58.977Z"
   },
   {
    "duration": 12,
    "start_time": "2023-10-15T14:36:59.009Z"
   },
   {
    "duration": 98,
    "start_time": "2023-10-15T14:36:59.023Z"
   },
   {
    "duration": 8,
    "start_time": "2023-10-15T14:36:59.123Z"
   },
   {
    "duration": 1509,
    "start_time": "2023-10-15T14:37:27.140Z"
   },
   {
    "duration": 60,
    "start_time": "2023-10-15T14:37:28.651Z"
   },
   {
    "duration": 10,
    "start_time": "2023-10-15T14:37:28.712Z"
   },
   {
    "duration": 19,
    "start_time": "2023-10-15T14:37:28.724Z"
   },
   {
    "duration": 28,
    "start_time": "2023-10-15T14:37:28.745Z"
   },
   {
    "duration": 214,
    "start_time": "2023-10-15T14:37:28.775Z"
   },
   {
    "duration": 196,
    "start_time": "2023-10-15T14:37:28.990Z"
   },
   {
    "duration": 925,
    "start_time": "2023-10-15T14:37:29.187Z"
   },
   {
    "duration": 17,
    "start_time": "2023-10-15T14:37:30.114Z"
   },
   {
    "duration": 47,
    "start_time": "2023-10-15T14:37:30.134Z"
   },
   {
    "duration": 45,
    "start_time": "2023-10-15T14:37:30.183Z"
   },
   {
    "duration": 57,
    "start_time": "2023-10-15T14:37:30.229Z"
   },
   {
    "duration": 25,
    "start_time": "2023-10-15T14:55:08.933Z"
   },
   {
    "duration": 11,
    "start_time": "2023-10-15T14:55:10.064Z"
   },
   {
    "duration": 11,
    "start_time": "2023-10-15T14:55:58.167Z"
   },
   {
    "duration": 24,
    "start_time": "2023-10-15T14:56:05.259Z"
   },
   {
    "duration": 18,
    "start_time": "2023-10-15T14:56:06.397Z"
   },
   {
    "duration": 8,
    "start_time": "2023-10-15T14:56:07.337Z"
   },
   {
    "duration": 19,
    "start_time": "2023-10-15T14:56:16.164Z"
   },
   {
    "duration": 11,
    "start_time": "2023-10-15T14:56:17.983Z"
   },
   {
    "duration": 1530,
    "start_time": "2023-10-15T14:56:37.543Z"
   },
   {
    "duration": 60,
    "start_time": "2023-10-15T14:56:39.075Z"
   },
   {
    "duration": 20,
    "start_time": "2023-10-15T14:56:39.137Z"
   },
   {
    "duration": 13,
    "start_time": "2023-10-15T14:56:39.163Z"
   },
   {
    "duration": 37,
    "start_time": "2023-10-15T14:56:39.177Z"
   },
   {
    "duration": 203,
    "start_time": "2023-10-15T14:56:39.215Z"
   },
   {
    "duration": 197,
    "start_time": "2023-10-15T14:56:39.420Z"
   },
   {
    "duration": 924,
    "start_time": "2023-10-15T14:56:39.619Z"
   },
   {
    "duration": 24,
    "start_time": "2023-10-15T14:56:40.552Z"
   },
   {
    "duration": 10,
    "start_time": "2023-10-15T14:56:40.578Z"
   },
   {
    "duration": 5,
    "start_time": "2023-10-15T14:56:40.589Z"
   },
   {
    "duration": 144,
    "start_time": "2023-10-15T14:56:40.596Z"
   },
   {
    "duration": 1516,
    "start_time": "2023-10-16T08:29:09.242Z"
   },
   {
    "duration": 134,
    "start_time": "2023-10-16T08:29:10.760Z"
   },
   {
    "duration": 8,
    "start_time": "2023-10-16T08:29:10.896Z"
   },
   {
    "duration": 13,
    "start_time": "2023-10-16T08:29:10.905Z"
   },
   {
    "duration": 28,
    "start_time": "2023-10-16T08:29:10.920Z"
   },
   {
    "duration": 186,
    "start_time": "2023-10-16T08:29:10.949Z"
   },
   {
    "duration": 243,
    "start_time": "2023-10-16T08:29:11.136Z"
   },
   {
    "duration": 932,
    "start_time": "2023-10-16T08:29:11.381Z"
   },
   {
    "duration": 19,
    "start_time": "2023-10-16T08:29:12.314Z"
   },
   {
    "duration": 106,
    "start_time": "2023-10-16T08:29:12.334Z"
   },
   {
    "duration": 98,
    "start_time": "2023-10-16T08:29:12.442Z"
   },
   {
    "duration": 113,
    "start_time": "2023-10-16T08:29:12.541Z"
   },
   {
    "duration": 311,
    "start_time": "2023-10-16T08:30:09.960Z"
   },
   {
    "duration": 229,
    "start_time": "2023-10-16T08:30:17.289Z"
   },
   {
    "duration": 175,
    "start_time": "2023-10-16T08:30:21.302Z"
   },
   {
    "duration": 318,
    "start_time": "2023-10-16T08:30:30.714Z"
   },
   {
    "duration": 10,
    "start_time": "2023-10-16T08:32:02.091Z"
   },
   {
    "duration": 9,
    "start_time": "2023-10-16T08:35:14.310Z"
   },
   {
    "duration": 76192,
    "start_time": "2023-10-16T08:35:40.094Z"
   },
   {
    "duration": 193389,
    "start_time": "2023-10-16T08:37:04.662Z"
   },
   {
    "duration": 1707,
    "start_time": "2023-10-16T08:40:29.476Z"
   },
   {
    "duration": 56,
    "start_time": "2023-10-16T08:40:31.184Z"
   },
   {
    "duration": 85,
    "start_time": "2023-10-16T08:40:31.241Z"
   },
   {
    "duration": 66,
    "start_time": "2023-10-16T08:40:31.328Z"
   },
   {
    "duration": 76,
    "start_time": "2023-10-16T08:40:31.395Z"
   },
   {
    "duration": 320,
    "start_time": "2023-10-16T08:40:31.473Z"
   },
   {
    "duration": 306,
    "start_time": "2023-10-16T08:40:31.795Z"
   },
   {
    "duration": 607,
    "start_time": "2023-10-16T08:40:32.102Z"
   },
   {
    "duration": 19,
    "start_time": "2023-10-16T08:40:32.710Z"
   },
   {
    "duration": 10,
    "start_time": "2023-10-16T08:40:32.739Z"
   },
   {
    "duration": 97,
    "start_time": "2023-10-16T08:40:32.750Z"
   },
   {
    "duration": 440937,
    "start_time": "2023-10-16T08:40:32.849Z"
   },
   {
    "duration": 24,
    "start_time": "2023-10-16T08:47:57.670Z"
   },
   {
    "duration": 34147,
    "start_time": "2023-10-16T08:47:58.183Z"
   },
   {
    "duration": 343945,
    "start_time": "2023-10-16T08:49:42.074Z"
   },
   {
    "duration": 3,
    "start_time": "2023-10-16T08:59:27.843Z"
   },
   {
    "duration": 1214,
    "start_time": "2023-10-16T08:59:28.258Z"
   },
   {
    "duration": 1534,
    "start_time": "2023-10-16T08:59:50.988Z"
   },
   {
    "duration": 1705,
    "start_time": "2023-10-16T09:00:02.608Z"
   },
   {
    "duration": 199,
    "start_time": "2023-10-16T09:03:53.029Z"
   },
   {
    "duration": 344438,
    "start_time": "2023-10-16T09:07:07.776Z"
   },
   {
    "duration": 2,
    "start_time": "2023-10-16T09:12:52.216Z"
   },
   {
    "duration": 1267,
    "start_time": "2023-10-16T09:12:52.219Z"
   },
   {
    "duration": 2,
    "start_time": "2023-10-16T09:12:53.488Z"
   },
   {
    "duration": 469568,
    "start_time": "2023-10-16T09:12:53.491Z"
   },
   {
    "duration": 218325,
    "start_time": "2023-10-16T09:21:20.534Z"
   },
   {
    "duration": 3536,
    "start_time": "2023-10-16T09:45:40.458Z"
   },
   {
    "duration": 1336,
    "start_time": "2023-10-16T09:45:51.041Z"
   },
   {
    "duration": 62,
    "start_time": "2023-10-16T09:45:52.379Z"
   },
   {
    "duration": 12,
    "start_time": "2023-10-16T09:45:52.443Z"
   },
   {
    "duration": 29,
    "start_time": "2023-10-16T09:45:52.458Z"
   },
   {
    "duration": 51,
    "start_time": "2023-10-16T09:45:52.490Z"
   },
   {
    "duration": 287,
    "start_time": "2023-10-16T09:45:52.542Z"
   },
   {
    "duration": 320,
    "start_time": "2023-10-16T09:45:52.831Z"
   },
   {
    "duration": 599,
    "start_time": "2023-10-16T09:45:53.153Z"
   },
   {
    "duration": 20,
    "start_time": "2023-10-16T09:45:53.753Z"
   },
   {
    "duration": 8,
    "start_time": "2023-10-16T09:45:53.774Z"
   },
   {
    "duration": 11,
    "start_time": "2023-10-16T09:45:53.783Z"
   },
   {
    "duration": 2853564,
    "start_time": "2023-10-16T09:45:53.796Z"
   },
   {
    "duration": 23,
    "start_time": "2023-10-16T10:33:27.361Z"
   },
   {
    "duration": 348653,
    "start_time": "2023-10-16T10:33:27.386Z"
   },
   {
    "duration": 2,
    "start_time": "2023-10-16T10:39:16.041Z"
   },
   {
    "duration": 1327,
    "start_time": "2023-10-16T10:39:16.044Z"
   },
   {
    "duration": 218,
    "start_time": "2023-10-16T10:39:17.373Z"
   },
   {
    "duration": 2384490,
    "start_time": "2023-10-16T10:39:17.592Z"
   },
   {
    "duration": 0,
    "start_time": "2023-10-16T11:19:02.085Z"
   },
   {
    "duration": 5293,
    "start_time": "2023-10-16T11:19:04.179Z"
   },
   {
    "duration": 13,
    "start_time": "2023-10-16T11:19:14.050Z"
   },
   {
    "duration": 5,
    "start_time": "2023-10-16T11:19:47.084Z"
   },
   {
    "duration": 9,
    "start_time": "2023-10-16T11:19:53.851Z"
   },
   {
    "duration": 4160,
    "start_time": "2023-10-16T11:20:40.805Z"
   },
   {
    "duration": 8250041,
    "start_time": "2023-10-16T11:21:09.930Z"
   },
   {
    "duration": 10,
    "start_time": "2023-10-16T13:41:35.261Z"
   },
   {
    "duration": 3445,
    "start_time": "2023-10-16T13:41:43.066Z"
   },
   {
    "duration": 5,
    "start_time": "2023-10-16T13:41:48.813Z"
   },
   {
    "duration": 12,
    "start_time": "2023-10-16T13:43:01.054Z"
   },
   {
    "duration": 8,
    "start_time": "2023-10-16T13:43:16.087Z"
   },
   {
    "duration": 13,
    "start_time": "2023-10-16T13:43:17.004Z"
   },
   {
    "duration": 7,
    "start_time": "2023-10-16T13:43:41.778Z"
   },
   {
    "duration": 5,
    "start_time": "2023-10-16T13:45:14.709Z"
   },
   {
    "duration": 1259,
    "start_time": "2023-10-16T13:45:45.264Z"
   },
   {
    "duration": 6,
    "start_time": "2023-10-16T13:46:25.130Z"
   },
   {
    "duration": 6,
    "start_time": "2023-10-16T13:47:10.905Z"
   },
   {
    "duration": 366186,
    "start_time": "2023-10-16T13:47:18.272Z"
   },
   {
    "duration": 33,
    "start_time": "2023-10-16T13:53:24.460Z"
   },
   {
    "duration": 1714164,
    "start_time": "2023-10-16T13:53:24.494Z"
   },
   {
    "duration": 7,
    "start_time": "2023-10-16T14:21:58.660Z"
   },
   {
    "duration": 16,
    "start_time": "2023-10-16T14:23:56.596Z"
   },
   {
    "duration": 4,
    "start_time": "2023-10-16T14:24:11.954Z"
   },
   {
    "duration": 6,
    "start_time": "2023-10-16T14:24:18.724Z"
   },
   {
    "duration": 36,
    "start_time": "2023-10-16T15:42:20.851Z"
   },
   {
    "duration": 30,
    "start_time": "2023-10-16T15:42:30.651Z"
   },
   {
    "duration": 28,
    "start_time": "2023-10-16T15:42:45.248Z"
   },
   {
    "duration": 3,
    "start_time": "2023-10-16T15:42:54.990Z"
   },
   {
    "duration": 58,
    "start_time": "2023-10-16T15:42:55.419Z"
   },
   {
    "duration": 9,
    "start_time": "2023-10-16T15:42:55.604Z"
   },
   {
    "duration": 11,
    "start_time": "2023-10-16T15:42:56.817Z"
   },
   {
    "duration": 27,
    "start_time": "2023-10-16T15:42:58.137Z"
   },
   {
    "duration": 17,
    "start_time": "2023-10-16T15:43:11.397Z"
   },
   {
    "duration": 8,
    "start_time": "2023-10-16T15:43:17.461Z"
   },
   {
    "duration": 5,
    "start_time": "2023-10-16T15:43:18.458Z"
   },
   {
    "duration": 1049,
    "start_time": "2023-10-16T15:43:33.614Z"
   },
   {
    "duration": 5,
    "start_time": "2023-10-16T15:43:36.934Z"
   },
   {
    "duration": 50,
    "start_time": "2023-10-16T15:43:54.982Z"
   },
   {
    "duration": 9,
    "start_time": "2023-10-16T15:43:55.415Z"
   },
   {
    "duration": 11,
    "start_time": "2023-10-16T15:43:56.015Z"
   },
   {
    "duration": 23,
    "start_time": "2023-10-16T15:43:57.051Z"
   },
   {
    "duration": 17,
    "start_time": "2023-10-16T15:44:08.849Z"
   },
   {
    "duration": 8,
    "start_time": "2023-10-16T15:44:12.060Z"
   },
   {
    "duration": 5,
    "start_time": "2023-10-16T15:44:13.502Z"
   },
   {
    "duration": 3,
    "start_time": "2023-10-16T15:44:26.772Z"
   },
   {
    "duration": 51,
    "start_time": "2023-10-16T15:44:27.077Z"
   },
   {
    "duration": 10,
    "start_time": "2023-10-16T15:44:27.254Z"
   },
   {
    "duration": 13,
    "start_time": "2023-10-16T15:44:27.643Z"
   },
   {
    "duration": 29,
    "start_time": "2023-10-16T15:44:30.442Z"
   },
   {
    "duration": 20,
    "start_time": "2023-10-16T15:44:38.356Z"
   },
   {
    "duration": 19,
    "start_time": "2023-10-16T15:44:43.338Z"
   },
   {
    "duration": 5,
    "start_time": "2023-10-16T15:44:44.559Z"
   },
   {
    "duration": 4,
    "start_time": "2023-10-16T15:44:57.550Z"
   },
   {
    "duration": 54,
    "start_time": "2023-10-16T15:44:58.021Z"
   },
   {
    "duration": 8,
    "start_time": "2023-10-16T15:44:58.255Z"
   },
   {
    "duration": 11,
    "start_time": "2023-10-16T15:44:58.560Z"
   },
   {
    "duration": 24,
    "start_time": "2023-10-16T15:44:59.400Z"
   },
   {
    "duration": 20,
    "start_time": "2023-10-16T15:45:03.608Z"
   },
   {
    "duration": 17,
    "start_time": "2023-10-16T15:45:05.038Z"
   },
   {
    "duration": 5,
    "start_time": "2023-10-16T15:45:05.769Z"
   },
   {
    "duration": 59,
    "start_time": "2023-10-16T15:45:19.708Z"
   },
   {
    "duration": 8,
    "start_time": "2023-10-16T15:45:19.887Z"
   },
   {
    "duration": 14,
    "start_time": "2023-10-16T15:45:20.239Z"
   },
   {
    "duration": 35,
    "start_time": "2023-10-16T15:45:20.799Z"
   },
   {
    "duration": 18,
    "start_time": "2023-10-16T15:45:27.620Z"
   },
   {
    "duration": 8,
    "start_time": "2023-10-16T15:45:31.422Z"
   },
   {
    "duration": 6,
    "start_time": "2023-10-16T15:45:32.506Z"
   },
   {
    "duration": 22,
    "start_time": "2023-10-16T15:47:42.514Z"
   },
   {
    "duration": 28,
    "start_time": "2023-10-16T15:47:44.441Z"
   },
   {
    "duration": 5,
    "start_time": "2023-10-16T15:47:44.921Z"
   },
   {
    "duration": 1098,
    "start_time": "2023-10-16T15:48:02.844Z"
   },
   {
    "duration": 5,
    "start_time": "2023-10-16T15:48:05.576Z"
   },
   {
    "duration": 3711,
    "start_time": "2023-10-16T15:49:21.626Z"
   },
   {
    "duration": 14,
    "start_time": "2023-10-16T15:49:29.991Z"
   },
   {
    "duration": 1653,
    "start_time": "2023-10-16T15:49:56.195Z"
   },
   {
    "duration": 58,
    "start_time": "2023-10-16T15:49:57.858Z"
   },
   {
    "duration": 9,
    "start_time": "2023-10-16T15:49:57.917Z"
   },
   {
    "duration": 18,
    "start_time": "2023-10-16T15:49:57.927Z"
   },
   {
    "duration": 31,
    "start_time": "2023-10-16T15:49:57.946Z"
   },
   {
    "duration": 322,
    "start_time": "2023-10-16T15:49:57.979Z"
   },
   {
    "duration": 318,
    "start_time": "2023-10-16T15:49:58.303Z"
   },
   {
    "duration": 615,
    "start_time": "2023-10-16T15:49:58.623Z"
   },
   {
    "duration": 25,
    "start_time": "2023-10-16T15:49:59.252Z"
   },
   {
    "duration": 10,
    "start_time": "2023-10-16T15:49:59.280Z"
   },
   {
    "duration": 7,
    "start_time": "2023-10-16T15:49:59.291Z"
   },
   {
    "duration": 51,
    "start_time": "2023-10-16T15:49:59.300Z"
   },
   {
    "duration": 564547,
    "start_time": "2023-10-16T15:49:59.360Z"
   },
   {
    "duration": 0,
    "start_time": "2023-10-16T15:59:23.909Z"
   },
   {
    "duration": 0,
    "start_time": "2023-10-16T15:59:23.910Z"
   },
   {
    "duration": 0,
    "start_time": "2023-10-16T15:59:23.910Z"
   },
   {
    "duration": 0,
    "start_time": "2023-10-16T15:59:23.911Z"
   },
   {
    "duration": 0,
    "start_time": "2023-10-16T15:59:23.912Z"
   },
   {
    "duration": 0,
    "start_time": "2023-10-16T15:59:23.913Z"
   },
   {
    "duration": 0,
    "start_time": "2023-10-16T15:59:23.913Z"
   },
   {
    "duration": 0,
    "start_time": "2023-10-16T15:59:23.914Z"
   },
   {
    "duration": 0,
    "start_time": "2023-10-16T15:59:23.915Z"
   },
   {
    "duration": 0,
    "start_time": "2023-10-16T15:59:23.916Z"
   },
   {
    "duration": 0,
    "start_time": "2023-10-16T15:59:23.917Z"
   },
   {
    "duration": 7,
    "start_time": "2023-10-16T15:59:44.725Z"
   },
   {
    "duration": 8,
    "start_time": "2023-10-16T15:59:45.359Z"
   },
   {
    "duration": 7,
    "start_time": "2023-10-16T16:00:03.983Z"
   },
   {
    "duration": 8,
    "start_time": "2023-10-16T16:00:04.817Z"
   },
   {
    "duration": 4,
    "start_time": "2023-10-16T16:24:55.962Z"
   },
   {
    "duration": 5,
    "start_time": "2023-10-16T16:25:32.978Z"
   },
   {
    "duration": 1354,
    "start_time": "2023-10-16T16:47:24.832Z"
   },
   {
    "duration": 56,
    "start_time": "2023-10-16T16:47:26.188Z"
   },
   {
    "duration": 11,
    "start_time": "2023-10-16T16:47:26.245Z"
   },
   {
    "duration": 23,
    "start_time": "2023-10-16T16:47:26.259Z"
   },
   {
    "duration": 29,
    "start_time": "2023-10-16T16:47:26.283Z"
   },
   {
    "duration": 311,
    "start_time": "2023-10-16T16:47:26.314Z"
   },
   {
    "duration": 284,
    "start_time": "2023-10-16T16:47:26.627Z"
   },
   {
    "duration": 594,
    "start_time": "2023-10-16T16:47:26.913Z"
   },
   {
    "duration": 18,
    "start_time": "2023-10-16T16:47:27.509Z"
   },
   {
    "duration": 8,
    "start_time": "2023-10-16T16:47:27.541Z"
   },
   {
    "duration": 6,
    "start_time": "2023-10-16T16:47:27.551Z"
   },
   {
    "duration": 8,
    "start_time": "2023-10-16T16:47:27.559Z"
   },
   {
    "duration": 13,
    "start_time": "2023-10-16T16:47:27.569Z"
   },
   {
    "duration": 11,
    "start_time": "2023-10-16T16:47:27.640Z"
   },
   {
    "duration": 146076,
    "start_time": "2023-10-16T16:47:27.652Z"
   },
   {
    "duration": 0,
    "start_time": "2023-10-16T16:49:53.729Z"
   },
   {
    "duration": 0,
    "start_time": "2023-10-16T16:49:53.731Z"
   },
   {
    "duration": 0,
    "start_time": "2023-10-16T16:49:53.732Z"
   },
   {
    "duration": 0,
    "start_time": "2023-10-16T16:49:53.734Z"
   },
   {
    "duration": 0,
    "start_time": "2023-10-16T16:49:53.735Z"
   },
   {
    "duration": 0,
    "start_time": "2023-10-16T16:49:53.736Z"
   },
   {
    "duration": 0,
    "start_time": "2023-10-16T16:49:53.737Z"
   },
   {
    "duration": 0,
    "start_time": "2023-10-16T16:49:53.739Z"
   },
   {
    "duration": 0,
    "start_time": "2023-10-16T16:49:53.740Z"
   },
   {
    "duration": 0,
    "start_time": "2023-10-16T16:49:53.741Z"
   },
   {
    "duration": 0,
    "start_time": "2023-10-16T16:49:53.743Z"
   },
   {
    "duration": 1379,
    "start_time": "2023-10-16T16:50:03.305Z"
   },
   {
    "duration": 54,
    "start_time": "2023-10-16T16:50:04.686Z"
   },
   {
    "duration": 9,
    "start_time": "2023-10-16T16:50:04.742Z"
   },
   {
    "duration": 12,
    "start_time": "2023-10-16T16:50:04.754Z"
   },
   {
    "duration": 25,
    "start_time": "2023-10-16T16:50:04.767Z"
   },
   {
    "duration": 312,
    "start_time": "2023-10-16T16:50:04.793Z"
   },
   {
    "duration": 277,
    "start_time": "2023-10-16T16:50:05.107Z"
   },
   {
    "duration": 855,
    "start_time": "2023-10-16T16:50:05.386Z"
   },
   {
    "duration": 20,
    "start_time": "2023-10-16T16:50:06.242Z"
   },
   {
    "duration": 11,
    "start_time": "2023-10-16T16:50:06.267Z"
   },
   {
    "duration": 11,
    "start_time": "2023-10-16T16:50:06.279Z"
   },
   {
    "duration": 68,
    "start_time": "2023-10-16T16:50:06.291Z"
   },
   {
    "duration": 9,
    "start_time": "2023-10-16T16:50:06.361Z"
   },
   {
    "duration": 10,
    "start_time": "2023-10-16T16:50:06.371Z"
   },
   {
    "duration": 152213,
    "start_time": "2023-10-16T16:50:06.382Z"
   },
   {
    "duration": 0,
    "start_time": "2023-10-16T16:52:38.596Z"
   },
   {
    "duration": 0,
    "start_time": "2023-10-16T16:52:38.597Z"
   },
   {
    "duration": 0,
    "start_time": "2023-10-16T16:52:38.598Z"
   },
   {
    "duration": 0,
    "start_time": "2023-10-16T16:52:38.599Z"
   },
   {
    "duration": 0,
    "start_time": "2023-10-16T16:52:38.600Z"
   },
   {
    "duration": 0,
    "start_time": "2023-10-16T16:52:38.601Z"
   },
   {
    "duration": 0,
    "start_time": "2023-10-16T16:52:38.602Z"
   },
   {
    "duration": 0,
    "start_time": "2023-10-16T16:52:38.603Z"
   },
   {
    "duration": 0,
    "start_time": "2023-10-16T16:52:38.604Z"
   },
   {
    "duration": 0,
    "start_time": "2023-10-16T16:52:38.604Z"
   },
   {
    "duration": 0,
    "start_time": "2023-10-16T16:52:38.606Z"
   },
   {
    "duration": 1306,
    "start_time": "2023-10-16T16:52:42.877Z"
   },
   {
    "duration": 55,
    "start_time": "2023-10-16T16:52:44.185Z"
   },
   {
    "duration": 9,
    "start_time": "2023-10-16T16:52:44.242Z"
   },
   {
    "duration": 17,
    "start_time": "2023-10-16T16:52:44.253Z"
   },
   {
    "duration": 30,
    "start_time": "2023-10-16T16:52:44.272Z"
   },
   {
    "duration": 314,
    "start_time": "2023-10-16T16:52:44.303Z"
   },
   {
    "duration": 267,
    "start_time": "2023-10-16T16:52:44.619Z"
   },
   {
    "duration": 862,
    "start_time": "2023-10-16T16:52:44.888Z"
   },
   {
    "duration": 19,
    "start_time": "2023-10-16T16:52:45.751Z"
   },
   {
    "duration": 10,
    "start_time": "2023-10-16T16:52:45.771Z"
   },
   {
    "duration": 5,
    "start_time": "2023-10-16T16:52:45.782Z"
   },
   {
    "duration": 51,
    "start_time": "2023-10-16T16:52:45.789Z"
   },
   {
    "duration": 9,
    "start_time": "2023-10-16T16:52:45.842Z"
   },
   {
    "duration": 30,
    "start_time": "2023-10-16T16:52:45.853Z"
   },
   {
    "duration": 155226,
    "start_time": "2023-10-16T16:52:45.884Z"
   },
   {
    "duration": 0,
    "start_time": "2023-10-16T16:55:21.112Z"
   },
   {
    "duration": 0,
    "start_time": "2023-10-16T16:55:21.113Z"
   },
   {
    "duration": 0,
    "start_time": "2023-10-16T16:55:21.114Z"
   },
   {
    "duration": 0,
    "start_time": "2023-10-16T16:55:21.115Z"
   },
   {
    "duration": 0,
    "start_time": "2023-10-16T16:55:21.116Z"
   },
   {
    "duration": 0,
    "start_time": "2023-10-16T16:55:21.117Z"
   },
   {
    "duration": 0,
    "start_time": "2023-10-16T16:55:21.118Z"
   },
   {
    "duration": 0,
    "start_time": "2023-10-16T16:55:21.119Z"
   },
   {
    "duration": 0,
    "start_time": "2023-10-16T16:55:21.120Z"
   },
   {
    "duration": 0,
    "start_time": "2023-10-16T16:55:21.121Z"
   },
   {
    "duration": 0,
    "start_time": "2023-10-16T16:55:21.122Z"
   },
   {
    "duration": 5570,
    "start_time": "2023-10-16T16:55:22.081Z"
   },
   {
    "duration": 1379,
    "start_time": "2023-10-16T16:55:30.799Z"
   },
   {
    "duration": 56,
    "start_time": "2023-10-16T16:55:32.179Z"
   },
   {
    "duration": 19,
    "start_time": "2023-10-16T16:55:32.237Z"
   },
   {
    "duration": 13,
    "start_time": "2023-10-16T16:55:32.257Z"
   },
   {
    "duration": 28,
    "start_time": "2023-10-16T16:55:32.272Z"
   },
   {
    "duration": 336,
    "start_time": "2023-10-16T16:55:32.301Z"
   },
   {
    "duration": 353,
    "start_time": "2023-10-16T16:55:32.639Z"
   },
   {
    "duration": 872,
    "start_time": "2023-10-16T16:55:32.994Z"
   },
   {
    "duration": 18,
    "start_time": "2023-10-16T16:55:33.868Z"
   },
   {
    "duration": 7,
    "start_time": "2023-10-16T16:55:33.888Z"
   },
   {
    "duration": 43,
    "start_time": "2023-10-16T16:55:33.897Z"
   },
   {
    "duration": 16,
    "start_time": "2023-10-16T16:55:33.942Z"
   },
   {
    "duration": 43428,
    "start_time": "2023-10-16T16:55:33.960Z"
   },
   {
    "duration": 2183,
    "start_time": "2023-10-16T16:56:17.390Z"
   },
   {
    "duration": 5,
    "start_time": "2023-10-16T16:56:19.574Z"
   },
   {
    "duration": 31,
    "start_time": "2023-10-16T16:56:19.580Z"
   },
   {
    "duration": 317806,
    "start_time": "2023-10-16T16:56:19.613Z"
   },
   {
    "duration": 38,
    "start_time": "2023-10-16T17:01:37.420Z"
   },
   {
    "duration": 2,
    "start_time": "2023-10-16T17:01:37.460Z"
   },
   {
    "duration": 1162,
    "start_time": "2023-10-16T17:01:37.464Z"
   },
   {
    "duration": 11,
    "start_time": "2023-10-16T17:01:38.628Z"
   },
   {
    "duration": 96,
    "start_time": "2023-10-16T17:01:38.641Z"
   },
   {
    "duration": 41454,
    "start_time": "2023-10-16T17:01:38.739Z"
   },
   {
    "duration": 0,
    "start_time": "2023-10-16T17:02:20.195Z"
   },
   {
    "duration": 2268,
    "start_time": "2023-10-16T17:02:27.376Z"
   },
   {
    "duration": 56,
    "start_time": "2023-10-16T17:02:29.646Z"
   },
   {
    "duration": 12,
    "start_time": "2023-10-16T17:02:29.704Z"
   },
   {
    "duration": 20,
    "start_time": "2023-10-16T17:02:29.718Z"
   },
   {
    "duration": 37,
    "start_time": "2023-10-16T17:02:29.740Z"
   },
   {
    "duration": 299,
    "start_time": "2023-10-16T17:02:29.778Z"
   },
   {
    "duration": 281,
    "start_time": "2023-10-16T17:02:30.079Z"
   },
   {
    "duration": 871,
    "start_time": "2023-10-16T17:02:30.362Z"
   },
   {
    "duration": 19,
    "start_time": "2023-10-16T17:02:31.235Z"
   },
   {
    "duration": 737,
    "start_time": "2023-10-16T17:02:31.256Z"
   },
   {
    "duration": 1226,
    "start_time": "2023-10-16T17:02:31.994Z"
   },
   {
    "duration": 31,
    "start_time": "2023-10-16T17:02:33.222Z"
   },
   {
    "duration": 8,
    "start_time": "2023-10-16T17:02:33.255Z"
   },
   {
    "duration": 19,
    "start_time": "2023-10-16T17:02:33.264Z"
   },
   {
    "duration": 8,
    "start_time": "2023-10-16T17:02:33.284Z"
   },
   {
    "duration": 35511,
    "start_time": "2023-10-16T17:02:33.293Z"
   },
   {
    "duration": 1239,
    "start_time": "2023-10-16T17:03:08.806Z"
   },
   {
    "duration": 4,
    "start_time": "2023-10-16T17:03:10.047Z"
   },
   {
    "duration": 78,
    "start_time": "2023-10-16T17:03:10.053Z"
   },
   {
    "duration": 1436,
    "start_time": "2023-10-16T17:05:01.262Z"
   },
   {
    "duration": 60,
    "start_time": "2023-10-16T17:05:02.701Z"
   },
   {
    "duration": 9,
    "start_time": "2023-10-16T17:05:02.763Z"
   },
   {
    "duration": 13,
    "start_time": "2023-10-16T17:05:02.773Z"
   },
   {
    "duration": 28,
    "start_time": "2023-10-16T17:05:02.788Z"
   },
   {
    "duration": 316,
    "start_time": "2023-10-16T17:05:02.817Z"
   },
   {
    "duration": 2836,
    "start_time": "2023-10-16T17:05:03.135Z"
   },
   {
    "duration": 0,
    "start_time": "2023-10-16T17:05:05.973Z"
   },
   {
    "duration": 0,
    "start_time": "2023-10-16T17:05:05.974Z"
   },
   {
    "duration": 1,
    "start_time": "2023-10-16T17:05:05.974Z"
   },
   {
    "duration": 0,
    "start_time": "2023-10-16T17:05:05.976Z"
   },
   {
    "duration": 0,
    "start_time": "2023-10-16T17:05:05.976Z"
   },
   {
    "duration": 0,
    "start_time": "2023-10-16T17:05:05.977Z"
   },
   {
    "duration": 0,
    "start_time": "2023-10-16T17:05:05.978Z"
   },
   {
    "duration": 0,
    "start_time": "2023-10-16T17:05:05.979Z"
   },
   {
    "duration": 0,
    "start_time": "2023-10-16T17:05:05.980Z"
   },
   {
    "duration": 0,
    "start_time": "2023-10-16T17:05:05.980Z"
   },
   {
    "duration": 0,
    "start_time": "2023-10-16T17:05:05.981Z"
   },
   {
    "duration": 0,
    "start_time": "2023-10-16T17:05:05.982Z"
   },
   {
    "duration": 0,
    "start_time": "2023-10-16T17:05:05.983Z"
   },
   {
    "duration": 0,
    "start_time": "2023-10-16T17:05:05.984Z"
   },
   {
    "duration": 0,
    "start_time": "2023-10-16T17:05:05.984Z"
   },
   {
    "duration": 0,
    "start_time": "2023-10-16T17:05:05.985Z"
   },
   {
    "duration": 0,
    "start_time": "2023-10-16T17:05:06.052Z"
   },
   {
    "duration": 0,
    "start_time": "2023-10-16T17:05:06.053Z"
   },
   {
    "duration": 0,
    "start_time": "2023-10-16T17:05:06.054Z"
   },
   {
    "duration": 0,
    "start_time": "2023-10-16T17:05:06.054Z"
   },
   {
    "duration": 894,
    "start_time": "2023-10-16T17:05:11.659Z"
   },
   {
    "duration": 16,
    "start_time": "2023-10-16T17:05:13.026Z"
   },
   {
    "duration": 1902,
    "start_time": "2023-10-16T17:05:18.121Z"
   },
   {
    "duration": 19,
    "start_time": "2023-10-16T17:05:28.317Z"
   },
   {
    "duration": 9,
    "start_time": "2023-10-16T17:05:29.804Z"
   },
   {
    "duration": 6,
    "start_time": "2023-10-16T17:05:31.388Z"
   },
   {
    "duration": 8,
    "start_time": "2023-10-16T17:05:35.417Z"
   },
   {
    "duration": 29184,
    "start_time": "2023-10-16T17:05:36.047Z"
   },
   {
    "duration": 1321,
    "start_time": "2023-10-16T17:06:05.233Z"
   },
   {
    "duration": 4,
    "start_time": "2023-10-16T17:06:06.555Z"
   },
   {
    "duration": 10,
    "start_time": "2023-10-16T17:06:30.709Z"
   },
   {
    "duration": 20,
    "start_time": "2023-10-16T17:06:35.624Z"
   },
   {
    "duration": 14,
    "start_time": "2023-10-16T17:06:35.947Z"
   },
   {
    "duration": 12,
    "start_time": "2023-10-16T17:06:46.311Z"
   },
   {
    "duration": 621,
    "start_time": "2023-10-16T17:06:49.432Z"
   },
   {
    "duration": 5,
    "start_time": "2023-10-16T17:06:53.476Z"
   },
   {
    "duration": 1403,
    "start_time": "2023-10-16T17:07:01.359Z"
   },
   {
    "duration": 56,
    "start_time": "2023-10-16T17:07:02.764Z"
   },
   {
    "duration": 10,
    "start_time": "2023-10-16T17:07:02.822Z"
   },
   {
    "duration": 20,
    "start_time": "2023-10-16T17:07:02.835Z"
   },
   {
    "duration": 26,
    "start_time": "2023-10-16T17:07:02.857Z"
   },
   {
    "duration": 304,
    "start_time": "2023-10-16T17:07:02.885Z"
   },
   {
    "duration": 1785,
    "start_time": "2023-10-16T17:07:03.191Z"
   },
   {
    "duration": 0,
    "start_time": "2023-10-16T17:07:04.978Z"
   },
   {
    "duration": 0,
    "start_time": "2023-10-16T17:07:04.979Z"
   },
   {
    "duration": 0,
    "start_time": "2023-10-16T17:07:04.980Z"
   },
   {
    "duration": 0,
    "start_time": "2023-10-16T17:07:04.981Z"
   },
   {
    "duration": 0,
    "start_time": "2023-10-16T17:07:04.982Z"
   },
   {
    "duration": 0,
    "start_time": "2023-10-16T17:07:04.983Z"
   },
   {
    "duration": 0,
    "start_time": "2023-10-16T17:07:04.984Z"
   },
   {
    "duration": 0,
    "start_time": "2023-10-16T17:07:04.985Z"
   },
   {
    "duration": 0,
    "start_time": "2023-10-16T17:07:04.986Z"
   },
   {
    "duration": 0,
    "start_time": "2023-10-16T17:07:04.986Z"
   },
   {
    "duration": 0,
    "start_time": "2023-10-16T17:07:04.987Z"
   },
   {
    "duration": 0,
    "start_time": "2023-10-16T17:07:04.988Z"
   },
   {
    "duration": 0,
    "start_time": "2023-10-16T17:07:04.989Z"
   },
   {
    "duration": 0,
    "start_time": "2023-10-16T17:07:04.990Z"
   },
   {
    "duration": 0,
    "start_time": "2023-10-16T17:07:04.992Z"
   },
   {
    "duration": 0,
    "start_time": "2023-10-16T17:07:04.992Z"
   },
   {
    "duration": 0,
    "start_time": "2023-10-16T17:07:05.064Z"
   },
   {
    "duration": 0,
    "start_time": "2023-10-16T17:07:05.065Z"
   },
   {
    "duration": 18,
    "start_time": "2023-10-16T17:07:20.096Z"
   },
   {
    "duration": 22,
    "start_time": "2023-10-16T17:07:21.055Z"
   },
   {
    "duration": 10,
    "start_time": "2023-10-16T17:07:21.483Z"
   },
   {
    "duration": 7,
    "start_time": "2023-10-16T17:07:21.677Z"
   },
   {
    "duration": 7,
    "start_time": "2023-10-16T17:07:22.403Z"
   },
   {
    "duration": 24477,
    "start_time": "2023-10-16T17:07:22.717Z"
   },
   {
    "duration": 0,
    "start_time": "2023-10-16T17:07:47.196Z"
   },
   {
    "duration": 0,
    "start_time": "2023-10-16T17:07:47.197Z"
   },
   {
    "duration": 0,
    "start_time": "2023-10-16T17:07:47.198Z"
   },
   {
    "duration": 0,
    "start_time": "2023-10-16T17:07:47.200Z"
   },
   {
    "duration": 0,
    "start_time": "2023-10-16T17:07:47.201Z"
   },
   {
    "duration": 0,
    "start_time": "2023-10-16T17:07:47.202Z"
   },
   {
    "duration": 0,
    "start_time": "2023-10-16T17:07:47.203Z"
   },
   {
    "duration": 0,
    "start_time": "2023-10-16T17:07:47.204Z"
   },
   {
    "duration": 0,
    "start_time": "2023-10-16T17:07:47.205Z"
   },
   {
    "duration": 0,
    "start_time": "2023-10-16T17:07:47.206Z"
   },
   {
    "duration": 0,
    "start_time": "2023-10-16T17:07:47.207Z"
   },
   {
    "duration": 1688,
    "start_time": "2023-10-16T17:07:50.498Z"
   },
   {
    "duration": 58,
    "start_time": "2023-10-16T17:07:52.187Z"
   },
   {
    "duration": 9,
    "start_time": "2023-10-16T17:07:52.246Z"
   },
   {
    "duration": 13,
    "start_time": "2023-10-16T17:07:52.256Z"
   },
   {
    "duration": 26,
    "start_time": "2023-10-16T17:07:52.271Z"
   },
   {
    "duration": 346,
    "start_time": "2023-10-16T17:07:52.299Z"
   },
   {
    "duration": 20,
    "start_time": "2023-10-16T17:07:52.647Z"
   },
   {
    "duration": 21,
    "start_time": "2023-10-16T17:07:52.671Z"
   },
   {
    "duration": 10,
    "start_time": "2023-10-16T17:07:52.694Z"
   },
   {
    "duration": 38,
    "start_time": "2023-10-16T17:07:52.706Z"
   },
   {
    "duration": 9,
    "start_time": "2023-10-16T17:07:52.746Z"
   },
   {
    "duration": 36298,
    "start_time": "2023-10-16T17:07:52.756Z"
   },
   {
    "duration": 2990,
    "start_time": "2023-10-16T17:08:29.055Z"
   },
   {
    "duration": 6,
    "start_time": "2023-10-16T17:08:32.049Z"
   },
   {
    "duration": 103,
    "start_time": "2023-10-16T17:08:32.056Z"
   },
   {
    "duration": 10889,
    "start_time": "2023-10-16T17:08:32.161Z"
   },
   {
    "duration": 0,
    "start_time": "2023-10-16T17:08:43.052Z"
   },
   {
    "duration": 0,
    "start_time": "2023-10-16T17:08:43.053Z"
   },
   {
    "duration": 0,
    "start_time": "2023-10-16T17:08:43.053Z"
   },
   {
    "duration": 0,
    "start_time": "2023-10-16T17:08:43.054Z"
   },
   {
    "duration": 0,
    "start_time": "2023-10-16T17:08:43.055Z"
   },
   {
    "duration": 0,
    "start_time": "2023-10-16T17:08:43.055Z"
   },
   {
    "duration": 0,
    "start_time": "2023-10-16T17:08:43.057Z"
   },
   {
    "duration": 3,
    "start_time": "2023-10-16T17:08:47.147Z"
   },
   {
    "duration": 1068,
    "start_time": "2023-10-16T17:08:47.440Z"
   },
   {
    "duration": 6,
    "start_time": "2023-10-16T17:08:49.320Z"
   },
   {
    "duration": 1421,
    "start_time": "2023-10-16T17:09:18.937Z"
   },
   {
    "duration": 58,
    "start_time": "2023-10-16T17:09:20.360Z"
   },
   {
    "duration": 10,
    "start_time": "2023-10-16T17:09:20.419Z"
   },
   {
    "duration": 18,
    "start_time": "2023-10-16T17:09:20.431Z"
   },
   {
    "duration": 28,
    "start_time": "2023-10-16T17:09:20.451Z"
   },
   {
    "duration": 305,
    "start_time": "2023-10-16T17:09:20.480Z"
   },
   {
    "duration": 16,
    "start_time": "2023-10-16T17:09:20.787Z"
   },
   {
    "duration": 29,
    "start_time": "2023-10-16T17:09:20.805Z"
   },
   {
    "duration": 16,
    "start_time": "2023-10-16T17:09:20.836Z"
   },
   {
    "duration": 14,
    "start_time": "2023-10-16T17:09:20.853Z"
   },
   {
    "duration": 15,
    "start_time": "2023-10-16T17:09:20.869Z"
   },
   {
    "duration": 25577,
    "start_time": "2023-10-16T17:09:20.886Z"
   },
   {
    "duration": 1632,
    "start_time": "2023-10-16T17:09:46.464Z"
   },
   {
    "duration": 5,
    "start_time": "2023-10-16T17:09:48.099Z"
   },
   {
    "duration": 24,
    "start_time": "2023-10-16T17:09:48.106Z"
   },
   {
    "duration": 77341,
    "start_time": "2023-10-16T17:09:48.132Z"
   },
   {
    "duration": 0,
    "start_time": "2023-10-16T17:11:05.475Z"
   },
   {
    "duration": 0,
    "start_time": "2023-10-16T17:11:05.476Z"
   },
   {
    "duration": 0,
    "start_time": "2023-10-16T17:11:05.477Z"
   },
   {
    "duration": 0,
    "start_time": "2023-10-16T17:11:05.478Z"
   },
   {
    "duration": 0,
    "start_time": "2023-10-16T17:11:05.479Z"
   },
   {
    "duration": 0,
    "start_time": "2023-10-16T17:11:05.480Z"
   },
   {
    "duration": 0,
    "start_time": "2023-10-16T17:11:05.481Z"
   },
   {
    "duration": 1363,
    "start_time": "2023-10-16T17:12:23.965Z"
   },
   {
    "duration": 57,
    "start_time": "2023-10-16T17:12:25.329Z"
   },
   {
    "duration": 10,
    "start_time": "2023-10-16T17:12:25.387Z"
   },
   {
    "duration": 28,
    "start_time": "2023-10-16T17:12:25.398Z"
   },
   {
    "duration": 1747,
    "start_time": "2023-10-16T17:12:25.427Z"
   },
   {
    "duration": 0,
    "start_time": "2023-10-16T17:12:27.176Z"
   },
   {
    "duration": 0,
    "start_time": "2023-10-16T17:12:27.177Z"
   },
   {
    "duration": 0,
    "start_time": "2023-10-16T17:12:27.178Z"
   },
   {
    "duration": 0,
    "start_time": "2023-10-16T17:12:27.179Z"
   },
   {
    "duration": 0,
    "start_time": "2023-10-16T17:12:27.180Z"
   },
   {
    "duration": 1,
    "start_time": "2023-10-16T17:12:27.180Z"
   },
   {
    "duration": 0,
    "start_time": "2023-10-16T17:12:27.182Z"
   },
   {
    "duration": 0,
    "start_time": "2023-10-16T17:12:27.183Z"
   },
   {
    "duration": 0,
    "start_time": "2023-10-16T17:12:27.184Z"
   },
   {
    "duration": 0,
    "start_time": "2023-10-16T17:12:27.185Z"
   },
   {
    "duration": 0,
    "start_time": "2023-10-16T17:12:27.186Z"
   },
   {
    "duration": 0,
    "start_time": "2023-10-16T17:12:27.186Z"
   },
   {
    "duration": 0,
    "start_time": "2023-10-16T17:12:27.187Z"
   },
   {
    "duration": 0,
    "start_time": "2023-10-16T17:12:27.188Z"
   },
   {
    "duration": 0,
    "start_time": "2023-10-16T17:12:27.189Z"
   },
   {
    "duration": 0,
    "start_time": "2023-10-16T17:12:27.190Z"
   },
   {
    "duration": 0,
    "start_time": "2023-10-16T17:12:27.190Z"
   },
   {
    "duration": 0,
    "start_time": "2023-10-16T17:12:27.191Z"
   },
   {
    "duration": 24,
    "start_time": "2023-10-16T17:12:43.776Z"
   },
   {
    "duration": 296,
    "start_time": "2023-10-16T17:12:44.269Z"
   },
   {
    "duration": 17,
    "start_time": "2023-10-16T17:12:44.742Z"
   },
   {
    "duration": 23,
    "start_time": "2023-10-16T17:12:45.544Z"
   },
   {
    "duration": 8,
    "start_time": "2023-10-16T17:12:45.866Z"
   },
   {
    "duration": 5,
    "start_time": "2023-10-16T17:12:46.028Z"
   },
   {
    "duration": 12,
    "start_time": "2023-10-16T17:12:46.346Z"
   },
   {
    "duration": 90405,
    "start_time": "2023-10-16T17:12:46.505Z"
   },
   {
    "duration": 1491,
    "start_time": "2023-10-16T17:14:16.912Z"
   },
   {
    "duration": 4,
    "start_time": "2023-10-16T17:14:18.405Z"
   },
   {
    "duration": 28,
    "start_time": "2023-10-16T17:14:18.411Z"
   },
   {
    "duration": 19806,
    "start_time": "2023-10-16T17:14:18.441Z"
   },
   {
    "duration": 0,
    "start_time": "2023-10-16T17:14:38.249Z"
   },
   {
    "duration": 0,
    "start_time": "2023-10-16T17:14:38.250Z"
   },
   {
    "duration": 0,
    "start_time": "2023-10-16T17:14:38.251Z"
   },
   {
    "duration": 0,
    "start_time": "2023-10-16T17:14:38.252Z"
   },
   {
    "duration": 0,
    "start_time": "2023-10-16T17:14:38.254Z"
   },
   {
    "duration": 0,
    "start_time": "2023-10-16T17:14:38.255Z"
   },
   {
    "duration": 0,
    "start_time": "2023-10-16T17:14:38.256Z"
   },
   {
    "duration": 2,
    "start_time": "2023-10-16T17:15:01.201Z"
   },
   {
    "duration": 1207,
    "start_time": "2023-10-16T17:15:01.764Z"
   },
   {
    "duration": 5,
    "start_time": "2023-10-16T17:15:02.972Z"
   },
   {
    "duration": 299225,
    "start_time": "2023-10-16T17:15:57.326Z"
   },
   {
    "duration": 37,
    "start_time": "2023-10-16T17:20:56.553Z"
   },
   {
    "duration": 139,
    "start_time": "2023-10-16T17:20:56.591Z"
   },
   {
    "duration": 1493,
    "start_time": "2023-10-16T17:53:28.628Z"
   },
   {
    "duration": 61,
    "start_time": "2023-10-16T17:53:30.123Z"
   },
   {
    "duration": 10,
    "start_time": "2023-10-16T17:53:30.185Z"
   },
   {
    "duration": 29,
    "start_time": "2023-10-16T17:53:30.196Z"
   },
   {
    "duration": 43,
    "start_time": "2023-10-16T17:53:30.227Z"
   },
   {
    "duration": 309,
    "start_time": "2023-10-16T17:53:30.272Z"
   },
   {
    "duration": 340,
    "start_time": "2023-10-16T17:53:30.582Z"
   },
   {
    "duration": 958,
    "start_time": "2023-10-16T17:53:30.923Z"
   },
   {
    "duration": 18,
    "start_time": "2023-10-16T17:53:31.883Z"
   },
   {
    "duration": 18,
    "start_time": "2023-10-16T17:53:31.902Z"
   },
   {
    "duration": 25,
    "start_time": "2023-10-16T17:53:31.921Z"
   },
   {
    "duration": 1307,
    "start_time": "2023-10-16T17:53:31.947Z"
   },
   {
    "duration": 7,
    "start_time": "2023-10-16T17:53:33.255Z"
   },
   {
    "duration": 245661,
    "start_time": "2023-10-16T17:53:33.265Z"
   },
   {
    "duration": 0,
    "start_time": "2023-10-16T17:57:38.928Z"
   },
   {
    "duration": 0,
    "start_time": "2023-10-16T17:57:38.939Z"
   },
   {
    "duration": 0,
    "start_time": "2023-10-16T17:57:38.940Z"
   },
   {
    "duration": 0,
    "start_time": "2023-10-16T17:57:38.940Z"
   },
   {
    "duration": 0,
    "start_time": "2023-10-16T17:57:38.941Z"
   },
   {
    "duration": 0,
    "start_time": "2023-10-16T17:57:38.942Z"
   },
   {
    "duration": 0,
    "start_time": "2023-10-16T17:57:38.943Z"
   },
   {
    "duration": 0,
    "start_time": "2023-10-16T17:57:38.944Z"
   },
   {
    "duration": 0,
    "start_time": "2023-10-16T17:57:38.945Z"
   },
   {
    "duration": 1363,
    "start_time": "2023-10-16T17:57:47.284Z"
   },
   {
    "duration": 55,
    "start_time": "2023-10-16T17:57:48.649Z"
   },
   {
    "duration": 9,
    "start_time": "2023-10-16T17:57:48.705Z"
   },
   {
    "duration": 12,
    "start_time": "2023-10-16T17:57:48.716Z"
   },
   {
    "duration": 38,
    "start_time": "2023-10-16T17:57:48.729Z"
   },
   {
    "duration": 316,
    "start_time": "2023-10-16T17:57:48.769Z"
   },
   {
    "duration": 344,
    "start_time": "2023-10-16T17:57:49.087Z"
   },
   {
    "duration": 951,
    "start_time": "2023-10-16T17:57:49.432Z"
   },
   {
    "duration": 19,
    "start_time": "2023-10-16T17:57:50.385Z"
   },
   {
    "duration": 8,
    "start_time": "2023-10-16T17:57:50.405Z"
   },
   {
    "duration": 41,
    "start_time": "2023-10-16T17:57:50.414Z"
   },
   {
    "duration": 5,
    "start_time": "2023-10-16T17:58:01.355Z"
   },
   {
    "duration": 7,
    "start_time": "2023-10-16T17:58:10.981Z"
   },
   {
    "duration": 6,
    "start_time": "2023-10-16T17:58:50.785Z"
   },
   {
    "duration": 8,
    "start_time": "2023-10-16T17:58:52.011Z"
   },
   {
    "duration": 7,
    "start_time": "2023-10-16T17:58:52.556Z"
   },
   {
    "duration": 118,
    "start_time": "2023-10-16T18:00:14.217Z"
   },
   {
    "duration": 8,
    "start_time": "2023-10-16T18:00:16.782Z"
   },
   {
    "duration": 543,
    "start_time": "2023-10-16T18:01:03.106Z"
   },
   {
    "duration": 800,
    "start_time": "2023-10-16T18:01:28.245Z"
   },
   {
    "duration": 1121,
    "start_time": "2023-10-16T18:01:44.929Z"
   },
   {
    "duration": 6,
    "start_time": "2023-10-16T18:01:47.249Z"
   },
   {
    "duration": 5,
    "start_time": "2023-10-16T18:01:55.564Z"
   },
   {
    "duration": 1629,
    "start_time": "2023-10-16T18:03:29.762Z"
   },
   {
    "duration": 63,
    "start_time": "2023-10-16T18:03:31.393Z"
   },
   {
    "duration": 11,
    "start_time": "2023-10-16T18:03:31.458Z"
   },
   {
    "duration": 86,
    "start_time": "2023-10-16T18:03:31.470Z"
   },
   {
    "duration": 58,
    "start_time": "2023-10-16T18:03:31.558Z"
   },
   {
    "duration": 352,
    "start_time": "2023-10-16T18:03:31.617Z"
   },
   {
    "duration": 342,
    "start_time": "2023-10-16T18:03:31.972Z"
   },
   {
    "duration": 980,
    "start_time": "2023-10-16T18:03:32.316Z"
   },
   {
    "duration": 7,
    "start_time": "2023-10-16T18:03:33.298Z"
   },
   {
    "duration": 760,
    "start_time": "2023-10-16T18:03:33.306Z"
   },
   {
    "duration": 1213,
    "start_time": "2023-10-16T18:03:34.072Z"
   },
   {
    "duration": 308132,
    "start_time": "2023-10-16T18:03:35.286Z"
   },
   {
    "duration": 7,
    "start_time": "2023-10-16T18:08:43.420Z"
   },
   {
    "duration": 58223,
    "start_time": "2023-10-16T18:08:43.429Z"
   },
   {
    "duration": 0,
    "start_time": "2023-10-16T18:09:41.654Z"
   },
   {
    "duration": 0,
    "start_time": "2023-10-16T18:09:41.655Z"
   },
   {
    "duration": 1659,
    "start_time": "2023-10-16T18:09:45.914Z"
   },
   {
    "duration": 59,
    "start_time": "2023-10-16T18:09:47.575Z"
   },
   {
    "duration": 17,
    "start_time": "2023-10-16T18:09:47.635Z"
   },
   {
    "duration": 24,
    "start_time": "2023-10-16T18:09:47.654Z"
   },
   {
    "duration": 39,
    "start_time": "2023-10-16T18:09:47.680Z"
   },
   {
    "duration": 343,
    "start_time": "2023-10-16T18:09:47.721Z"
   },
   {
    "duration": 341,
    "start_time": "2023-10-16T18:09:48.066Z"
   },
   {
    "duration": 950,
    "start_time": "2023-10-16T18:09:48.409Z"
   },
   {
    "duration": 8,
    "start_time": "2023-10-16T18:09:49.361Z"
   },
   {
    "duration": 814,
    "start_time": "2023-10-16T18:09:49.373Z"
   },
   {
    "duration": 0,
    "start_time": "2023-10-16T18:09:50.189Z"
   },
   {
    "duration": 0,
    "start_time": "2023-10-16T18:09:50.190Z"
   },
   {
    "duration": 0,
    "start_time": "2023-10-16T18:09:50.191Z"
   },
   {
    "duration": 0,
    "start_time": "2023-10-16T18:09:50.192Z"
   },
   {
    "duration": 0,
    "start_time": "2023-10-16T18:09:50.193Z"
   },
   {
    "duration": 0,
    "start_time": "2023-10-16T18:09:50.194Z"
   },
   {
    "duration": 975,
    "start_time": "2023-10-16T18:10:24.876Z"
   },
   {
    "duration": 730,
    "start_time": "2023-10-16T18:11:23.617Z"
   },
   {
    "duration": 668,
    "start_time": "2023-10-16T18:11:38.980Z"
   },
   {
    "duration": 592,
    "start_time": "2023-10-16T18:11:53.377Z"
   },
   {
    "duration": 1123,
    "start_time": "2023-10-16T18:11:57.081Z"
   },
   {
    "duration": 61602,
    "start_time": "2023-10-16T18:11:58.205Z"
   },
   {
    "duration": 0,
    "start_time": "2023-10-16T18:12:59.809Z"
   },
   {
    "duration": 0,
    "start_time": "2023-10-16T18:12:59.810Z"
   },
   {
    "duration": 0,
    "start_time": "2023-10-16T18:12:59.810Z"
   },
   {
    "duration": 0,
    "start_time": "2023-10-16T18:12:59.811Z"
   },
   {
    "duration": 31920,
    "start_time": "2023-10-16T18:13:04.270Z"
   },
   {
    "duration": 32390,
    "start_time": "2023-10-16T18:13:42.520Z"
   },
   {
    "duration": 7,
    "start_time": "2023-10-16T18:14:14.912Z"
   },
   {
    "duration": 90516,
    "start_time": "2023-10-16T18:14:14.920Z"
   },
   {
    "duration": 1753,
    "start_time": "2023-10-16T18:15:45.437Z"
   },
   {
    "duration": 457187,
    "start_time": "2023-10-16T18:15:47.192Z"
   },
   {
    "duration": 1595,
    "start_time": "2023-10-16T18:23:26.931Z"
   },
   {
    "duration": 68,
    "start_time": "2023-10-16T18:23:28.528Z"
   },
   {
    "duration": 11,
    "start_time": "2023-10-16T18:23:28.597Z"
   },
   {
    "duration": 13,
    "start_time": "2023-10-16T18:23:28.609Z"
   },
   {
    "duration": 37,
    "start_time": "2023-10-16T18:23:28.624Z"
   },
   {
    "duration": 315,
    "start_time": "2023-10-16T18:23:28.662Z"
   },
   {
    "duration": 332,
    "start_time": "2023-10-16T18:23:28.979Z"
   },
   {
    "duration": 920,
    "start_time": "2023-10-16T18:23:29.312Z"
   },
   {
    "duration": 12,
    "start_time": "2023-10-16T18:23:30.234Z"
   },
   {
    "duration": 994,
    "start_time": "2023-10-16T18:23:30.247Z"
   },
   {
    "duration": 1218,
    "start_time": "2023-10-16T18:23:31.242Z"
   },
   {
    "duration": 33217,
    "start_time": "2023-10-16T18:23:32.463Z"
   },
   {
    "duration": 7,
    "start_time": "2023-10-16T18:24:05.682Z"
   },
   {
    "duration": 43347,
    "start_time": "2023-10-16T18:24:05.690Z"
   },
   {
    "duration": 2032,
    "start_time": "2023-10-16T18:24:49.039Z"
   },
   {
    "duration": 77513,
    "start_time": "2023-10-16T18:24:51.072Z"
   },
   {
    "duration": 5,
    "start_time": "2023-10-16T18:26:12.325Z"
   },
   {
    "duration": 672,
    "start_time": "2023-10-16T18:29:37.017Z"
   },
   {
    "duration": 742,
    "start_time": "2023-10-16T18:30:00.921Z"
   },
   {
    "duration": 632,
    "start_time": "2023-10-16T18:30:06.391Z"
   },
   {
    "duration": 19,
    "start_time": "2023-10-16T18:30:16.606Z"
   },
   {
    "duration": 4,
    "start_time": "2023-10-16T18:31:43.448Z"
   },
   {
    "duration": 50,
    "start_time": "2023-10-16T18:31:43.751Z"
   },
   {
    "duration": 14,
    "start_time": "2023-10-16T18:31:44.071Z"
   },
   {
    "duration": 13,
    "start_time": "2023-10-16T18:31:44.571Z"
   },
   {
    "duration": 115,
    "start_time": "2023-10-16T18:31:44.885Z"
   },
   {
    "duration": 270,
    "start_time": "2023-10-16T18:31:45.380Z"
   },
   {
    "duration": 319,
    "start_time": "2023-10-16T18:31:45.652Z"
   },
   {
    "duration": 10,
    "start_time": "2023-10-16T18:31:45.976Z"
   },
   {
    "duration": 0,
    "start_time": "2023-10-16T18:31:45.988Z"
   },
   {
    "duration": 1682,
    "start_time": "2023-10-16T18:32:00.619Z"
   },
   {
    "duration": 2215,
    "start_time": "2023-10-16T18:32:13.680Z"
   },
   {
    "duration": 1324,
    "start_time": "2023-10-16T18:32:30.879Z"
   },
   {
    "duration": 10,
    "start_time": "2023-10-16T18:34:02.306Z"
   },
   {
    "duration": 10,
    "start_time": "2023-10-16T18:34:30.984Z"
   },
   {
    "duration": 8,
    "start_time": "2023-10-16T18:34:47.284Z"
   },
   {
    "duration": 11,
    "start_time": "2023-10-16T18:35:14.703Z"
   },
   {
    "duration": 275,
    "start_time": "2023-10-16T18:35:24.633Z"
   },
   {
    "duration": 287,
    "start_time": "2023-10-16T18:35:44.173Z"
   },
   {
    "duration": 330,
    "start_time": "2023-10-16T18:35:52.258Z"
   },
   {
    "duration": 306,
    "start_time": "2023-10-16T18:35:59.329Z"
   },
   {
    "duration": 653,
    "start_time": "2023-10-16T18:36:10.476Z"
   },
   {
    "duration": 396,
    "start_time": "2023-10-16T18:36:19.956Z"
   },
   {
    "duration": 3,
    "start_time": "2023-10-16T18:36:45.874Z"
   },
   {
    "duration": 60,
    "start_time": "2023-10-16T18:36:46.209Z"
   },
   {
    "duration": 8,
    "start_time": "2023-10-16T18:36:46.528Z"
   },
   {
    "duration": 12,
    "start_time": "2023-10-16T18:36:47.034Z"
   },
   {
    "duration": 26,
    "start_time": "2023-10-16T18:36:47.383Z"
   },
   {
    "duration": 246,
    "start_time": "2023-10-16T18:36:47.888Z"
   },
   {
    "duration": 272,
    "start_time": "2023-10-16T18:36:48.135Z"
   },
   {
    "duration": 353,
    "start_time": "2023-10-16T18:36:48.504Z"
   },
   {
    "duration": 861,
    "start_time": "2023-10-16T18:36:50.326Z"
   },
   {
    "duration": 4,
    "start_time": "2023-10-16T18:37:13.083Z"
   },
   {
    "duration": 93,
    "start_time": "2023-10-16T18:37:13.088Z"
   },
   {
    "duration": 8,
    "start_time": "2023-10-16T18:37:13.183Z"
   },
   {
    "duration": 10,
    "start_time": "2023-10-16T18:37:13.193Z"
   },
   {
    "duration": 25,
    "start_time": "2023-10-16T18:37:13.204Z"
   },
   {
    "duration": 290,
    "start_time": "2023-10-16T18:37:13.230Z"
   },
   {
    "duration": 403,
    "start_time": "2023-10-16T18:37:13.522Z"
   },
   {
    "duration": 364,
    "start_time": "2023-10-16T18:37:13.926Z"
   },
   {
    "duration": 954,
    "start_time": "2023-10-16T18:37:30.573Z"
   },
   {
    "duration": 9,
    "start_time": "2023-10-16T18:37:37.966Z"
   },
   {
    "duration": 849,
    "start_time": "2023-10-16T18:37:39.243Z"
   },
   {
    "duration": 6,
    "start_time": "2023-10-16T18:37:45.709Z"
   },
   {
    "duration": 4,
    "start_time": "2023-10-16T18:38:13.177Z"
   },
   {
    "duration": 69,
    "start_time": "2023-10-16T18:38:13.183Z"
   },
   {
    "duration": 13,
    "start_time": "2023-10-16T18:38:13.254Z"
   },
   {
    "duration": 14,
    "start_time": "2023-10-16T18:38:13.269Z"
   },
   {
    "duration": 24,
    "start_time": "2023-10-16T18:38:13.285Z"
   },
   {
    "duration": 290,
    "start_time": "2023-10-16T18:38:13.311Z"
   },
   {
    "duration": 265,
    "start_time": "2023-10-16T18:38:13.603Z"
   },
   {
    "duration": 347,
    "start_time": "2023-10-16T18:38:13.871Z"
   },
   {
    "duration": 978,
    "start_time": "2023-10-16T18:38:14.220Z"
   },
   {
    "duration": 9,
    "start_time": "2023-10-16T18:38:15.199Z"
   },
   {
    "duration": 672,
    "start_time": "2023-10-16T18:38:15.210Z"
   },
   {
    "duration": 1411,
    "start_time": "2023-10-16T18:38:15.940Z"
   },
   {
    "duration": 5,
    "start_time": "2023-10-16T18:38:26.677Z"
   },
   {
    "duration": 36656,
    "start_time": "2023-10-16T18:38:27.190Z"
   },
   {
    "duration": 1511,
    "start_time": "2023-10-16T18:39:21.719Z"
   },
   {
    "duration": 57,
    "start_time": "2023-10-16T18:39:23.232Z"
   },
   {
    "duration": 9,
    "start_time": "2023-10-16T18:39:23.290Z"
   },
   {
    "duration": 11,
    "start_time": "2023-10-16T18:39:23.301Z"
   },
   {
    "duration": 30,
    "start_time": "2023-10-16T18:39:23.314Z"
   },
   {
    "duration": 308,
    "start_time": "2023-10-16T18:39:23.345Z"
   },
   {
    "duration": 289,
    "start_time": "2023-10-16T18:39:23.655Z"
   },
   {
    "duration": 128,
    "start_time": "2023-10-16T18:39:23.946Z"
   },
   {
    "duration": 0,
    "start_time": "2023-10-16T18:39:24.076Z"
   },
   {
    "duration": 0,
    "start_time": "2023-10-16T18:39:24.077Z"
   },
   {
    "duration": 0,
    "start_time": "2023-10-16T18:39:24.078Z"
   },
   {
    "duration": 340,
    "start_time": "2023-10-16T18:39:51.992Z"
   },
   {
    "duration": 937,
    "start_time": "2023-10-16T18:39:55.802Z"
   },
   {
    "duration": 8,
    "start_time": "2023-10-16T18:39:56.947Z"
   },
   {
    "duration": 79,
    "start_time": "2023-10-16T18:39:58.321Z"
   },
   {
    "duration": 1147,
    "start_time": "2023-10-16T18:40:00.761Z"
   },
   {
    "duration": 6,
    "start_time": "2023-10-16T18:40:06.227Z"
   },
   {
    "duration": 23,
    "start_time": "2023-10-16T18:43:04.912Z"
   },
   {
    "duration": 1527,
    "start_time": "2023-10-16T18:43:21.371Z"
   },
   {
    "duration": 65,
    "start_time": "2023-10-16T18:43:22.900Z"
   },
   {
    "duration": 9,
    "start_time": "2023-10-16T18:43:22.967Z"
   },
   {
    "duration": 17,
    "start_time": "2023-10-16T18:43:22.977Z"
   },
   {
    "duration": 29,
    "start_time": "2023-10-16T18:43:22.995Z"
   },
   {
    "duration": 303,
    "start_time": "2023-10-16T18:43:23.254Z"
   },
   {
    "duration": 300,
    "start_time": "2023-10-16T18:43:23.559Z"
   },
   {
    "duration": 408,
    "start_time": "2023-10-16T18:43:23.861Z"
   },
   {
    "duration": 896,
    "start_time": "2023-10-16T18:43:24.271Z"
   },
   {
    "duration": 6,
    "start_time": "2023-10-16T18:43:25.168Z"
   },
   {
    "duration": 102,
    "start_time": "2023-10-16T18:43:25.176Z"
   },
   {
    "duration": 1293,
    "start_time": "2023-10-16T18:43:25.280Z"
   },
   {
    "duration": 33613,
    "start_time": "2023-10-16T18:43:26.574Z"
   },
   {
    "duration": 8,
    "start_time": "2023-10-16T18:44:00.190Z"
   },
   {
    "duration": 56776,
    "start_time": "2023-10-16T18:44:00.199Z"
   },
   {
    "duration": 2263,
    "start_time": "2023-10-16T18:44:56.976Z"
   },
   {
    "duration": 5,
    "start_time": "2023-10-16T18:45:03.394Z"
   },
   {
    "duration": 12,
    "start_time": "2023-10-16T18:45:46.318Z"
   },
   {
    "duration": 40865,
    "start_time": "2023-10-16T18:45:53.580Z"
   },
   {
    "duration": 1492,
    "start_time": "2023-10-16T18:46:41.717Z"
   },
   {
    "duration": 65,
    "start_time": "2023-10-16T18:46:43.211Z"
   },
   {
    "duration": 8,
    "start_time": "2023-10-16T18:46:43.278Z"
   },
   {
    "duration": 13,
    "start_time": "2023-10-16T18:46:43.287Z"
   },
   {
    "duration": 25,
    "start_time": "2023-10-16T18:46:43.301Z"
   },
   {
    "duration": 312,
    "start_time": "2023-10-16T18:46:43.339Z"
   },
   {
    "duration": 284,
    "start_time": "2023-10-16T18:46:43.652Z"
   },
   {
    "duration": 342,
    "start_time": "2023-10-16T18:46:43.938Z"
   },
   {
    "duration": 896,
    "start_time": "2023-10-16T18:46:44.281Z"
   },
   {
    "duration": 7,
    "start_time": "2023-10-16T18:46:45.178Z"
   },
   {
    "duration": 92,
    "start_time": "2023-10-16T18:46:50.268Z"
   },
   {
    "duration": 1128,
    "start_time": "2023-10-16T18:46:53.773Z"
   },
   {
    "duration": 128,
    "start_time": "2023-10-16T18:46:59.632Z"
   },
   {
    "duration": 5,
    "start_time": "2023-10-16T18:47:06.888Z"
   },
   {
    "duration": 5,
    "start_time": "2023-10-16T18:48:38.546Z"
   },
   {
    "duration": 378,
    "start_time": "2023-10-16T18:48:41.018Z"
   },
   {
    "duration": 1572,
    "start_time": "2023-10-16T18:49:16.604Z"
   },
   {
    "duration": 55,
    "start_time": "2023-10-16T18:49:18.178Z"
   },
   {
    "duration": 13,
    "start_time": "2023-10-16T18:49:18.235Z"
   },
   {
    "duration": 17,
    "start_time": "2023-10-16T18:49:18.251Z"
   },
   {
    "duration": 27,
    "start_time": "2023-10-16T18:49:18.270Z"
   },
   {
    "duration": 3,
    "start_time": "2023-10-16T18:49:18.299Z"
   },
   {
    "duration": 446,
    "start_time": "2023-10-16T18:49:18.303Z"
   },
   {
    "duration": 367,
    "start_time": "2023-10-16T18:49:18.751Z"
   },
   {
    "duration": 402,
    "start_time": "2023-10-16T18:49:19.119Z"
   },
   {
    "duration": 1151,
    "start_time": "2023-10-16T18:49:19.523Z"
   },
   {
    "duration": 7,
    "start_time": "2023-10-16T18:49:20.676Z"
   },
   {
    "duration": 76,
    "start_time": "2023-10-16T18:49:20.684Z"
   },
   {
    "duration": 751,
    "start_time": "2023-10-16T18:49:20.762Z"
   },
   {
    "duration": 10,
    "start_time": "2023-10-16T18:49:30.564Z"
   },
   {
    "duration": 5,
    "start_time": "2023-10-16T18:49:47.369Z"
   },
   {
    "duration": 8,
    "start_time": "2023-10-16T18:49:53.719Z"
   },
   {
    "duration": 55533,
    "start_time": "2023-10-16T18:49:54.194Z"
   },
   {
    "duration": 1288,
    "start_time": "2023-10-16T18:50:49.728Z"
   },
   {
    "duration": 4,
    "start_time": "2023-10-16T18:50:55.279Z"
   },
   {
    "duration": 1677,
    "start_time": "2023-10-16T18:52:21.970Z"
   },
   {
    "duration": 56,
    "start_time": "2023-10-16T18:52:23.650Z"
   },
   {
    "duration": 9,
    "start_time": "2023-10-16T18:52:23.707Z"
   },
   {
    "duration": 11,
    "start_time": "2023-10-16T18:52:23.718Z"
   },
   {
    "duration": 43,
    "start_time": "2023-10-16T18:52:23.731Z"
   },
   {
    "duration": 4,
    "start_time": "2023-10-16T18:52:23.776Z"
   },
   {
    "duration": 423,
    "start_time": "2023-10-16T18:52:23.782Z"
   },
   {
    "duration": 380,
    "start_time": "2023-10-16T18:52:24.208Z"
   },
   {
    "duration": 418,
    "start_time": "2023-10-16T18:52:24.589Z"
   },
   {
    "duration": 1156,
    "start_time": "2023-10-16T18:52:25.009Z"
   },
   {
    "duration": 8,
    "start_time": "2023-10-16T18:52:26.173Z"
   },
   {
    "duration": 72,
    "start_time": "2023-10-16T18:52:26.183Z"
   },
   {
    "duration": 780,
    "start_time": "2023-10-16T18:52:26.257Z"
   },
   {
    "duration": 17598,
    "start_time": "2023-10-16T18:52:27.041Z"
   },
   {
    "duration": 10,
    "start_time": "2023-10-16T18:52:44.642Z"
   },
   {
    "duration": 13918,
    "start_time": "2023-10-16T18:52:44.654Z"
   },
   {
    "duration": 0,
    "start_time": "2023-10-16T18:52:58.574Z"
   },
   {
    "duration": 0,
    "start_time": "2023-10-16T18:52:58.575Z"
   },
   {
    "duration": 0,
    "start_time": "2023-10-16T18:52:58.575Z"
   },
   {
    "duration": 7,
    "start_time": "2023-10-16T18:53:01.542Z"
   },
   {
    "duration": 1597,
    "start_time": "2023-10-16T18:53:54.187Z"
   },
   {
    "duration": 60,
    "start_time": "2023-10-16T18:53:55.785Z"
   },
   {
    "duration": 19,
    "start_time": "2023-10-16T18:53:55.847Z"
   },
   {
    "duration": 12,
    "start_time": "2023-10-16T18:53:55.868Z"
   },
   {
    "duration": 27,
    "start_time": "2023-10-16T18:53:55.882Z"
   },
   {
    "duration": 311,
    "start_time": "2023-10-16T18:53:55.910Z"
   },
   {
    "duration": 340,
    "start_time": "2023-10-16T18:53:56.223Z"
   },
   {
    "duration": 329,
    "start_time": "2023-10-16T18:53:56.565Z"
   },
   {
    "duration": 972,
    "start_time": "2023-10-16T18:53:56.895Z"
   },
   {
    "duration": 8,
    "start_time": "2023-10-16T18:53:57.869Z"
   },
   {
    "duration": 119,
    "start_time": "2023-10-16T18:53:57.879Z"
   },
   {
    "duration": 1352,
    "start_time": "2023-10-16T18:53:57.999Z"
   },
   {
    "duration": 35538,
    "start_time": "2023-10-16T18:53:59.352Z"
   },
   {
    "duration": 0,
    "start_time": "2023-10-16T18:54:34.892Z"
   },
   {
    "duration": 0,
    "start_time": "2023-10-16T18:54:34.893Z"
   },
   {
    "duration": 0,
    "start_time": "2023-10-16T18:54:34.894Z"
   },
   {
    "duration": 0,
    "start_time": "2023-10-16T18:54:34.895Z"
   },
   {
    "duration": 0,
    "start_time": "2023-10-16T18:54:34.896Z"
   },
   {
    "duration": 166,
    "start_time": "2023-10-16T18:55:02.104Z"
   },
   {
    "duration": 10,
    "start_time": "2023-10-16T18:55:14.815Z"
   },
   {
    "duration": 7,
    "start_time": "2023-10-16T18:55:52.458Z"
   },
   {
    "duration": 8,
    "start_time": "2023-10-16T18:56:02.773Z"
   },
   {
    "duration": 380,
    "start_time": "2023-10-16T18:56:10.705Z"
   },
   {
    "duration": 1866,
    "start_time": "2023-10-16T18:56:38.942Z"
   },
   {
    "duration": 75,
    "start_time": "2023-10-16T18:56:40.810Z"
   },
   {
    "duration": 12,
    "start_time": "2023-10-16T18:56:40.887Z"
   },
   {
    "duration": 13,
    "start_time": "2023-10-16T18:56:40.901Z"
   },
   {
    "duration": 38,
    "start_time": "2023-10-16T18:56:40.915Z"
   },
   {
    "duration": 323,
    "start_time": "2023-10-16T18:56:40.954Z"
   },
   {
    "duration": 334,
    "start_time": "2023-10-16T18:56:41.280Z"
   },
   {
    "duration": 354,
    "start_time": "2023-10-16T18:56:41.616Z"
   },
   {
    "duration": 10,
    "start_time": "2023-10-16T18:56:41.972Z"
   },
   {
    "duration": 1092,
    "start_time": "2023-10-16T18:56:41.985Z"
   },
   {
    "duration": 10,
    "start_time": "2023-10-16T18:56:43.079Z"
   },
   {
    "duration": 159,
    "start_time": "2023-10-16T18:56:43.090Z"
   },
   {
    "duration": 1400,
    "start_time": "2023-10-16T18:56:43.251Z"
   },
   {
    "duration": 24034,
    "start_time": "2023-10-16T18:56:44.662Z"
   },
   {
    "duration": 0,
    "start_time": "2023-10-16T18:57:08.698Z"
   },
   {
    "duration": 0,
    "start_time": "2023-10-16T18:57:08.699Z"
   },
   {
    "duration": 0,
    "start_time": "2023-10-16T18:57:08.700Z"
   },
   {
    "duration": 0,
    "start_time": "2023-10-16T18:57:08.701Z"
   },
   {
    "duration": 0,
    "start_time": "2023-10-16T18:57:08.702Z"
   },
   {
    "duration": 5,
    "start_time": "2023-10-16T18:57:11.925Z"
   },
   {
    "duration": 6,
    "start_time": "2023-10-16T18:57:17.743Z"
   },
   {
    "duration": 9,
    "start_time": "2023-10-16T18:58:15.527Z"
   },
   {
    "duration": 7,
    "start_time": "2023-10-16T18:58:31.873Z"
   },
   {
    "duration": 1605,
    "start_time": "2023-10-16T18:58:59.044Z"
   },
   {
    "duration": 56,
    "start_time": "2023-10-16T18:59:00.651Z"
   },
   {
    "duration": 9,
    "start_time": "2023-10-16T18:59:00.708Z"
   },
   {
    "duration": 71,
    "start_time": "2023-10-16T18:59:00.718Z"
   },
   {
    "duration": 62,
    "start_time": "2023-10-16T18:59:00.791Z"
   },
   {
    "duration": 331,
    "start_time": "2023-10-16T18:59:00.854Z"
   },
   {
    "duration": 322,
    "start_time": "2023-10-16T18:59:01.187Z"
   },
   {
    "duration": 370,
    "start_time": "2023-10-16T18:59:01.511Z"
   },
   {
    "duration": 11,
    "start_time": "2023-10-16T18:59:01.883Z"
   },
   {
    "duration": 1099,
    "start_time": "2023-10-16T18:59:01.895Z"
   },
   {
    "duration": 6,
    "start_time": "2023-10-16T18:59:02.996Z"
   },
   {
    "duration": 145,
    "start_time": "2023-10-16T18:59:03.003Z"
   },
   {
    "duration": 1370,
    "start_time": "2023-10-16T18:59:03.153Z"
   },
   {
    "duration": 28001,
    "start_time": "2023-10-16T18:59:04.526Z"
   },
   {
    "duration": 0,
    "start_time": "2023-10-16T18:59:32.529Z"
   },
   {
    "duration": 0,
    "start_time": "2023-10-16T18:59:32.530Z"
   },
   {
    "duration": 0,
    "start_time": "2023-10-16T18:59:32.531Z"
   },
   {
    "duration": 0,
    "start_time": "2023-10-16T18:59:32.533Z"
   },
   {
    "duration": 0,
    "start_time": "2023-10-16T18:59:32.542Z"
   },
   {
    "duration": 249,
    "start_time": "2023-10-16T18:59:39.942Z"
   },
   {
    "duration": 330,
    "start_time": "2023-10-16T18:59:53.559Z"
   },
   {
    "duration": 1666,
    "start_time": "2023-10-16T19:00:52.841Z"
   },
   {
    "duration": 75,
    "start_time": "2023-10-16T19:00:54.509Z"
   },
   {
    "duration": 125,
    "start_time": "2023-10-16T19:00:54.586Z"
   },
   {
    "duration": 0,
    "start_time": "2023-10-16T19:00:54.714Z"
   },
   {
    "duration": 0,
    "start_time": "2023-10-16T19:00:54.715Z"
   },
   {
    "duration": 0,
    "start_time": "2023-10-16T19:00:54.717Z"
   },
   {
    "duration": 0,
    "start_time": "2023-10-16T19:00:54.718Z"
   },
   {
    "duration": 0,
    "start_time": "2023-10-16T19:00:54.719Z"
   },
   {
    "duration": 0,
    "start_time": "2023-10-16T19:00:54.720Z"
   },
   {
    "duration": 0,
    "start_time": "2023-10-16T19:00:54.721Z"
   },
   {
    "duration": 0,
    "start_time": "2023-10-16T19:00:54.722Z"
   },
   {
    "duration": 0,
    "start_time": "2023-10-16T19:00:54.723Z"
   },
   {
    "duration": 0,
    "start_time": "2023-10-16T19:00:54.724Z"
   },
   {
    "duration": 0,
    "start_time": "2023-10-16T19:00:54.725Z"
   },
   {
    "duration": 0,
    "start_time": "2023-10-16T19:00:54.727Z"
   },
   {
    "duration": 0,
    "start_time": "2023-10-16T19:00:54.744Z"
   },
   {
    "duration": 0,
    "start_time": "2023-10-16T19:00:54.745Z"
   },
   {
    "duration": 0,
    "start_time": "2023-10-16T19:00:54.746Z"
   },
   {
    "duration": 0,
    "start_time": "2023-10-16T19:00:54.747Z"
   },
   {
    "duration": 0,
    "start_time": "2023-10-16T19:00:54.748Z"
   },
   {
    "duration": 1584,
    "start_time": "2023-10-16T19:01:25.274Z"
   },
   {
    "duration": 56,
    "start_time": "2023-10-16T19:01:26.860Z"
   },
   {
    "duration": 694,
    "start_time": "2023-10-16T19:01:26.917Z"
   },
   {
    "duration": 5,
    "start_time": "2023-10-16T19:01:27.613Z"
   },
   {
    "duration": 20,
    "start_time": "2023-10-16T19:01:27.620Z"
   },
   {
    "duration": 15,
    "start_time": "2023-10-16T19:01:27.642Z"
   },
   {
    "duration": 29,
    "start_time": "2023-10-16T19:01:27.659Z"
   },
   {
    "duration": 300,
    "start_time": "2023-10-16T19:01:27.689Z"
   },
   {
    "duration": 236,
    "start_time": "2023-10-16T19:01:27.991Z"
   },
   {
    "duration": 348,
    "start_time": "2023-10-16T19:01:28.228Z"
   },
   {
    "duration": 1010,
    "start_time": "2023-10-16T19:01:28.578Z"
   },
   {
    "duration": 7,
    "start_time": "2023-10-16T19:01:29.590Z"
   },
   {
    "duration": 156,
    "start_time": "2023-10-16T19:01:29.598Z"
   },
   {
    "duration": 1405,
    "start_time": "2023-10-16T19:01:29.758Z"
   },
   {
    "duration": 20461,
    "start_time": "2023-10-16T19:01:31.164Z"
   },
   {
    "duration": 0,
    "start_time": "2023-10-16T19:01:51.626Z"
   },
   {
    "duration": 0,
    "start_time": "2023-10-16T19:01:51.627Z"
   },
   {
    "duration": 0,
    "start_time": "2023-10-16T19:01:51.628Z"
   },
   {
    "duration": 0,
    "start_time": "2023-10-16T19:01:51.645Z"
   },
   {
    "duration": 0,
    "start_time": "2023-10-16T19:01:51.647Z"
   },
   {
    "duration": 5,
    "start_time": "2023-10-16T19:01:56.666Z"
   },
   {
    "duration": 5,
    "start_time": "2023-10-16T19:02:06.387Z"
   },
   {
    "duration": 10,
    "start_time": "2023-10-16T19:02:15.629Z"
   },
   {
    "duration": 68319,
    "start_time": "2023-10-16T19:02:15.975Z"
   },
   {
    "duration": 2139,
    "start_time": "2023-10-16T19:03:24.295Z"
   },
   {
    "duration": 6,
    "start_time": "2023-10-16T19:03:26.436Z"
   },
   {
    "duration": 262,
    "start_time": "2023-10-16T19:03:54.364Z"
   },
   {
    "duration": 1525,
    "start_time": "2023-10-16T19:04:28.912Z"
   },
   {
    "duration": 58,
    "start_time": "2023-10-16T19:04:30.439Z"
   },
   {
    "duration": 10,
    "start_time": "2023-10-16T19:04:30.498Z"
   },
   {
    "duration": 41,
    "start_time": "2023-10-16T19:04:30.509Z"
   },
   {
    "duration": 368,
    "start_time": "2023-10-16T19:04:30.553Z"
   },
   {
    "duration": 4,
    "start_time": "2023-10-16T19:04:30.923Z"
   },
   {
    "duration": 107,
    "start_time": "2023-10-16T19:04:30.930Z"
   },
   {
    "duration": 331,
    "start_time": "2023-10-16T19:04:31.041Z"
   },
   {
    "duration": 247,
    "start_time": "2023-10-16T19:04:31.373Z"
   },
   {
    "duration": 396,
    "start_time": "2023-10-16T19:04:31.622Z"
   },
   {
    "duration": 1040,
    "start_time": "2023-10-16T19:04:32.020Z"
   },
   {
    "duration": 8,
    "start_time": "2023-10-16T19:04:33.062Z"
   },
   {
    "duration": 188,
    "start_time": "2023-10-16T19:04:33.072Z"
   },
   {
    "duration": 1346,
    "start_time": "2023-10-16T19:04:33.263Z"
   },
   {
    "duration": 37726,
    "start_time": "2023-10-16T19:04:34.610Z"
   },
   {
    "duration": 9,
    "start_time": "2023-10-16T19:05:12.339Z"
   },
   {
    "duration": 69385,
    "start_time": "2023-10-16T19:05:12.352Z"
   },
   {
    "duration": 2357,
    "start_time": "2023-10-16T19:06:21.744Z"
   },
   {
    "duration": 49044,
    "start_time": "2023-10-16T19:06:24.102Z"
   },
   {
    "duration": 0,
    "start_time": "2023-10-16T19:07:13.148Z"
   },
   {
    "duration": 6,
    "start_time": "2023-10-16T19:07:17.062Z"
   },
   {
    "duration": 5,
    "start_time": "2023-10-16T19:07:29.045Z"
   },
   {
    "duration": 32,
    "start_time": "2023-10-16T19:14:42.630Z"
   },
   {
    "duration": 1460,
    "start_time": "2023-10-16T19:14:48.062Z"
   },
   {
    "duration": 63,
    "start_time": "2023-10-16T19:14:49.523Z"
   },
   {
    "duration": 12,
    "start_time": "2023-10-16T19:14:49.587Z"
   },
   {
    "duration": 17,
    "start_time": "2023-10-16T19:14:49.601Z"
   },
   {
    "duration": 338,
    "start_time": "2023-10-16T19:14:49.620Z"
   },
   {
    "duration": 6,
    "start_time": "2023-10-16T19:14:49.960Z"
   },
   {
    "duration": 109,
    "start_time": "2023-10-16T19:14:49.967Z"
   },
   {
    "duration": 279,
    "start_time": "2023-10-16T19:14:50.077Z"
   },
   {
    "duration": 232,
    "start_time": "2023-10-16T19:14:50.357Z"
   },
   {
    "duration": 442,
    "start_time": "2023-10-16T19:14:50.591Z"
   },
   {
    "duration": 909,
    "start_time": "2023-10-16T19:14:51.035Z"
   },
   {
    "duration": 10,
    "start_time": "2023-10-16T19:14:51.946Z"
   },
   {
    "duration": 1194,
    "start_time": "2023-10-16T19:14:51.958Z"
   },
   {
    "duration": 2121,
    "start_time": "2023-10-16T19:14:53.157Z"
   },
   {
    "duration": 53748,
    "start_time": "2023-10-16T19:14:55.279Z"
   },
   {
    "duration": 0,
    "start_time": "2023-10-16T19:15:49.029Z"
   },
   {
    "duration": 0,
    "start_time": "2023-10-16T19:15:49.031Z"
   },
   {
    "duration": 0,
    "start_time": "2023-10-16T19:15:49.040Z"
   },
   {
    "duration": 0,
    "start_time": "2023-10-16T19:15:49.041Z"
   },
   {
    "duration": 7,
    "start_time": "2023-10-16T19:15:49.648Z"
   },
   {
    "duration": 1487,
    "start_time": "2023-10-16T19:16:12.063Z"
   },
   {
    "duration": 73,
    "start_time": "2023-10-16T19:16:13.552Z"
   },
   {
    "duration": 15,
    "start_time": "2023-10-16T19:16:13.627Z"
   },
   {
    "duration": 19,
    "start_time": "2023-10-16T19:16:13.644Z"
   },
   {
    "duration": 283,
    "start_time": "2023-10-16T19:16:13.666Z"
   },
   {
    "duration": 5,
    "start_time": "2023-10-16T19:16:13.950Z"
   },
   {
    "duration": 110,
    "start_time": "2023-10-16T19:16:13.956Z"
   },
   {
    "duration": 273,
    "start_time": "2023-10-16T19:16:14.068Z"
   },
   {
    "duration": 237,
    "start_time": "2023-10-16T19:16:14.342Z"
   },
   {
    "duration": 393,
    "start_time": "2023-10-16T19:16:14.581Z"
   },
   {
    "duration": 1012,
    "start_time": "2023-10-16T19:16:14.977Z"
   },
   {
    "duration": 11,
    "start_time": "2023-10-16T19:16:15.991Z"
   },
   {
    "duration": 2445,
    "start_time": "2023-10-16T19:16:16.003Z"
   },
   {
    "duration": 3944,
    "start_time": "2023-10-16T19:16:18.451Z"
   },
   {
    "duration": 125029,
    "start_time": "2023-10-16T19:16:22.397Z"
   },
   {
    "duration": 15,
    "start_time": "2023-10-16T19:18:27.427Z"
   },
   {
    "duration": 0,
    "start_time": "2023-10-16T19:19:52.775Z"
   },
   {
    "duration": 0,
    "start_time": "2023-10-16T19:19:52.776Z"
   },
   {
    "duration": 0,
    "start_time": "2023-10-16T19:19:52.778Z"
   },
   {
    "duration": 93317,
    "start_time": "2023-10-16T19:19:56.568Z"
   },
   {
    "duration": 11028,
    "start_time": "2023-10-16T19:21:45.714Z"
   },
   {
    "duration": 5,
    "start_time": "2023-10-16T19:22:04.411Z"
   },
   {
    "duration": 5,
    "start_time": "2023-10-16T19:22:14.229Z"
   },
   {
    "duration": 337,
    "start_time": "2023-10-16T19:22:55.523Z"
   },
   {
    "duration": 1439,
    "start_time": "2023-10-16T19:23:23.450Z"
   },
   {
    "duration": 58,
    "start_time": "2023-10-16T19:23:24.890Z"
   },
   {
    "duration": 9,
    "start_time": "2023-10-16T19:23:24.949Z"
   },
   {
    "duration": 12,
    "start_time": "2023-10-16T19:23:24.960Z"
   },
   {
    "duration": 284,
    "start_time": "2023-10-16T19:23:24.973Z"
   },
   {
    "duration": 111,
    "start_time": "2023-10-16T19:23:25.259Z"
   },
   {
    "duration": 293,
    "start_time": "2023-10-16T19:23:25.371Z"
   },
   {
    "duration": 223,
    "start_time": "2023-10-16T19:23:25.665Z"
   },
   {
    "duration": 313,
    "start_time": "2023-10-16T19:23:25.890Z"
   },
   {
    "duration": 879,
    "start_time": "2023-10-16T19:23:26.207Z"
   },
   {
    "duration": 10,
    "start_time": "2023-10-16T19:23:27.087Z"
   },
   {
    "duration": 2354,
    "start_time": "2023-10-16T19:23:27.099Z"
   },
   {
    "duration": 3894,
    "start_time": "2023-10-16T19:23:29.456Z"
   },
   {
    "duration": 17482,
    "start_time": "2023-10-16T19:23:33.352Z"
   },
   {
    "duration": 0,
    "start_time": "2023-10-16T19:23:50.836Z"
   },
   {
    "duration": 0,
    "start_time": "2023-10-16T19:23:50.839Z"
   },
   {
    "duration": 0,
    "start_time": "2023-10-16T19:23:50.840Z"
   },
   {
    "duration": 0,
    "start_time": "2023-10-16T19:23:50.841Z"
   },
   {
    "duration": 14,
    "start_time": "2023-10-16T19:23:56.561Z"
   },
   {
    "duration": 1427,
    "start_time": "2023-10-16T19:24:31.263Z"
   },
   {
    "duration": 54,
    "start_time": "2023-10-16T19:24:32.692Z"
   },
   {
    "duration": 8,
    "start_time": "2023-10-16T19:24:32.747Z"
   },
   {
    "duration": 15,
    "start_time": "2023-10-16T19:24:32.757Z"
   },
   {
    "duration": 299,
    "start_time": "2023-10-16T19:24:32.774Z"
   },
   {
    "duration": 108,
    "start_time": "2023-10-16T19:24:33.074Z"
   },
   {
    "duration": 244,
    "start_time": "2023-10-16T19:24:33.183Z"
   },
   {
    "duration": 223,
    "start_time": "2023-10-16T19:24:33.429Z"
   },
   {
    "duration": 306,
    "start_time": "2023-10-16T19:24:33.653Z"
   },
   {
    "duration": 839,
    "start_time": "2023-10-16T19:24:33.960Z"
   },
   {
    "duration": 7,
    "start_time": "2023-10-16T19:24:34.801Z"
   },
   {
    "duration": 1640,
    "start_time": "2023-10-16T19:24:34.809Z"
   },
   {
    "duration": 3792,
    "start_time": "2023-10-16T19:24:36.451Z"
   },
   {
    "duration": 123154,
    "start_time": "2023-10-16T19:24:40.245Z"
   },
   {
    "duration": 8,
    "start_time": "2023-10-16T19:26:43.401Z"
   },
   {
    "duration": 92764,
    "start_time": "2023-10-16T19:26:43.411Z"
   },
   {
    "duration": 10931,
    "start_time": "2023-10-16T19:28:16.176Z"
   },
   {
    "duration": 11,
    "start_time": "2023-10-16T19:28:27.109Z"
   },
   {
    "duration": 6,
    "start_time": "2023-10-16T19:29:22.012Z"
   },
   {
    "duration": 9,
    "start_time": "2023-10-16T19:29:39.417Z"
   },
   {
    "duration": 6,
    "start_time": "2023-10-16T19:29:45.614Z"
   },
   {
    "duration": 1542,
    "start_time": "2023-10-16T19:30:22.029Z"
   },
   {
    "duration": 56,
    "start_time": "2023-10-16T19:30:23.573Z"
   },
   {
    "duration": 10,
    "start_time": "2023-10-16T19:30:23.630Z"
   },
   {
    "duration": 15,
    "start_time": "2023-10-16T19:30:23.641Z"
   },
   {
    "duration": 271,
    "start_time": "2023-10-16T19:30:23.658Z"
   },
   {
    "duration": 123,
    "start_time": "2023-10-16T19:30:23.931Z"
   },
   {
    "duration": 246,
    "start_time": "2023-10-16T19:30:24.055Z"
   },
   {
    "duration": 240,
    "start_time": "2023-10-16T19:30:24.303Z"
   },
   {
    "duration": 309,
    "start_time": "2023-10-16T19:30:24.544Z"
   },
   {
    "duration": 856,
    "start_time": "2023-10-16T19:30:24.854Z"
   },
   {
    "duration": 8,
    "start_time": "2023-10-16T19:30:25.712Z"
   },
   {
    "duration": 2523,
    "start_time": "2023-10-16T19:30:25.721Z"
   },
   {
    "duration": 5600,
    "start_time": "2023-10-16T19:30:28.247Z"
   },
   {
    "duration": 8315,
    "start_time": "2023-10-16T19:30:33.849Z"
   },
   {
    "duration": 0,
    "start_time": "2023-10-16T19:30:42.167Z"
   },
   {
    "duration": 0,
    "start_time": "2023-10-16T19:30:42.168Z"
   },
   {
    "duration": 0,
    "start_time": "2023-10-16T19:30:42.169Z"
   },
   {
    "duration": 0,
    "start_time": "2023-10-16T19:30:42.170Z"
   },
   {
    "duration": 41,
    "start_time": "2023-10-16T19:30:56.464Z"
   },
   {
    "duration": 1449,
    "start_time": "2023-10-16T19:31:11.070Z"
   },
   {
    "duration": 60,
    "start_time": "2023-10-16T19:31:12.523Z"
   },
   {
    "duration": 11,
    "start_time": "2023-10-16T19:31:12.586Z"
   },
   {
    "duration": 16,
    "start_time": "2023-10-16T19:31:12.599Z"
   },
   {
    "duration": 310,
    "start_time": "2023-10-16T19:31:12.617Z"
   },
   {
    "duration": 125,
    "start_time": "2023-10-16T19:31:12.928Z"
   },
   {
    "duration": 253,
    "start_time": "2023-10-16T19:31:13.055Z"
   },
   {
    "duration": 209,
    "start_time": "2023-10-16T19:31:13.309Z"
   },
   {
    "duration": 292,
    "start_time": "2023-10-16T19:31:13.519Z"
   },
   {
    "duration": 845,
    "start_time": "2023-10-16T19:31:13.814Z"
   },
   {
    "duration": 9,
    "start_time": "2023-10-16T19:31:14.661Z"
   },
   {
    "duration": 2574,
    "start_time": "2023-10-16T19:31:14.671Z"
   },
   {
    "duration": 5221,
    "start_time": "2023-10-16T19:31:17.247Z"
   },
   {
    "duration": 15832,
    "start_time": "2023-10-16T19:31:22.470Z"
   },
   {
    "duration": 0,
    "start_time": "2023-10-16T19:31:38.303Z"
   },
   {
    "duration": 0,
    "start_time": "2023-10-16T19:31:38.305Z"
   },
   {
    "duration": 0,
    "start_time": "2023-10-16T19:31:38.306Z"
   },
   {
    "duration": 0,
    "start_time": "2023-10-16T19:31:38.306Z"
   },
   {
    "duration": 8,
    "start_time": "2023-10-16T19:31:50.066Z"
   },
   {
    "duration": 7,
    "start_time": "2023-10-16T19:31:52.547Z"
   },
   {
    "duration": 139823,
    "start_time": "2023-10-16T19:31:59.800Z"
   },
   {
    "duration": 0,
    "start_time": "2023-10-16T19:34:19.626Z"
   },
   {
    "duration": 0,
    "start_time": "2023-10-16T19:34:19.627Z"
   },
   {
    "duration": 0,
    "start_time": "2023-10-16T19:34:19.629Z"
   },
   {
    "duration": 0,
    "start_time": "2023-10-16T19:34:19.639Z"
   },
   {
    "duration": 22998,
    "start_time": "2023-10-16T19:34:50.976Z"
   },
   {
    "duration": 9,
    "start_time": "2023-10-16T19:35:13.976Z"
   },
   {
    "duration": 139258,
    "start_time": "2023-10-16T19:35:13.986Z"
   },
   {
    "duration": 17410,
    "start_time": "2023-10-16T19:37:33.246Z"
   },
   {
    "duration": 25903,
    "start_time": "2023-10-16T19:37:50.657Z"
   },
   {
    "duration": 0,
    "start_time": "2023-10-16T19:38:16.562Z"
   },
   {
    "duration": 7,
    "start_time": "2023-10-16T19:38:20.743Z"
   },
   {
    "duration": 8,
    "start_time": "2023-10-16T19:38:27.076Z"
   },
   {
    "duration": 16,
    "start_time": "2023-10-16T19:38:33.211Z"
   },
   {
    "duration": 52000,
    "start_time": "2023-10-16T19:38:36.660Z"
   },
   {
    "duration": 303573,
    "start_time": "2023-10-16T19:39:30.878Z"
   },
   {
    "duration": 59392,
    "start_time": "2023-10-16T19:44:34.452Z"
   },
   {
    "duration": 7,
    "start_time": "2023-10-16T19:47:48.869Z"
   },
   {
    "duration": 13,
    "start_time": "2023-10-16T19:47:54.577Z"
   },
   {
    "duration": 439627,
    "start_time": "2023-10-16T19:48:09.536Z"
   },
   {
    "duration": 1554,
    "start_time": "2023-10-16T19:55:46.426Z"
   },
   {
    "duration": 55,
    "start_time": "2023-10-16T19:55:47.982Z"
   },
   {
    "duration": 10,
    "start_time": "2023-10-16T19:55:48.038Z"
   },
   {
    "duration": 12,
    "start_time": "2023-10-16T19:55:48.050Z"
   },
   {
    "duration": 285,
    "start_time": "2023-10-16T19:55:48.064Z"
   },
   {
    "duration": 121,
    "start_time": "2023-10-16T19:55:48.351Z"
   },
   {
    "duration": 237,
    "start_time": "2023-10-16T19:55:48.473Z"
   },
   {
    "duration": 208,
    "start_time": "2023-10-16T19:55:48.712Z"
   },
   {
    "duration": 313,
    "start_time": "2023-10-16T19:55:48.922Z"
   },
   {
    "duration": 883,
    "start_time": "2023-10-16T19:55:49.240Z"
   },
   {
    "duration": 20,
    "start_time": "2023-10-16T19:55:50.125Z"
   },
   {
    "duration": 2701,
    "start_time": "2023-10-16T19:55:50.146Z"
   },
   {
    "duration": 5258,
    "start_time": "2023-10-16T19:55:52.850Z"
   },
   {
    "duration": 23651,
    "start_time": "2023-10-16T19:55:58.110Z"
   },
   {
    "duration": 10,
    "start_time": "2023-10-16T19:56:21.762Z"
   },
   {
    "duration": 20101,
    "start_time": "2023-10-16T19:56:21.774Z"
   },
   {
    "duration": 0,
    "start_time": "2023-10-16T19:56:41.877Z"
   },
   {
    "duration": 0,
    "start_time": "2023-10-16T19:56:41.878Z"
   },
   {
    "duration": 0,
    "start_time": "2023-10-16T19:56:41.879Z"
   },
   {
    "duration": 14,
    "start_time": "2023-10-16T19:56:51.186Z"
   },
   {
    "duration": 1466,
    "start_time": "2023-10-16T19:57:06.653Z"
   },
   {
    "duration": 54,
    "start_time": "2023-10-16T19:57:08.121Z"
   },
   {
    "duration": 9,
    "start_time": "2023-10-16T19:57:08.176Z"
   },
   {
    "duration": 12,
    "start_time": "2023-10-16T19:57:08.186Z"
   },
   {
    "duration": 269,
    "start_time": "2023-10-16T19:57:08.200Z"
   },
   {
    "duration": 117,
    "start_time": "2023-10-16T19:57:08.471Z"
   },
   {
    "duration": 236,
    "start_time": "2023-10-16T19:57:08.590Z"
   },
   {
    "duration": 211,
    "start_time": "2023-10-16T19:57:08.828Z"
   },
   {
    "duration": 295,
    "start_time": "2023-10-16T19:57:09.041Z"
   },
   {
    "duration": 880,
    "start_time": "2023-10-16T19:57:09.340Z"
   },
   {
    "duration": 19,
    "start_time": "2023-10-16T19:57:10.222Z"
   },
   {
    "duration": 1305,
    "start_time": "2023-10-16T19:57:10.243Z"
   },
   {
    "duration": 5380,
    "start_time": "2023-10-16T19:57:11.550Z"
   },
   {
    "duration": 23668,
    "start_time": "2023-10-16T19:57:16.932Z"
   },
   {
    "duration": 10,
    "start_time": "2023-10-16T19:57:40.601Z"
   },
   {
    "duration": 315940,
    "start_time": "2023-10-16T19:57:40.612Z"
   },
   {
    "duration": 59859,
    "start_time": "2023-10-16T20:02:56.554Z"
   },
   {
    "duration": 385246,
    "start_time": "2023-10-16T20:03:56.414Z"
   },
   {
    "duration": 19,
    "start_time": "2023-10-16T20:10:21.739Z"
   },
   {
    "duration": 11,
    "start_time": "2023-10-16T20:13:38.602Z"
   },
   {
    "duration": 116,
    "start_time": "2023-10-16T20:13:42.336Z"
   },
   {
    "duration": 1881,
    "start_time": "2023-10-17T07:11:24.686Z"
   },
   {
    "duration": 143,
    "start_time": "2023-10-17T07:11:26.569Z"
   },
   {
    "duration": 10,
    "start_time": "2023-10-17T07:11:26.713Z"
   },
   {
    "duration": 16,
    "start_time": "2023-10-17T07:11:26.725Z"
   },
   {
    "duration": 316,
    "start_time": "2023-10-17T07:11:26.742Z"
   },
   {
    "duration": 152,
    "start_time": "2023-10-17T07:11:27.060Z"
   },
   {
    "duration": 273,
    "start_time": "2023-10-17T07:11:27.214Z"
   },
   {
    "duration": 226,
    "start_time": "2023-10-17T07:11:27.489Z"
   },
   {
    "duration": 303,
    "start_time": "2023-10-17T07:11:27.716Z"
   },
   {
    "duration": 905,
    "start_time": "2023-10-17T07:11:28.021Z"
   },
   {
    "duration": 10,
    "start_time": "2023-10-17T07:11:28.927Z"
   },
   {
    "duration": 1470,
    "start_time": "2023-10-17T07:11:28.938Z"
   },
   {
    "duration": 4742,
    "start_time": "2023-10-17T07:11:30.411Z"
   },
   {
    "duration": 20748,
    "start_time": "2023-10-17T07:11:35.155Z"
   },
   {
    "duration": 14,
    "start_time": "2023-10-17T07:11:55.904Z"
   },
   {
    "duration": 39269,
    "start_time": "2023-10-17T07:11:55.921Z"
   },
   {
    "duration": 0,
    "start_time": "2023-10-17T07:12:35.192Z"
   },
   {
    "duration": 0,
    "start_time": "2023-10-17T07:12:35.193Z"
   },
   {
    "duration": 0,
    "start_time": "2023-10-17T07:12:35.195Z"
   },
   {
    "duration": 1505,
    "start_time": "2023-10-17T07:12:38.230Z"
   },
   {
    "duration": 61,
    "start_time": "2023-10-17T07:12:39.738Z"
   },
   {
    "duration": 10,
    "start_time": "2023-10-17T07:12:39.801Z"
   },
   {
    "duration": 18,
    "start_time": "2023-10-17T07:12:39.813Z"
   },
   {
    "duration": 324,
    "start_time": "2023-10-17T07:12:39.834Z"
   },
   {
    "duration": 173,
    "start_time": "2023-10-17T07:12:40.160Z"
   },
   {
    "duration": 261,
    "start_time": "2023-10-17T07:12:40.335Z"
   },
   {
    "duration": 225,
    "start_time": "2023-10-17T07:12:40.597Z"
   },
   {
    "duration": 311,
    "start_time": "2023-10-17T07:12:40.824Z"
   },
   {
    "duration": 875,
    "start_time": "2023-10-17T07:12:41.137Z"
   },
   {
    "duration": 11,
    "start_time": "2023-10-17T07:12:42.014Z"
   },
   {
    "duration": 3481,
    "start_time": "2023-10-17T07:12:42.027Z"
   },
   {
    "duration": 6823,
    "start_time": "2023-10-17T07:12:45.510Z"
   },
   {
    "duration": 28624,
    "start_time": "2023-10-17T07:12:52.335Z"
   },
   {
    "duration": 13,
    "start_time": "2023-10-17T07:13:20.961Z"
   },
   {
    "duration": 16608,
    "start_time": "2023-10-17T07:13:20.975Z"
   },
   {
    "duration": 0,
    "start_time": "2023-10-17T07:13:37.585Z"
   },
   {
    "duration": 0,
    "start_time": "2023-10-17T07:13:37.586Z"
   },
   {
    "duration": 0,
    "start_time": "2023-10-17T07:13:37.587Z"
   },
   {
    "duration": 1838,
    "start_time": "2023-10-17T07:13:45.909Z"
   },
   {
    "duration": 61,
    "start_time": "2023-10-17T07:13:47.749Z"
   },
   {
    "duration": 10,
    "start_time": "2023-10-17T07:13:47.812Z"
   },
   {
    "duration": 35,
    "start_time": "2023-10-17T07:13:47.824Z"
   },
   {
    "duration": 313,
    "start_time": "2023-10-17T07:13:47.861Z"
   },
   {
    "duration": 164,
    "start_time": "2023-10-17T07:13:48.176Z"
   },
   {
    "duration": 261,
    "start_time": "2023-10-17T07:13:48.341Z"
   },
   {
    "duration": 225,
    "start_time": "2023-10-17T07:13:48.604Z"
   },
   {
    "duration": 313,
    "start_time": "2023-10-17T07:13:48.831Z"
   },
   {
    "duration": 856,
    "start_time": "2023-10-17T07:13:49.145Z"
   },
   {
    "duration": 13,
    "start_time": "2023-10-17T07:13:50.003Z"
   },
   {
    "duration": 3392,
    "start_time": "2023-10-17T07:13:50.018Z"
   },
   {
    "duration": 6488,
    "start_time": "2023-10-17T07:13:53.412Z"
   },
   {
    "duration": 28691,
    "start_time": "2023-10-17T07:13:59.903Z"
   },
   {
    "duration": 18,
    "start_time": "2023-10-17T07:14:28.596Z"
   },
   {
    "duration": 457667,
    "start_time": "2023-10-17T07:14:28.616Z"
   },
   {
    "duration": 88131,
    "start_time": "2023-10-17T07:22:06.285Z"
   },
   {
    "duration": 21502,
    "start_time": "2023-10-17T07:23:34.418Z"
   },
   {
    "duration": 90,
    "start_time": "2023-10-17T07:23:55.922Z"
   },
   {
    "duration": 5,
    "start_time": "2023-10-17T15:41:02.669Z"
   },
   {
    "duration": 58,
    "start_time": "2023-10-17T15:41:03.029Z"
   },
   {
    "duration": 14,
    "start_time": "2023-10-17T15:41:03.402Z"
   },
   {
    "duration": 18,
    "start_time": "2023-10-17T15:41:04.485Z"
   },
   {
    "duration": 283,
    "start_time": "2023-10-17T15:41:04.964Z"
   },
   {
    "duration": 258,
    "start_time": "2023-10-17T15:58:32.204Z"
   },
   {
    "duration": 248,
    "start_time": "2023-10-17T15:59:01.879Z"
   },
   {
    "duration": 383,
    "start_time": "2023-10-17T15:59:18.089Z"
   },
   {
    "duration": 466,
    "start_time": "2023-10-17T15:59:38.052Z"
   },
   {
    "duration": 386,
    "start_time": "2023-10-17T15:59:58.661Z"
   },
   {
    "duration": 336,
    "start_time": "2023-10-17T16:00:32.902Z"
   },
   {
    "duration": 297,
    "start_time": "2023-10-17T16:01:20.683Z"
   },
   {
    "duration": 1074,
    "start_time": "2023-10-17T16:02:02.822Z"
   },
   {
    "duration": 1652,
    "start_time": "2023-10-17T16:12:01.127Z"
   },
   {
    "duration": 76,
    "start_time": "2023-10-17T16:12:02.781Z"
   },
   {
    "duration": 11,
    "start_time": "2023-10-17T16:12:02.859Z"
   },
   {
    "duration": 61,
    "start_time": "2023-10-17T16:12:02.871Z"
   },
   {
    "duration": 347,
    "start_time": "2023-10-17T16:12:02.935Z"
   },
   {
    "duration": 182,
    "start_time": "2023-10-17T16:12:03.284Z"
   },
   {
    "duration": 357,
    "start_time": "2023-10-17T16:12:03.468Z"
   },
   {
    "duration": 943,
    "start_time": "2023-10-17T16:12:03.827Z"
   },
   {
    "duration": 12,
    "start_time": "2023-10-17T16:12:04.772Z"
   },
   {
    "duration": 4734,
    "start_time": "2023-10-17T16:12:04.785Z"
   },
   {
    "duration": 7166,
    "start_time": "2023-10-17T16:12:09.524Z"
   },
   {
    "duration": 30523,
    "start_time": "2023-10-17T16:12:16.693Z"
   },
   {
    "duration": 18,
    "start_time": "2023-10-17T16:12:47.219Z"
   },
   {
    "duration": 37012,
    "start_time": "2023-10-17T16:12:47.239Z"
   },
   {
    "duration": 0,
    "start_time": "2023-10-17T16:13:24.252Z"
   },
   {
    "duration": 0,
    "start_time": "2023-10-17T16:13:24.253Z"
   },
   {
    "duration": 0,
    "start_time": "2023-10-17T16:13:24.254Z"
   },
   {
    "duration": 0,
    "start_time": "2023-10-17T16:13:24.256Z"
   },
   {
    "duration": 231,
    "start_time": "2023-10-17T16:13:25.099Z"
   },
   {
    "duration": 5,
    "start_time": "2023-10-17T16:13:30.023Z"
   },
   {
    "duration": 123,
    "start_time": "2023-10-17T16:13:30.030Z"
   },
   {
    "duration": 10,
    "start_time": "2023-10-17T16:13:30.154Z"
   },
   {
    "duration": 36,
    "start_time": "2023-10-17T16:13:30.165Z"
   },
   {
    "duration": 417,
    "start_time": "2023-10-17T16:13:30.203Z"
   },
   {
    "duration": 93,
    "start_time": "2023-10-17T16:13:30.625Z"
   },
   {
    "duration": 370,
    "start_time": "2023-10-17T16:13:30.719Z"
   },
   {
    "duration": 1006,
    "start_time": "2023-10-17T16:13:31.090Z"
   },
   {
    "duration": 240,
    "start_time": "2023-10-17T16:13:32.098Z"
   },
   {
    "duration": 304,
    "start_time": "2023-10-17T16:13:54.858Z"
   },
   {
    "duration": 408,
    "start_time": "2023-10-17T16:14:31.972Z"
   },
   {
    "duration": 325,
    "start_time": "2023-10-17T16:14:38.099Z"
   },
   {
    "duration": 283,
    "start_time": "2023-10-17T16:15:08.785Z"
   },
   {
    "duration": 290,
    "start_time": "2023-10-17T16:24:12.780Z"
   },
   {
    "duration": 328,
    "start_time": "2023-10-17T16:24:25.973Z"
   },
   {
    "duration": 203,
    "start_time": "2023-10-17T16:25:33.201Z"
   },
   {
    "duration": 18,
    "start_time": "2023-10-17T16:25:39.972Z"
   },
   {
    "duration": 248,
    "start_time": "2023-10-17T16:25:45.374Z"
   },
   {
    "duration": 336,
    "start_time": "2023-10-17T16:26:06.636Z"
   },
   {
    "duration": 394,
    "start_time": "2023-10-17T16:26:54.769Z"
   },
   {
    "duration": 530,
    "start_time": "2023-10-17T16:27:32.878Z"
   },
   {
    "duration": 1726,
    "start_time": "2023-10-17T16:32:09.181Z"
   },
   {
    "duration": 64,
    "start_time": "2023-10-17T16:32:10.918Z"
   },
   {
    "duration": 17,
    "start_time": "2023-10-17T16:32:10.984Z"
   },
   {
    "duration": 50,
    "start_time": "2023-10-17T16:32:11.004Z"
   },
   {
    "duration": 366,
    "start_time": "2023-10-17T16:32:11.057Z"
   },
   {
    "duration": 184,
    "start_time": "2023-10-17T16:32:11.427Z"
   },
   {
    "duration": 353,
    "start_time": "2023-10-17T16:32:11.617Z"
   },
   {
    "duration": 991,
    "start_time": "2023-10-17T16:32:11.972Z"
   },
   {
    "duration": 412,
    "start_time": "2023-10-17T16:32:12.966Z"
   },
   {
    "duration": 10,
    "start_time": "2023-10-17T16:32:13.380Z"
   },
   {
    "duration": 5332,
    "start_time": "2023-10-17T16:32:13.392Z"
   },
   {
    "duration": 7027,
    "start_time": "2023-10-17T16:32:18.729Z"
   },
   {
    "duration": 31017,
    "start_time": "2023-10-17T16:32:25.757Z"
   },
   {
    "duration": 14,
    "start_time": "2023-10-17T16:32:56.775Z"
   },
   {
    "duration": 503312,
    "start_time": "2023-10-17T16:32:56.791Z"
   },
   {
    "duration": 96188,
    "start_time": "2023-10-17T16:41:20.105Z"
   },
   {
    "duration": 311832,
    "start_time": "2023-10-17T16:42:56.295Z"
   },
   {
    "duration": 85,
    "start_time": "2023-10-17T16:48:08.129Z"
   },
   {
    "duration": 11,
    "start_time": "2023-10-17T16:49:32.787Z"
   },
   {
    "duration": 120,
    "start_time": "2023-10-17T16:49:37.672Z"
   },
   {
    "duration": 339,
    "start_time": "2023-10-17T16:49:58.213Z"
   },
   {
    "duration": 117,
    "start_time": "2023-10-17T16:50:25.592Z"
   },
   {
    "duration": 154,
    "start_time": "2023-10-17T16:50:32.545Z"
   },
   {
    "duration": 163,
    "start_time": "2023-10-17T16:50:46.729Z"
   },
   {
    "duration": 9,
    "start_time": "2023-10-17T16:51:01.662Z"
   },
   {
    "duration": 156,
    "start_time": "2023-10-17T16:51:04.272Z"
   },
   {
    "duration": 10,
    "start_time": "2023-10-17T16:51:14.501Z"
   },
   {
    "duration": 143,
    "start_time": "2023-10-17T16:51:15.070Z"
   },
   {
    "duration": 129,
    "start_time": "2023-10-17T16:51:39.214Z"
   },
   {
    "duration": 14,
    "start_time": "2023-10-17T17:03:00.708Z"
   },
   {
    "duration": 13,
    "start_time": "2023-10-17T17:03:14.946Z"
   },
   {
    "duration": 16,
    "start_time": "2023-10-17T17:03:35.873Z"
   },
   {
    "duration": 6,
    "start_time": "2023-10-17T17:03:51.112Z"
   },
   {
    "duration": 16,
    "start_time": "2023-10-17T17:03:56.133Z"
   },
   {
    "duration": 1837,
    "start_time": "2023-10-18T16:15:39.316Z"
   },
   {
    "duration": 125,
    "start_time": "2023-10-18T16:15:41.155Z"
   },
   {
    "duration": 11,
    "start_time": "2023-10-18T16:15:41.281Z"
   },
   {
    "duration": 21,
    "start_time": "2023-10-18T16:15:41.293Z"
   },
   {
    "duration": 314,
    "start_time": "2023-10-18T16:15:41.316Z"
   },
   {
    "duration": 170,
    "start_time": "2023-10-18T16:15:41.632Z"
   },
   {
    "duration": 9,
    "start_time": "2023-10-18T16:15:56.241Z"
   },
   {
    "duration": 113,
    "start_time": "2023-10-18T16:17:49.185Z"
   },
   {
    "duration": 5,
    "start_time": "2023-10-18T16:18:02.249Z"
   },
   {
    "duration": 814,
    "start_time": "2023-10-18T16:18:02.256Z"
   },
   {
    "duration": 368,
    "start_time": "2023-10-18T16:18:03.071Z"
   },
   {
    "duration": 379,
    "start_time": "2023-10-18T16:18:03.441Z"
   },
   {
    "duration": 475,
    "start_time": "2023-10-18T16:18:03.822Z"
   },
   {
    "duration": 97,
    "start_time": "2023-10-18T16:18:04.299Z"
   },
   {
    "duration": 400,
    "start_time": "2023-10-18T16:18:04.398Z"
   },
   {
    "duration": 959,
    "start_time": "2023-10-18T16:18:04.799Z"
   },
   {
    "duration": 446,
    "start_time": "2023-10-18T16:18:05.761Z"
   },
   {
    "duration": 17,
    "start_time": "2023-10-18T16:18:06.209Z"
   },
   {
    "duration": 2997,
    "start_time": "2023-10-18T16:18:06.228Z"
   },
   {
    "duration": 9,
    "start_time": "2023-10-18T16:18:15.093Z"
   },
   {
    "duration": 164,
    "start_time": "2023-10-18T16:18:15.852Z"
   },
   {
    "duration": 7,
    "start_time": "2023-10-18T16:18:19.062Z"
   },
   {
    "duration": 163,
    "start_time": "2023-10-18T16:18:22.059Z"
   },
   {
    "duration": 179,
    "start_time": "2023-10-18T16:18:43.819Z"
   },
   {
    "duration": 19,
    "start_time": "2023-10-18T16:19:16.245Z"
   },
   {
    "duration": 7,
    "start_time": "2023-10-18T16:19:26.100Z"
   },
   {
    "duration": 69,
    "start_time": "2023-10-18T16:19:40.359Z"
   },
   {
    "duration": 10,
    "start_time": "2023-10-18T16:20:01.912Z"
   },
   {
    "duration": 9,
    "start_time": "2023-10-18T16:20:07.371Z"
   },
   {
    "duration": 8,
    "start_time": "2023-10-18T16:20:32.581Z"
   },
   {
    "duration": 6,
    "start_time": "2023-10-18T16:20:49.186Z"
   },
   {
    "duration": 6,
    "start_time": "2023-10-18T16:21:02.485Z"
   },
   {
    "duration": 17,
    "start_time": "2023-10-18T16:21:54.082Z"
   },
   {
    "duration": 8,
    "start_time": "2023-10-18T16:22:04.971Z"
   },
   {
    "duration": 10,
    "start_time": "2023-10-18T16:22:15.825Z"
   },
   {
    "duration": 11,
    "start_time": "2023-10-18T16:22:48.853Z"
   },
   {
    "duration": 200,
    "start_time": "2023-10-18T16:23:08.003Z"
   },
   {
    "duration": 184,
    "start_time": "2023-10-18T16:23:18.557Z"
   },
   {
    "duration": 234,
    "start_time": "2023-10-18T16:23:39.819Z"
   },
   {
    "duration": 251,
    "start_time": "2023-10-18T16:23:44.807Z"
   },
   {
    "duration": 286,
    "start_time": "2023-10-18T16:24:52.814Z"
   },
   {
    "duration": 13,
    "start_time": "2023-10-18T16:25:22.909Z"
   },
   {
    "duration": 10,
    "start_time": "2023-10-18T16:25:32.383Z"
   },
   {
    "duration": 11,
    "start_time": "2023-10-18T16:27:40.607Z"
   },
   {
    "duration": 11,
    "start_time": "2023-10-18T16:27:42.396Z"
   },
   {
    "duration": 13,
    "start_time": "2023-10-18T16:27:56.883Z"
   },
   {
    "duration": 263,
    "start_time": "2023-10-18T16:28:11.181Z"
   },
   {
    "duration": 273,
    "start_time": "2023-10-18T16:28:29.755Z"
   },
   {
    "duration": 4,
    "start_time": "2023-10-18T16:38:45.369Z"
   },
   {
    "duration": 1545,
    "start_time": "2023-10-18T16:40:32.959Z"
   },
   {
    "duration": 59,
    "start_time": "2023-10-18T16:40:34.505Z"
   },
   {
    "duration": 9,
    "start_time": "2023-10-18T16:40:34.566Z"
   },
   {
    "duration": 13,
    "start_time": "2023-10-18T16:40:34.577Z"
   },
   {
    "duration": 322,
    "start_time": "2023-10-18T16:40:34.592Z"
   },
   {
    "duration": 179,
    "start_time": "2023-10-18T16:40:34.916Z"
   },
   {
    "duration": 342,
    "start_time": "2023-10-18T16:40:35.096Z"
   },
   {
    "duration": 952,
    "start_time": "2023-10-18T16:40:35.440Z"
   },
   {
    "duration": 404,
    "start_time": "2023-10-18T16:40:36.393Z"
   },
   {
    "duration": 9,
    "start_time": "2023-10-18T16:40:36.798Z"
   },
   {
    "duration": 5062,
    "start_time": "2023-10-18T16:40:40.568Z"
   },
   {
    "duration": 8,
    "start_time": "2023-10-18T16:40:56.290Z"
   },
   {
    "duration": 3,
    "start_time": "2023-10-18T16:41:28.174Z"
   },
   {
    "duration": 8185,
    "start_time": "2023-10-18T16:42:12.674Z"
   },
   {
    "duration": 36116,
    "start_time": "2023-10-18T16:42:48.209Z"
   },
   {
    "duration": 1828,
    "start_time": "2023-10-18T17:03:40.189Z"
   },
   {
    "duration": 59,
    "start_time": "2023-10-18T17:03:42.019Z"
   },
   {
    "duration": 77,
    "start_time": "2023-10-18T17:03:42.079Z"
   },
   {
    "duration": 111,
    "start_time": "2023-10-18T17:03:42.158Z"
   },
   {
    "duration": 370,
    "start_time": "2023-10-18T17:03:42.272Z"
   },
   {
    "duration": 174,
    "start_time": "2023-10-18T17:03:42.644Z"
   },
   {
    "duration": 382,
    "start_time": "2023-10-18T17:03:42.823Z"
   },
   {
    "duration": 929,
    "start_time": "2023-10-18T17:03:43.207Z"
   },
   {
    "duration": 399,
    "start_time": "2023-10-18T17:03:44.138Z"
   },
   {
    "duration": 10,
    "start_time": "2023-10-18T17:03:44.539Z"
   },
   {
    "duration": 2376,
    "start_time": "2023-10-18T17:03:44.551Z"
   },
   {
    "duration": 1124,
    "start_time": "2023-10-18T17:04:08.704Z"
   },
   {
    "duration": 1051,
    "start_time": "2023-10-18T17:04:18.673Z"
   },
   {
    "duration": 5925,
    "start_time": "2023-10-18T17:04:26.924Z"
   },
   {
    "duration": 8,
    "start_time": "2023-10-18T17:05:54.062Z"
   },
   {
    "duration": 1500,
    "start_time": "2023-10-18T17:08:22.023Z"
   },
   {
    "duration": 56,
    "start_time": "2023-10-18T17:08:23.525Z"
   },
   {
    "duration": 10,
    "start_time": "2023-10-18T17:08:23.583Z"
   },
   {
    "duration": 37,
    "start_time": "2023-10-18T17:08:23.595Z"
   },
   {
    "duration": 300,
    "start_time": "2023-10-18T17:08:23.633Z"
   },
   {
    "duration": 160,
    "start_time": "2023-10-18T17:08:23.935Z"
   },
   {
    "duration": 317,
    "start_time": "2023-10-18T17:08:24.096Z"
   },
   {
    "duration": 930,
    "start_time": "2023-10-18T17:08:24.415Z"
   },
   {
    "duration": 383,
    "start_time": "2023-10-18T17:08:25.347Z"
   },
   {
    "duration": 10,
    "start_time": "2023-10-18T17:08:25.732Z"
   },
   {
    "duration": 1383,
    "start_time": "2023-10-18T17:08:25.744Z"
   },
   {
    "duration": 284,
    "start_time": "2023-10-18T17:08:27.131Z"
   },
   {
    "duration": 0,
    "start_time": "2023-10-18T17:08:27.424Z"
   },
   {
    "duration": 0,
    "start_time": "2023-10-18T17:08:27.426Z"
   },
   {
    "duration": 0,
    "start_time": "2023-10-18T17:08:27.427Z"
   },
   {
    "duration": 0,
    "start_time": "2023-10-18T17:08:27.428Z"
   },
   {
    "duration": 0,
    "start_time": "2023-10-18T17:08:27.429Z"
   },
   {
    "duration": 0,
    "start_time": "2023-10-18T17:08:27.430Z"
   },
   {
    "duration": 0,
    "start_time": "2023-10-18T17:08:27.431Z"
   },
   {
    "duration": 0,
    "start_time": "2023-10-18T17:08:27.432Z"
   },
   {
    "duration": 4,
    "start_time": "2023-10-18T17:09:17.561Z"
   },
   {
    "duration": 1048,
    "start_time": "2023-10-18T17:09:39.151Z"
   },
   {
    "duration": 5900,
    "start_time": "2023-10-18T17:09:54.000Z"
   },
   {
    "duration": 76462,
    "start_time": "2023-10-18T17:10:04.516Z"
   },
   {
    "duration": 9763,
    "start_time": "2023-10-18T17:11:20.980Z"
   },
   {
    "duration": 13580,
    "start_time": "2023-10-18T17:11:30.745Z"
   },
   {
    "duration": 9,
    "start_time": "2023-10-18T17:11:44.328Z"
   },
   {
    "duration": 163,
    "start_time": "2023-10-18T17:11:44.339Z"
   },
   {
    "duration": 28,
    "start_time": "2023-10-18T17:11:44.504Z"
   },
   {
    "duration": 547,
    "start_time": "2023-10-18T17:11:44.534Z"
   },
   {
    "duration": 10,
    "start_time": "2023-10-18T17:14:44.592Z"
   },
   {
    "duration": 9,
    "start_time": "2023-10-18T17:16:30.498Z"
   },
   {
    "duration": 151,
    "start_time": "2023-10-18T17:16:31.313Z"
   },
   {
    "duration": 9,
    "start_time": "2023-10-18T17:17:47.439Z"
   },
   {
    "duration": 267,
    "start_time": "2023-10-18T17:17:52.508Z"
   },
   {
    "duration": 127021,
    "start_time": "2023-10-18T17:18:52.191Z"
   },
   {
    "duration": 9488,
    "start_time": "2023-10-18T17:20:59.214Z"
   },
   {
    "duration": 48,
    "start_time": "2023-10-18T17:24:21.705Z"
   },
   {
    "duration": 3,
    "start_time": "2023-10-18T17:27:17.746Z"
   },
   {
    "duration": 23,
    "start_time": "2023-10-18T17:27:50.031Z"
   },
   {
    "duration": 3,
    "start_time": "2023-10-18T17:28:21.279Z"
   },
   {
    "duration": 14,
    "start_time": "2023-10-18T17:28:21.888Z"
   },
   {
    "duration": 12,
    "start_time": "2023-10-18T17:29:41.870Z"
   },
   {
    "duration": 16,
    "start_time": "2023-10-18T17:30:41.043Z"
   },
   {
    "duration": 11,
    "start_time": "2023-10-18T17:31:59.711Z"
   },
   {
    "duration": 198,
    "start_time": "2023-10-18T17:32:09.250Z"
   },
   {
    "duration": 91,
    "start_time": "2023-10-18T17:34:21.381Z"
   },
   {
    "duration": 166,
    "start_time": "2023-10-18T17:34:50.264Z"
   },
   {
    "duration": 168,
    "start_time": "2023-10-18T17:35:26.462Z"
   },
   {
    "duration": 150,
    "start_time": "2023-10-18T17:35:38.620Z"
   },
   {
    "duration": 6,
    "start_time": "2023-10-18T17:35:57.048Z"
   },
   {
    "duration": 571,
    "start_time": "2023-10-18T17:36:32.075Z"
   },
   {
    "duration": 582,
    "start_time": "2023-10-18T17:37:00.653Z"
   },
   {
    "duration": 2235,
    "start_time": "2023-10-18T17:37:12.765Z"
   },
   {
    "duration": 658,
    "start_time": "2023-10-18T17:37:28.766Z"
   },
   {
    "duration": 636,
    "start_time": "2023-10-18T17:37:51.290Z"
   },
   {
    "duration": 586,
    "start_time": "2023-10-18T17:38:07.681Z"
   },
   {
    "duration": 4,
    "start_time": "2023-10-18T17:38:17.153Z"
   },
   {
    "duration": 17,
    "start_time": "2023-10-18T17:39:12.600Z"
   },
   {
    "duration": 568,
    "start_time": "2023-10-18T17:40:54.376Z"
   },
   {
    "duration": 12,
    "start_time": "2023-10-18T17:41:43.569Z"
   },
   {
    "duration": 17,
    "start_time": "2023-10-18T17:41:48.503Z"
   },
   {
    "duration": 3,
    "start_time": "2023-10-18T17:42:19.847Z"
   },
   {
    "duration": 829,
    "start_time": "2023-10-18T17:42:20.117Z"
   },
   {
    "duration": 702,
    "start_time": "2023-10-18T17:42:33.338Z"
   },
   {
    "duration": 579,
    "start_time": "2023-10-18T17:42:41.086Z"
   },
   {
    "duration": 428,
    "start_time": "2023-10-18T17:42:50.078Z"
   },
   {
    "duration": 3,
    "start_time": "2023-10-18T17:43:28.804Z"
   },
   {
    "duration": 4,
    "start_time": "2023-10-18T17:43:36.153Z"
   },
   {
    "duration": 4158,
    "start_time": "2023-10-18T17:44:06.497Z"
   },
   {
    "duration": 4663,
    "start_time": "2023-10-18T17:44:17.088Z"
   },
   {
    "duration": 619,
    "start_time": "2023-10-18T17:44:27.626Z"
   },
   {
    "duration": 656,
    "start_time": "2023-10-18T17:44:37.292Z"
   },
   {
    "duration": 596,
    "start_time": "2023-10-18T17:45:21.752Z"
   },
   {
    "duration": 586,
    "start_time": "2023-10-18T17:45:22.570Z"
   },
   {
    "duration": 18,
    "start_time": "2023-10-18T17:49:33.473Z"
   },
   {
    "duration": 55407,
    "start_time": "2023-10-18T17:50:09.840Z"
   },
   {
    "duration": 515728,
    "start_time": "2023-10-18T17:54:41.544Z"
   },
   {
    "duration": 4,
    "start_time": "2023-10-18T18:06:16.947Z"
   },
   {
    "duration": 6,
    "start_time": "2023-10-18T18:06:29.510Z"
   },
   {
    "duration": 5,
    "start_time": "2023-10-18T18:06:43.430Z"
   },
   {
    "duration": 9,
    "start_time": "2023-10-18T18:07:09.585Z"
   },
   {
    "duration": 4,
    "start_time": "2023-10-18T18:07:29.245Z"
   },
   {
    "duration": 6,
    "start_time": "2023-10-18T18:07:34.684Z"
   },
   {
    "duration": 54359,
    "start_time": "2023-10-18T18:08:02.393Z"
   },
   {
    "duration": 5,
    "start_time": "2023-10-18T18:09:17.474Z"
   },
   {
    "duration": 4,
    "start_time": "2023-10-18T18:09:31.992Z"
   },
   {
    "duration": 529823,
    "start_time": "2023-10-18T18:10:12.051Z"
   },
   {
    "duration": 6,
    "start_time": "2023-10-18T18:22:22.650Z"
   },
   {
    "duration": 6,
    "start_time": "2023-10-18T18:22:23.432Z"
   },
   {
    "duration": 4,
    "start_time": "2023-10-18T18:24:04.557Z"
   },
   {
    "duration": 3,
    "start_time": "2023-10-18T18:24:07.405Z"
   },
   {
    "duration": 4,
    "start_time": "2023-10-18T18:24:09.330Z"
   },
   {
    "duration": 382,
    "start_time": "2023-10-18T18:24:26.376Z"
   },
   {
    "duration": 589,
    "start_time": "2023-10-18T18:24:42.651Z"
   },
   {
    "duration": 4,
    "start_time": "2023-10-18T18:25:02.677Z"
   },
   {
    "duration": 5,
    "start_time": "2023-10-18T18:26:02.641Z"
   },
   {
    "duration": 5,
    "start_time": "2023-10-18T18:26:55.120Z"
   },
   {
    "duration": 31,
    "start_time": "2023-10-18T18:28:02.986Z"
   },
   {
    "duration": 4,
    "start_time": "2023-10-18T18:28:13.752Z"
   },
   {
    "duration": 6,
    "start_time": "2023-10-18T18:28:35.188Z"
   },
   {
    "duration": 3,
    "start_time": "2023-10-18T18:28:44.159Z"
   },
   {
    "duration": 37,
    "start_time": "2023-10-18T18:29:02.401Z"
   },
   {
    "duration": 1606,
    "start_time": "2023-10-18T18:30:23.377Z"
   },
   {
    "duration": 56,
    "start_time": "2023-10-18T18:30:24.985Z"
   },
   {
    "duration": 10,
    "start_time": "2023-10-18T18:30:25.043Z"
   },
   {
    "duration": 19,
    "start_time": "2023-10-18T18:30:25.055Z"
   },
   {
    "duration": 397,
    "start_time": "2023-10-18T18:30:25.077Z"
   },
   {
    "duration": 88,
    "start_time": "2023-10-18T18:30:25.476Z"
   },
   {
    "duration": 358,
    "start_time": "2023-10-18T18:30:25.566Z"
   },
   {
    "duration": 964,
    "start_time": "2023-10-18T18:30:25.926Z"
   },
   {
    "duration": 391,
    "start_time": "2023-10-18T18:30:26.892Z"
   },
   {
    "duration": 11,
    "start_time": "2023-10-18T18:30:30.361Z"
   },
   {
    "duration": 1598,
    "start_time": "2023-10-18T18:35:18.378Z"
   },
   {
    "duration": 61,
    "start_time": "2023-10-18T18:35:19.978Z"
   },
   {
    "duration": 10,
    "start_time": "2023-10-18T18:35:20.041Z"
   },
   {
    "duration": 30,
    "start_time": "2023-10-18T18:35:20.053Z"
   },
   {
    "duration": 443,
    "start_time": "2023-10-18T18:35:20.087Z"
   },
   {
    "duration": 89,
    "start_time": "2023-10-18T18:35:20.532Z"
   },
   {
    "duration": 332,
    "start_time": "2023-10-18T18:35:20.624Z"
   },
   {
    "duration": 908,
    "start_time": "2023-10-18T18:35:20.958Z"
   },
   {
    "duration": 400,
    "start_time": "2023-10-18T18:35:21.868Z"
   },
   {
    "duration": 12,
    "start_time": "2023-10-18T18:35:22.270Z"
   },
   {
    "duration": 115547,
    "start_time": "2023-10-18T18:35:25.792Z"
   },
   {
    "duration": 1825,
    "start_time": "2023-10-18T18:37:36.935Z"
   },
   {
    "duration": 60,
    "start_time": "2023-10-18T18:37:38.762Z"
   },
   {
    "duration": 9,
    "start_time": "2023-10-18T18:37:38.824Z"
   },
   {
    "duration": 25,
    "start_time": "2023-10-18T18:37:38.835Z"
   },
   {
    "duration": 400,
    "start_time": "2023-10-18T18:37:38.862Z"
   },
   {
    "duration": 94,
    "start_time": "2023-10-18T18:37:39.263Z"
   },
   {
    "duration": 321,
    "start_time": "2023-10-18T18:37:39.359Z"
   },
   {
    "duration": 982,
    "start_time": "2023-10-18T18:37:39.682Z"
   },
   {
    "duration": 415,
    "start_time": "2023-10-18T18:37:40.666Z"
   },
   {
    "duration": 11,
    "start_time": "2023-10-18T18:37:41.083Z"
   },
   {
    "duration": 574303,
    "start_time": "2023-10-18T18:37:49.679Z"
   },
   {
    "duration": 6,
    "start_time": "2023-10-18T18:49:02.019Z"
   },
   {
    "duration": 6,
    "start_time": "2023-10-18T18:49:15.360Z"
   },
   {
    "duration": 8,
    "start_time": "2023-10-18T18:49:55.767Z"
   },
   {
    "duration": 29,
    "start_time": "2023-10-18T18:50:08.014Z"
   },
   {
    "duration": 12280,
    "start_time": "2023-10-18T18:50:35.572Z"
   },
   {
    "duration": 163571,
    "start_time": "2023-10-18T18:50:50.954Z"
   },
   {
    "duration": 5,
    "start_time": "2023-10-18T18:53:39.053Z"
   },
   {
    "duration": 6,
    "start_time": "2023-10-18T18:54:13.488Z"
   },
   {
    "duration": 6,
    "start_time": "2023-10-18T18:54:17.051Z"
   },
   {
    "duration": 6,
    "start_time": "2023-10-18T18:54:23.030Z"
   },
   {
    "duration": 4,
    "start_time": "2023-10-18T18:55:37.216Z"
   },
   {
    "duration": 5,
    "start_time": "2023-10-18T18:56:05.269Z"
   },
   {
    "duration": 4,
    "start_time": "2023-10-18T18:56:12.442Z"
   },
   {
    "duration": 304,
    "start_time": "2023-10-18T19:04:36.110Z"
   },
   {
    "duration": 399,
    "start_time": "2023-10-18T19:04:42.889Z"
   },
   {
    "duration": 1719,
    "start_time": "2023-10-18T19:05:58.142Z"
   },
   {
    "duration": 59,
    "start_time": "2023-10-18T19:05:59.864Z"
   },
   {
    "duration": 9,
    "start_time": "2023-10-18T19:05:59.925Z"
   },
   {
    "duration": 20,
    "start_time": "2023-10-18T19:05:59.937Z"
   },
   {
    "duration": 410,
    "start_time": "2023-10-18T19:05:59.959Z"
   },
   {
    "duration": 117,
    "start_time": "2023-10-18T19:06:00.372Z"
   },
   {
    "duration": 437,
    "start_time": "2023-10-18T19:06:00.491Z"
   },
   {
    "duration": 965,
    "start_time": "2023-10-18T19:06:00.929Z"
   },
   {
    "duration": 457,
    "start_time": "2023-10-18T19:06:01.896Z"
   },
   {
    "duration": 9,
    "start_time": "2023-10-18T19:06:02.355Z"
   },
   {
    "duration": 1460,
    "start_time": "2023-10-18T19:06:02.365Z"
   },
   {
    "duration": 1062,
    "start_time": "2023-10-18T19:06:03.923Z"
   },
   {
    "duration": 5937,
    "start_time": "2023-10-18T19:06:04.987Z"
   },
   {
    "duration": 129617,
    "start_time": "2023-10-18T19:06:10.926Z"
   },
   {
    "duration": 9270,
    "start_time": "2023-10-18T19:08:20.545Z"
   },
   {
    "duration": 9411,
    "start_time": "2023-10-18T19:08:29.817Z"
   },
   {
    "duration": 443,
    "start_time": "2023-10-18T19:08:39.229Z"
   },
   {
    "duration": 546,
    "start_time": "2023-10-18T19:08:39.724Z"
   },
   {
    "duration": 514559,
    "start_time": "2023-10-18T19:08:40.324Z"
   },
   {
    "duration": 0,
    "start_time": "2023-10-18T19:17:14.885Z"
   },
   {
    "duration": 0,
    "start_time": "2023-10-18T19:17:14.886Z"
   },
   {
    "duration": 0,
    "start_time": "2023-10-18T19:17:14.888Z"
   },
   {
    "duration": 0,
    "start_time": "2023-10-18T19:17:14.889Z"
   },
   {
    "duration": 0,
    "start_time": "2023-10-18T19:17:14.890Z"
   },
   {
    "duration": 0,
    "start_time": "2023-10-18T19:17:14.892Z"
   },
   {
    "duration": 6,
    "start_time": "2023-10-18T19:17:31.949Z"
   },
   {
    "duration": 6,
    "start_time": "2023-10-18T19:17:34.525Z"
   },
   {
    "duration": 8,
    "start_time": "2023-10-18T19:17:38.234Z"
   },
   {
    "duration": 143,
    "start_time": "2023-10-18T19:17:42.184Z"
   },
   {
    "duration": 10,
    "start_time": "2023-10-18T19:17:45.274Z"
   },
   {
    "duration": 262,
    "start_time": "2023-10-18T19:17:48.085Z"
   },
   {
    "duration": 1928,
    "start_time": "2023-10-20T16:14:55.031Z"
   },
   {
    "duration": 126,
    "start_time": "2023-10-20T16:14:56.961Z"
   },
   {
    "duration": 11,
    "start_time": "2023-10-20T16:14:57.088Z"
   },
   {
    "duration": 22,
    "start_time": "2023-10-20T16:14:57.100Z"
   },
   {
    "duration": 382,
    "start_time": "2023-10-20T16:14:57.124Z"
   },
   {
    "duration": 95,
    "start_time": "2023-10-20T16:14:57.508Z"
   },
   {
    "duration": 342,
    "start_time": "2023-10-20T16:14:57.605Z"
   },
   {
    "duration": 1040,
    "start_time": "2023-10-20T16:14:57.949Z"
   },
   {
    "duration": 410,
    "start_time": "2023-10-20T16:14:58.991Z"
   },
   {
    "duration": 6,
    "start_time": "2023-10-20T16:14:59.404Z"
   },
   {
    "duration": 1477,
    "start_time": "2023-10-20T16:36:22.941Z"
   },
   {
    "duration": 1262,
    "start_time": "2023-10-20T16:37:43.841Z"
   },
   {
    "duration": 1153,
    "start_time": "2023-10-20T16:38:10.950Z"
   },
   {
    "duration": 1148,
    "start_time": "2023-10-20T16:40:29.663Z"
   },
   {
    "duration": 1146,
    "start_time": "2023-10-20T16:41:53.364Z"
   },
   {
    "duration": 1247,
    "start_time": "2023-10-20T16:43:04.429Z"
   },
   {
    "duration": 7192,
    "start_time": "2023-10-20T16:44:07.254Z"
   },
   {
    "duration": 10740,
    "start_time": "2023-10-20T16:45:05.378Z"
   },
   {
    "duration": 15,
    "start_time": "2023-10-20T16:45:57.019Z"
   },
   {
    "duration": 198697,
    "start_time": "2023-10-20T16:46:18.359Z"
   },
   {
    "duration": 0,
    "start_time": "2023-10-20T16:49:37.058Z"
   },
   {
    "duration": 14,
    "start_time": "2023-10-20T16:49:41.458Z"
   },
   {
    "duration": 7,
    "start_time": "2023-10-20T16:52:52.287Z"
   },
   {
    "duration": 12,
    "start_time": "2023-10-20T16:52:55.455Z"
   },
   {
    "duration": 626005,
    "start_time": "2023-10-20T16:54:24.756Z"
   },
   {
    "duration": 8,
    "start_time": "2023-10-20T17:05:26.549Z"
   },
   {
    "duration": 1164,
    "start_time": "2023-10-20T17:06:35.939Z"
   },
   {
    "duration": 1222,
    "start_time": "2023-10-20T17:06:37.938Z"
   },
   {
    "duration": 7113,
    "start_time": "2023-10-20T17:06:39.179Z"
   },
   {
    "duration": 9923,
    "start_time": "2023-10-20T17:06:46.294Z"
   },
   {
    "duration": 10,
    "start_time": "2023-10-20T17:07:30.427Z"
   },
   {
    "duration": 9,
    "start_time": "2023-10-20T17:08:04.487Z"
   },
   {
    "duration": 157,
    "start_time": "2023-10-20T17:08:07.098Z"
   },
   {
    "duration": 13,
    "start_time": "2023-10-20T17:08:11.758Z"
   },
   {
    "duration": 577,
    "start_time": "2023-10-20T17:08:47.363Z"
   },
   {
    "duration": 744,
    "start_time": "2023-10-20T17:09:11.386Z"
   },
   {
    "duration": 754,
    "start_time": "2023-10-20T17:09:18.868Z"
   },
   {
    "duration": 468,
    "start_time": "2023-10-20T17:09:44.554Z"
   },
   {
    "duration": 689,
    "start_time": "2023-10-20T17:09:50.641Z"
   },
   {
    "duration": 488,
    "start_time": "2023-10-20T17:09:55.953Z"
   },
   {
    "duration": 6,
    "start_time": "2023-10-20T17:13:52.803Z"
   },
   {
    "duration": 42281,
    "start_time": "2023-10-20T17:14:00.679Z"
   },
   {
    "duration": 4,
    "start_time": "2023-10-20T17:15:02.792Z"
   },
   {
    "duration": 4,
    "start_time": "2023-10-20T17:15:14.927Z"
   },
   {
    "duration": 42090,
    "start_time": "2023-10-20T17:15:20.238Z"
   },
   {
    "duration": 41101,
    "start_time": "2023-10-20T17:17:54.404Z"
   },
   {
    "duration": 1740,
    "start_time": "2023-10-20T17:19:13.940Z"
   },
   {
    "duration": 60,
    "start_time": "2023-10-20T17:19:15.681Z"
   },
   {
    "duration": 11,
    "start_time": "2023-10-20T17:19:15.743Z"
   },
   {
    "duration": 25,
    "start_time": "2023-10-20T17:19:15.756Z"
   },
   {
    "duration": 390,
    "start_time": "2023-10-20T17:19:15.784Z"
   },
   {
    "duration": 98,
    "start_time": "2023-10-20T17:19:16.177Z"
   },
   {
    "duration": 345,
    "start_time": "2023-10-20T17:19:16.277Z"
   },
   {
    "duration": 947,
    "start_time": "2023-10-20T17:19:16.624Z"
   },
   {
    "duration": 430,
    "start_time": "2023-10-20T17:19:17.574Z"
   },
   {
    "duration": 8,
    "start_time": "2023-10-20T17:19:18.006Z"
   },
   {
    "duration": 1294,
    "start_time": "2023-10-20T17:19:18.016Z"
   },
   {
    "duration": 1262,
    "start_time": "2023-10-20T17:19:19.403Z"
   },
   {
    "duration": 7254,
    "start_time": "2023-10-20T17:19:20.667Z"
   },
   {
    "duration": 14090,
    "start_time": "2023-10-20T17:19:27.925Z"
   },
   {
    "duration": 11,
    "start_time": "2023-10-20T17:19:42.017Z"
   },
   {
    "duration": 217,
    "start_time": "2023-10-20T17:19:42.030Z"
   },
   {
    "duration": 12,
    "start_time": "2023-10-20T17:19:42.249Z"
   },
   {
    "duration": 308,
    "start_time": "2023-10-20T17:19:42.262Z"
   },
   {
    "duration": 9,
    "start_time": "2023-10-20T17:26:53.130Z"
   },
   {
    "duration": 140,
    "start_time": "2023-10-20T17:27:01.934Z"
   }
  ],
  "kernelspec": {
   "display_name": "Python 3 (ipykernel)",
   "language": "python",
   "name": "python3"
  },
  "language_info": {
   "codemirror_mode": {
    "name": "ipython",
    "version": 3
   },
   "file_extension": ".py",
   "mimetype": "text/x-python",
   "name": "python",
   "nbconvert_exporter": "python",
   "pygments_lexer": "ipython3",
   "version": "3.9.5"
  },
  "toc": {
   "base_numbering": 1,
   "nav_menu": {},
   "number_sections": true,
   "sideBar": true,
   "skip_h1_title": true,
   "title_cell": "Содержание",
   "title_sidebar": "Contents",
   "toc_cell": true,
   "toc_position": {
    "height": "calc(100% - 180px)",
    "left": "10px",
    "top": "150px",
    "width": "177px"
   },
   "toc_section_display": true,
   "toc_window_display": true
  }
 },
 "nbformat": 4,
 "nbformat_minor": 2
}
